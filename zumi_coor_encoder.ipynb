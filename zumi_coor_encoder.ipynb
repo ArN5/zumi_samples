{
 "cells": [
  {
   "cell_type": "code",
   "execution_count": 16,
   "metadata": {},
   "outputs": [
    {
     "name": "stdout",
     "output_type": "stream",
     "text": [
      "Pi Zero I2C is available\n",
      "Gyro offset file already exists.\n",
      "Verified Pi Zero is the same\n",
      "Gyroscope previously calibrated\n",
      "4.0  volts\n"
     ]
    }
   ],
   "source": [
    "from zumi.zumi import Zumi\n",
    "import matplotlib.pyplot as plt\n",
    "import numpy as np\n",
    "import time\n",
    "\n",
    "zumi = Zumi()\n",
    "print(zumi.get_battery_voltage(),\" volts\")\n",
    "zumi.MIN_I2C_DELAY = 0\n",
    "current_x = 0\n",
    "current_y = 0"
   ]
  },
  {
   "cell_type": "code",
   "execution_count": 19,
   "metadata": {},
   "outputs": [],
   "source": [
    "def calc_heading_and_time_coordinate(desired_x,desired_y):\n",
    "    global current_x, current_y\n",
    "    def\n",
    "    y_intercept = 2.54\n",
    "    slope = 15.24\n",
    "    #slope is the speed Zumi \n",
    "    #travels at, in centimeters per second\n",
    "    \n",
    "    dx = desired_x - current_x\n",
    "    dy = desired_y - current_y\n",
    "    \n",
    "    #find the angle\n",
    "    angle = math.degrees(math.atan2(dy,dx)) \n",
    "    \n",
    "    #find the distance to the coordinate\n",
    "    distance = math.hypot(dy,dx)\n",
    "    \n",
    "    #calculate how much time in seconds \n",
    "    #it takes to travel the distance in centimeters\n",
    "    duration = (distance + y_intercept)/slope\n",
    "    \n",
    "    #update the coordinates\n",
    "    current_x = desired_x\n",
    "    current_y = desired_y\n",
    "\n",
    "    return distance, duration, angle\n",
    "\n",
    "    \n",
    "def move_cm_blocks(distance_cm,time_out,angle):\n",
    "    # each white brick is 2cmx5cm \n",
    "    # we are traveling toward the \n",
    "    # brick from the 2cm length\n",
    "    # from end of one white brick\n",
    "    # to the end of another white brick\n",
    "    # is roughly 4 cm\n",
    "    cm_per_brick = 4\n",
    "    #the amount of bricks you wish to cross over\n",
    "    number_of_bricks = int(distance_cm/cm_per_brick)\n",
    "    print(distance_cm)\n",
    "    print(number_of_bricks)\n",
    "    print(time_out)\n",
    "    motor_speed = 40\n",
    "    ir_threshold = 140\n",
    "    zumi.turn(angle)\n",
    "\n",
    "    init_time = time.time()\n",
    "\n",
    "    #create list for the readings to be graphed\n",
    "    time_list = []\n",
    "    left_list = []\n",
    "    right_list = []\n",
    "    r_ir_list = []\n",
    "    l_ir_list = []\n",
    "    BRIR_list = []\n",
    "    BLIR_list = []\n",
    "    diff_lr= []\n",
    "    \n",
    "    #create variables for calculating derivative\n",
    "    BLI_past = 0\n",
    "    BRI_past = 0\n",
    "\n",
    "    DBLI = 0\n",
    "    DBRI = 0\n",
    "\n",
    "    LBRICKS = 0\n",
    "    RBRICKS = 0\n",
    "\n",
    "    time_passed = 0\n",
    "    time_first_brick = 0\n",
    "\n",
    "    while(True):\n",
    "\n",
    "        zumi.go_straight(40,angle)\n",
    "\n",
    "        ir_readings = zumi.get_all_IR_data()\n",
    "        bottom_right_ir = ir_readings[1]\n",
    "        bottom_left_ir = ir_readings[3]\n",
    "\n",
    "        #filter the bottom ir sensors\n",
    "        if bottom_right_ir > 110:\n",
    "            BRI = 1 # binary left ir  \n",
    "        else:\n",
    "            BRI = 0    \n",
    "        if bottom_left_ir > 110:\n",
    "            BLI = 1 # binary right ir   \n",
    "        else:\n",
    "            BLI = 0\n",
    "        \n",
    "    \n",
    "        #change in right ir and left ir   \n",
    "        DBRI = BLI - BLI_past\n",
    "        DBLI = BRI - BRI_past\n",
    "    \n",
    "        if DBLI == -1:#falling edge or end of brick\n",
    "            LBRICKS = LBRICKS + 1\n",
    "        if DBRI == -1:#falling edge or end of brick\n",
    "            RBRICKS = RBRICKS + 1\n",
    "\n",
    "        #update past Binary Left IR (BLI) and Binary Right IR (BRI)\n",
    "        BLI_past = BLI\n",
    "        BRI_past = BRI\n",
    "    \n",
    "        time_passed = time.time()-init_time\n",
    "    \n",
    "        #measure the moment when the end of \n",
    "        #the first white brick has been detected\n",
    "        if DBLI == -1 and LBRICKS ==1:\n",
    "            time_first_brick = time_passed\n",
    "            \n",
    "        DIFF_LR = (bottom_left_ir-bottom_right_ir)/255\n",
    "            \n",
    "        #add data to lists\n",
    "        BLIR_list.append(BLI)\n",
    "        BRIR_list.append(BRI)\n",
    "        time_list.append(time_passed)\n",
    "        right_list.append(RBRICKS)\n",
    "        left_list.append(LBRICKS)\n",
    "        r_ir_list.append(bottom_right_ir)\n",
    "        l_ir_list.append(bottom_left_ir)\n",
    "        diff_lr.append(DIFF_LR)\n",
    "        \n",
    "        if time_passed > time_out:\n",
    "            break\n",
    "        if LBRICKS == number_of_bricks:\n",
    "            break\n",
    "        if RBRICKS == number_of_bricks:\n",
    "            break       \n",
    "    \n",
    "    \n",
    "    zumi.hard_brake()\n",
    "    speed_cm_s = (LBRICKS-1)/(time_passed-time_first_brick)*cm_per_brick\n",
    "    print(speed_cm_s, \" cm/seconds ,\",speed_cm_s/2.54, \" inches/second\")\n",
    "    print(\"traveled \",LBRICKS*cm_per_brick, \" cm \",LBRICKS*cm_per_brick/2.54, \" cm \")\n",
    "    print(len(time_list),\" samples ,\", time_passed,\" time passed\")\n",
    "    \n",
    "    plt.plot(time_list,left_list,'ro',time_list,right_list,'bo')\n",
    "    plt.ylabel('white bricks')\n",
    "    plt.xlabel('time')\n",
    "    plt.show()\n",
    "\n",
    "    plt.plot(time_list,l_ir_list,'go',time_list,r_ir_list,'ro')\n",
    "    plt.ylabel('ir values')\n",
    "    plt.xlabel('time')\n",
    "    plt.show()\n",
    "    \n",
    "    plt.plot(time_list,diff_lr,'go')\n",
    "    plt.ylabel('ir diff')\n",
    "    plt.xlabel('time')\n",
    "    plt.show()\n"
   ]
  },
  {
   "cell_type": "code",
   "execution_count": 22,
   "metadata": {},
   "outputs": [
    {
     "name": "stdout",
     "output_type": "stream",
     "text": [
      "Pi Zero I2C is available\n",
      "Gyro offset file already exists.\n",
      "Verified Pi Zero is the same\n",
      "Gyroscope previously calibrated\n",
      "Creating new offset file...\n",
      ".\n",
      ".\n",
      "20.0\n",
      "5\n",
      "1.479002624671916\n",
      "16.421119909482886  cm/seconds , 6.465007838379089  inches/second\n",
      "traveled  20  cm  7.874015748031496  cm \n",
      "77  samples , 1.2087619304656982  time passed\n"
     ]
    },
    {
     "data": {
      "image/png": "[encoded data removed]",
      "text/plain": [
       "<Figure size 432x288 with 1 Axes>"
      ]
     },
     "metadata": {
      "needs_background": "light"
     },
     "output_type": "display_data"
    },
    {
     "data": {
      "image/png": "[encoded data removed]",
      "text/plain": [
       "<Figure size 432x288 with 1 Axes>"
      ]
     },
     "metadata": {
      "needs_background": "light"
     },
     "output_type": "display_data"
    },
    {
     "data": {
      "image/png": "[encoded data removed]",
      "text/plain": [
       "<Figure size 432x288 with 1 Axes>"
      ]
     },
     "metadata": {
      "needs_background": "light"
     },
     "output_type": "display_data"
    }
   ],
   "source": [
    "\n",
    "zumi = Zumi()\n",
    "zumi.mpu.calibrate_MPU()\n",
    "zumi.reset_gyro()\n",
    "\n",
    "\n",
    "current_x = 0\n",
    "current_y = 0\n",
    "\n",
    "l_road = 42\n",
    "\n",
    "distance, travel_time, angle = calc_heading_and_time_coordinate(4*10,0)\n",
    "move_cm_blocks(distance,travel_time,angle)    \n"
   ]
  },
  {
   "cell_type": "code",
   "execution_count": null,
   "metadata": {},
   "outputs": [],
   "source": []
  },
  {
   "cell_type": "code",
   "execution_count": null,
   "metadata": {},
   "outputs": [],
   "source": []
  }
 ],
 "metadata": {
  "kernelspec": {
   "display_name": "Python 3",
   "language": "python",
   "name": "python3"
  },
  "language_info": {
   "codemirror_mode": {
    "name": "ipython",
    "version": 3
   },
   "file_extension": ".py",
   "mimetype": "text/x-python",
   "name": "python",
   "nbconvert_exporter": "python",
   "pygments_lexer": "ipython3",
   "version": "3.5.3"
  }
 },
 "nbformat": 4,
 "nbformat_minor": 2
}
