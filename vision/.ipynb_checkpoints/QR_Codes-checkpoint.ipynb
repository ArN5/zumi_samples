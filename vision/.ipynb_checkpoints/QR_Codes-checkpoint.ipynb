{
 "cells": [
  {
   "cell_type": "markdown",
   "metadata": {},
   "source": [
    "# QR Codes"
   ]
  },
  {
   "cell_type": "code",
   "execution_count": null,
   "metadata": {},
   "outputs": [],
   "source": [
    "import cv2\n",
    "import numpy as np\n",
    "import IPython.display\n",
    "from PIL import Image\n",
    "import time\n",
    "from zumi.util.camera import Camera\n",
    "from zumi.util.vision import Vision\n",
    "vision = Vision()  "
   ]
  },
  {
   "cell_type": "code",
   "execution_count": null,
   "metadata": {},
   "outputs": [],
   "source": [
    "camera = Camera()\n",
    "camera.start_camera()\n",
    "\n",
    "try: \n",
    "    #we do a for loop so that we only take 100 pictures\n",
    "    for i in range(100):\n",
    "        frame = camera.capture()\n",
    "        #this will find a QR code and if it does\n",
    "        #it will draw a pink bounding box\n",
    "        vision.find_QR_code(frame)\n",
    "        IPython.display.display(Image.fromarray(frame))\n",
    "        IPython.display.clear_output(wait=True) \n",
    "finally:\n",
    "    camera.close()\n",
    "    print(\"done\")"
   ]
  },
  {
   "cell_type": "code",
   "execution_count": null,
   "metadata": {},
   "outputs": [],
   "source": [
    "camera = Camera()\n",
    "camera.start_camera()\n",
    "\n",
    "try: \n",
    "    #we do a for loop so that we only take 100 pictures\n",
    "    for i in range(100):\n",
    "        frame = camera.capture()\n",
    "        QR_object = vision.find_QR_code(frame)\n",
    "\n",
    "        if QR_object is not None:\n",
    "            print(\"message \")\n",
    "            print(vision.get_QR_message(QR_object))\n",
    "            print(\"center x and y \")\n",
    "            print(vision.get_QR_center(QR_object))\n",
    "            #print(\"points on polygon \")\n",
    "            #print(vision.get_QR_polygon(QR_object))\n",
    "        else:\n",
    "            print(\"No QR code detected\")\n",
    "            \n",
    "        IPython.display.clear_output(wait=True) \n",
    "finally:\n",
    "    camera.close()"
   ]
  },
  {
   "cell_type": "markdown",
   "metadata": {},
   "source": []
  }
 ],
 "metadata": {
  "kernelspec": {
   "display_name": "Python 3",
   "language": "python",
   "name": "python3"
  },
  "language_info": {
   "codemirror_mode": {
    "name": "ipython",
    "version": 3
   },
   "file_extension": ".py",
   "mimetype": "text/x-python",
   "name": "python",
   "nbconvert_exporter": "python",
   "pygments_lexer": "ipython3",
   "version": "3.5.3"
  }
 },
 "nbformat": 4,
 "nbformat_minor": 2
}
