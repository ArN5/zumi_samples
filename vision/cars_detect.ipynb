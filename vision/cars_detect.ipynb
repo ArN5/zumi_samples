{
 "cells": [
  {
   "cell_type": "code",
   "execution_count": null,
   "metadata": {},
   "outputs": [],
   "source": [
    "from zumi.util.camera import Camera\n",
    "import cv2\n",
    "import IPython.display\n",
    "import PIL.Image\n",
    "from time import sleep\n",
    "car_path = \"car.xml\"\n",
    "#credit https://github.com/andrewssobral/vehicle_detection_haarcascades\n",
    "cascade = cv2.CascadeClassifier(car_path)\n",
    "\n",
    "try:\n",
    "    camera = Camera()\n",
    "    camera.start_camera()\n",
    "    while(1):\n",
    "        frame = camera.capture()\n",
    "        gray = cv2.cvtColor(frame, cv2.COLOR_BGR2GRAY)\n",
    "        signs = cascade.detectMultiScale(gray, scaleFactor=1.05, minNeighbors=8, minSize=(10,10), flags=cv2.CASCADE_SCALE_IMAGE)\n",
    "\n",
    "        for (x,y,w,h) in signs:\n",
    "            cv2.rectangle(frame, (x,y), (x+w, y+h), (0,0,255), 2)\n",
    "        #display the image\n",
    "        IPython.display.display(PIL.Image.fromarray(frame))\n",
    "        #clear the output for the next frame\n",
    "        IPython.display.clear_output(wait=True)\n",
    "        \n",
    "finally:\n",
    "    camera.close()"
   ]
  },
  {
   "cell_type": "code",
   "execution_count": null,
   "metadata": {},
   "outputs": [],
   "source": []
  }
 ],
 "metadata": {
  "kernelspec": {
   "display_name": "Python 3",
   "language": "python",
   "name": "python3"
  },
  "language_info": {
   "codemirror_mode": {
    "name": "ipython",
    "version": 3
   },
   "file_extension": ".py",
   "mimetype": "text/x-python",
   "name": "python",
   "nbconvert_exporter": "python",
   "pygments_lexer": "ipython3",
   "version": "3.5.3"
  }
 },
 "nbformat": 4,
 "nbformat_minor": 2
}
