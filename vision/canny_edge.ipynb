{
 "cells": [
  {
   "cell_type": "code",
   "execution_count": 11,
   "metadata": {},
   "outputs": [
    {
     "name": "stdout",
     "output_type": "stream",
     "text": [
      "Closing PiCamera\n",
      "done\n"
     ]
    }
   ],
   "source": [
    "from zumi.zumi import Zumi\n",
    "from zumi.util.screen import Screen\n",
    "from zumi.util.camera import Camera\n",
    "import PIL.Image\n",
    "import cv2\n",
    "import IPython.display\n",
    "import time\n",
    "import numpy as np\n",
    "\n",
    "\n",
    "#we will use the smallest resolution to speed things up\n",
    "width = 160*2  #width pixel of image\n",
    "height = 128*2 #height pixels of image \n",
    "\n",
    "time_out = 30 #this program should time out after 10 seconds\n",
    "\n",
    "#threholds for canny edge\n",
    "th1 = 100\n",
    "th2 = 300\n",
    "\n",
    "camera = Camera(width,height)\n",
    "camera.start_camera()\n",
    "zumi = Zumi()\n",
    "screen = Screen()\n",
    "\n",
    "#grab the time the program started\n",
    "time_start = time.time()\n",
    "\n",
    "#variable for the amount of time passed\n",
    "time_elapsed = 0\n",
    "\n",
    "try:\n",
    "    #program will continue to loop until the timeout ends\n",
    "    while time_elapsed < time_out:\n",
    "        \n",
    "        #record the amount of time elapsed\n",
    "        time_elapsed = time.time()-time_start\n",
    "        \n",
    "        #take picture\n",
    "        image = camera.capture()\n",
    "        edges = cv2.Canny(image, th1, th2)\n",
    "\n",
    "        edges = cv2.resize(edges, (int(width * 4), int(height * 4)))\n",
    "        \n",
    "        #display the image\n",
    "        IPython.display.display(PIL.Image.fromarray(edges))\n",
    "        #clears out every image before it\n",
    "        IPython.display.clear_output(wait=True)\n",
    "        \n",
    "#you need this finally to stop the camera otherwise the red camera\n",
    "#led will stay on and you wont be able to rerun the program.\n",
    "finally:\n",
    "    camera.close()\n",
    "    print(\"done\")    "
   ]
  },
  {
   "cell_type": "code",
   "execution_count": null,
   "metadata": {},
   "outputs": [],
   "source": []
  }
 ],
 "metadata": {
  "kernelspec": {
   "display_name": "Python 3",
   "language": "python",
   "name": "python3"
  },
  "language_info": {
   "codemirror_mode": {
    "name": "ipython",
    "version": 3
   },
   "file_extension": ".py",
   "mimetype": "text/x-python",
   "name": "python",
   "nbconvert_exporter": "python",
   "pygments_lexer": "ipython3",
   "version": "3.5.3"
  }
 },
 "nbformat": 4,
 "nbformat_minor": 2
}
