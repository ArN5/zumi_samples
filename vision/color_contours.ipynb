{
 "cells": [
  {
   "cell_type": "code",
   "execution_count": 1,
   "metadata": {},
   "outputs": [],
   "source": [
    "#this demo will show how to find the color cards\n",
    "#this uses contours which will allow zumi to\n",
    "#find the location of the cards\n",
    "#currently set to find the red card\n",
    "\n",
    "from zumi.util.camera import Camera\n",
    "import PIL.Image\n",
    "import cv2\n",
    "import IPython.display\n",
    "import time\n",
    "\n",
    "#we will use the smallest resolution to speed things up\n",
    "width = 80\n",
    "height = 60\n",
    "multiple = 1\n",
    "\n",
    "#these colors may vary for you\n",
    "purpleLower = (150, 0, 0)\n",
    "purpleUpper = (180, 255, 255)\n",
    "purple = [purpleLower,purpleUpper]\n",
    "\n",
    "greenLower = (40, 50, 50)\n",
    "greenUpper = (80, 255, 255)\n",
    "green = [greenLower,greenUpper]\n",
    "\n",
    "redLower = (120, 100, 100)\n",
    "redUpper = (130, 255, 255)\n",
    "red = [redLower,redUpper]"
   ]
  },
  {
   "cell_type": "code",
   "execution_count": 3,
   "metadata": {},
   "outputs": [
    {
     "name": "stdout",
     "output_type": "stream",
     "text": [
      "Closing PiCamera\n",
      "done\n"
     ]
    }
   ],
   "source": [
    "color = red\n",
    "\n",
    "try:\n",
    "    camera = Camera(width,height)\n",
    "    camera.start_camera()\n",
    "    for i in range(200):#take 200 frames\n",
    "        time_start = time.time()\n",
    "        image = camera.capture()\n",
    "        hsv = cv2.cvtColor(image, cv2.COLOR_BGR2HSV)\n",
    "        filteredFrame = cv2.inRange(hsv, color[0], color[1])\n",
    "        colorCutout =  cv2.bitwise_and(image, image, mask=filteredFrame)\n",
    "        \n",
    "        contoursArray = cv2.findContours(filteredFrame.copy(), cv2.RETR_EXTERNAL,\n",
    "                            cv2.CHAIN_APPROX_SIMPLE)[-2]\n",
    "        if len(contoursArray) > 0:\n",
    "            contour = contoursArray[-1]\n",
    "            x, y, w, h = cv2.boundingRect(contour)\n",
    "            rectangleColor = (255, 85, 255)\n",
    "            cv2.rectangle(colorCutout, (x, y), (x + w, y + h), rectangleColor, 2)\n",
    "            \n",
    "        resized = cv2.resize(colorCutout, (width*multiple, height*multiple))\n",
    "        IPython.display.display(PIL.Image.fromarray(image))\n",
    "        IPython.display.display(PIL.Image.fromarray(resized))\n",
    "        IPython.display.clear_output(wait=True)\n",
    "finally:\n",
    "    time.sleep(1)\n",
    "    camera.close()\n",
    "    print(\"done\")  "
   ]
  },
  {
   "cell_type": "code",
   "execution_count": 3,
   "metadata": {},
   "outputs": [
    {
     "name": "stdout",
     "output_type": "stream",
     "text": [
      "Closing PiCamera\n",
      "done\n"
     ]
    }
   ],
   "source": [
    "#you can also look for green\n",
    "color = green\n",
    "\n",
    "try:\n",
    "    camera = Camera(width,height)\n",
    "    camera.start_camera()\n",
    "    for i in range(200):#take 200 frames\n",
    "        time_start = time.time()\n",
    "        image = camera.capture()\n",
    "        hsv = cv2.cvtColor(image, cv2.COLOR_BGR2HSV)\n",
    "        filteredFrame = cv2.inRange(hsv, color[0], color[1])\n",
    "        colorCutout =  cv2.bitwise_and(image, image, mask=filteredFrame)\n",
    "        \n",
    "        contoursArray = cv2.findContours(filteredFrame.copy(), cv2.RETR_EXTERNAL,\n",
    "                            cv2.CHAIN_APPROX_SIMPLE)[-2]\n",
    "        if len(contoursArray) > 0:\n",
    "            contour = contoursArray[-1]\n",
    "            x, y, w, h = cv2.boundingRect(contour)\n",
    "            rectangleColor = (255, 85, 255)\n",
    "            cv2.rectangle(colorCutout, (x, y), (x + w, y + h), rectangleColor, 2)\n",
    "            \n",
    "        resized = cv2.resize(colorCutout, (width*multiple, height*multiple))\n",
    "        IPython.display.display(PIL.Image.fromarray(resized))\n",
    "        IPython.display.clear_output(wait=True)\n",
    "finally:\n",
    "    time.sleep(1)\n",
    "    camera.close()\n",
    "    print(\"done\")  "
   ]
  },
  {
   "cell_type": "code",
   "execution_count": null,
   "metadata": {},
   "outputs": [],
   "source": []
  }
 ],
 "metadata": {
  "kernelspec": {
   "display_name": "Python 3",
   "language": "python",
   "name": "python3"
  },
  "language_info": {
   "codemirror_mode": {
    "name": "ipython",
    "version": 3
   },
   "file_extension": ".py",
   "mimetype": "text/x-python",
   "name": "python",
   "nbconvert_exporter": "python",
   "pygments_lexer": "ipython3",
   "version": "3.5.3"
  }
 },
 "nbformat": 4,
 "nbformat_minor": 2
}
