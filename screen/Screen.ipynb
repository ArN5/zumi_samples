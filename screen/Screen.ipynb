{
 "cells": [
  {
   "cell_type": "code",
   "execution_count": null,
   "metadata": {
    "scrolled": true
   },
   "outputs": [],
   "source": [
    "from zumi.zumi import Zumi\n",
    "import time\n",
    "from zumi.util.screen import Screen\n",
    "from zumi.util.maze import Maze\n",
    "from zumi.util.dice import Dice\n",
    "zumi = Zumi()\n",
    "screen = Screen()\n",
    "maze = Maze(screen)\n",
    "dice = Dice(zumi,screen)\n",
    "\n",
    "heart = [\n",
    "    [1, 1, 1, 1, 1, 1, 1, 1, 1, 1, 1, 1, 1],\n",
    "    [1, 1, 1, 0, 0, 1, 1, 1, 0, 0, 1, 1, 1],\n",
    "    [1, 1, 0, 1, 1, 0, 1, 0, 1, 1, 0, 1, 1],\n",
    "    [1, 1, 0, 1, 1, 1, 0, 1, 1, 1, 0, 1, 1],\n",
    "    [1, 1, 0, 1, 1, 1, 1, 1, 1, 1, 0, 1, 1],\n",
    "    [1, 1, 1, 0, 1, 1, 1, 1, 1, 0, 1, 1, 1],\n",
    "    [1, 1, 1, 1, 0, 1, 1, 1, 0, 1, 1, 1, 1],\n",
    "    [1, 1, 1, 1, 1, 0, 1, 0, 1, 1, 1, 1, 1],\n",
    "    [1, 1, 1, 1, 1, 1, 0, 1, 1, 1, 1, 1, 1]\n",
    "]\n",
    "maze.map_generator(heart)"
   ]
  },
  {
   "cell_type": "code",
   "execution_count": null,
   "metadata": {},
   "outputs": [],
   "source": [
    "#POC of screen library doing all I2C commands\n",
    "screen.begin()\n",
    "screen.draw.rectangle((0, 0, 0 + 10, 0 + 10), outline=1, fill=0)\n",
    "screen.image(screen.screen_image)\n",
    "screen.display()"
   ]
  },
  {
   "cell_type": "code",
   "execution_count": null,
   "metadata": {},
   "outputs": [],
   "source": [
    "screen.draw_square(1,1,10,10)"
   ]
  },
  {
   "cell_type": "code",
   "execution_count": null,
   "metadata": {},
   "outputs": [],
   "source": [
    "screen.right_scroll()"
   ]
  },
  {
   "cell_type": "code",
   "execution_count": null,
   "metadata": {},
   "outputs": [],
   "source": [
    "screen.left_scroll()"
   ]
  },
  {
   "cell_type": "code",
   "execution_count": null,
   "metadata": {},
   "outputs": [],
   "source": [
    "screen.up_and_left_scroll()"
   ]
  },
  {
   "cell_type": "code",
   "execution_count": null,
   "metadata": {},
   "outputs": [],
   "source": [
    "screen.up_and_right_scroll()"
   ]
  },
  {
   "cell_type": "code",
   "execution_count": null,
   "metadata": {},
   "outputs": [],
   "source": [
    "screen.up_and_right_scroll(vert_offset=2)"
   ]
  },
  {
   "cell_type": "code",
   "execution_count": null,
   "metadata": {},
   "outputs": [],
   "source": [
    "#will animate zumi with the glimmer eyes animation\n",
    "for i in range(0,3):\n",
    "    screen.glimmer()"
   ]
  },
  {
   "cell_type": "code",
   "execution_count": null,
   "metadata": {},
   "outputs": [],
   "source": [
    "#you can draw text like this on the screen\n",
    "screen.draw_text(\"Hello I am Zumi\")"
   ]
  },
  {
   "cell_type": "code",
   "execution_count": null,
   "metadata": {},
   "outputs": [],
   "source": [
    "#you can display numbers like this\n",
    "number = 10\n",
    "\n",
    "screen.draw_text(\"ten \" + str(number))\n",
    "#the str() functions turns the number into a string"
   ]
  },
  {
   "cell_type": "code",
   "execution_count": null,
   "metadata": {},
   "outputs": [],
   "source": [
    "#make zumi a clock\n",
    "for i in range(0,50):\n",
    "    screen.draw_text(time.ctime())\n",
    "    time.sleep(0.1)"
   ]
  },
  {
   "cell_type": "code",
   "execution_count": null,
   "metadata": {},
   "outputs": [],
   "source": [
    "#display the ir values\n",
    "for i in range(0,50):\n",
    "    ir_readings = zumi.get_all_IR_data()\n",
    "    front_right_ir = ir_readings[0]\n",
    "    front_left_ir = ir_readings[5]\n",
    "    \n",
    "    message = \"    IR readings        \"\n",
    "    message = message + str(front_right_ir) + \", \" + str(front_left_ir)\n",
    "    screen.draw_text(message)\n",
    "    time.sleep(0.1)"
   ]
  },
  {
   "cell_type": "code",
   "execution_count": null,
   "metadata": {},
   "outputs": [],
   "source": [
    "#display the gyro angle\n",
    "for i in range(0,50):\n",
    "    #int turns the angle from a decimal number\n",
    "    #to a rounded whole number\n",
    "    current_angle = int(zumi.read_z_angle())\n",
    "    message = \"    Angle reading        \"\n",
    "    message = message + str(current_angle)\n",
    "    screen.draw_text(message)\n",
    "    time.sleep(0.1)"
   ]
  },
  {
   "cell_type": "code",
   "execution_count": null,
   "metadata": {},
   "outputs": [],
   "source": []
  }
 ],
 "metadata": {
  "kernelspec": {
   "display_name": "Python 3",
   "language": "python",
   "name": "python3"
  },
  "language_info": {
   "codemirror_mode": {
    "name": "ipython",
    "version": 3
   },
   "file_extension": ".py",
   "mimetype": "text/x-python",
   "name": "python",
   "nbconvert_exporter": "python",
   "pygments_lexer": "ipython3",
   "version": "3.5.3"
  }
 },
 "nbformat": 4,
 "nbformat_minor": 2
}
