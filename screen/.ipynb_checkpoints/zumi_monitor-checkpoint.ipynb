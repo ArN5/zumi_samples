{
 "cells": [
  {
   "cell_type": "code",
   "execution_count": null,
   "metadata": {},
   "outputs": [],
   "source": [
    "from zumi.zumi import Zumi\n",
    "from zumi.util.screen import Screen\n",
    "\n",
    "import matplotlib.pyplot as plt\n",
    "import IPython.display\n",
    "import numpy as np\n",
    "import time\n",
    "import os\n",
    "import sys\n",
    "\n",
    "zumi = Zumi()\n",
    "screen = Screen()\n",
    "\n",
    "#this program will display some Pi data on the OLED\n",
    "\n",
    "def measure_temp():\n",
    "        temp = os.popen(\"vcgencmd measure_temp\").readline()\n",
    "        return (temp.replace(\"temp=\",\"\"))\n",
    "    \n",
    "def getRAMinfo():\n",
    "    p = os.popen('free')\n",
    "    i = 0\n",
    "    while 1:\n",
    "        i = i + 1\n",
    "        line = p.readline()\n",
    "        if i==2:\n",
    "            return(line.split()[1:4])\n",
    "\n",
    "# Return % of CPU used by user as a character string                                \n",
    "def getCPUuse():\n",
    "    CPU_Pct=str(round(float(os.popen('''grep 'cpu ' /proc/stat | awk '{usage=($2+$4)*100/($2+$4+$5)} END {print usage }' ''').readline()),2))\n",
    "    return CPU_Pct\n"
   ]
  },
  {
   "cell_type": "code",
   "execution_count": null,
   "metadata": {},
   "outputs": [],
   "source": [
    "#print data only on jupyter notebook\n",
    "\n",
    "for i in range(100):\n",
    "    print(\"pi temp \",measure_temp())\n",
    "    print(\"GYRO TEMP \",zumi.mpu.get_temp())\n",
    "    print(\"CPU use \",getCPUuse(), \"%\")\n",
    "    print(\"zumi batt level \",zumi.get_battery_voltage())\n",
    "    print(\"zumi 5v rail \",zumi.get_vcc_voltage())\n",
    "    print(\"ram info \",getRAMinfo())\n",
    "    IPython.display.clear_output(wait=True)\n",
    "    time.sleep(0.5)\n",
    "\n",
    "print(\"done\")"
   ]
  },
  {
   "cell_type": "code",
   "execution_count": null,
   "metadata": {},
   "outputs": [],
   "source": [
    "#show battery and CPU% data on screen\n",
    "\n",
    "for i in range(100):\n",
    "    batt_lvl = round(zumi.get_battery_voltage(),3)\n",
    "    message1 = \"BATT \"+str(batt_lvl)+ \"        \"\n",
    "    message2 = \"CPU \"+str(getCPUuse())+ \"%\"\n",
    "    message = message1 + message2\n",
    "    \n",
    "    screen.draw_text(message)\n",
    "print(\"done\")"
   ]
  },
  {
   "cell_type": "code",
   "execution_count": null,
   "metadata": {},
   "outputs": [],
   "source": []
  }
 ],
 "metadata": {
  "kernelspec": {
   "display_name": "Python 3",
   "language": "python",
   "name": "python3"
  },
  "language_info": {
   "codemirror_mode": {
    "name": "ipython",
    "version": 3
   },
   "file_extension": ".py",
   "mimetype": "text/x-python",
   "name": "python",
   "nbconvert_exporter": "python",
   "pygments_lexer": "ipython3",
   "version": "3.5.3"
  }
 },
 "nbformat": 4,
 "nbformat_minor": 2
}
