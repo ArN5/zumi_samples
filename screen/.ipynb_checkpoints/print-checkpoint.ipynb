{
 "cells": [
  {
   "cell_type": "code",
   "execution_count": null,
   "metadata": {},
   "outputs": [],
   "source": [
    "import PIL.Image\n",
    "import cv2\n",
    "import IPython.display\n",
    "import time\n",
    "from zumi.zumi import Zumi\n",
    "from zumi.util.screen import Screen\n",
    "\n",
    "import math\n",
    "import time\n",
    "\n",
    "zumi = Zumi()\n",
    "screen = Screen()"
   ]
  },
  {
   "cell_type": "markdown",
   "metadata": {},
   "source": [
    "# screen.print()"
   ]
  },
  {
   "cell_type": "code",
   "execution_count": null,
   "metadata": {},
   "outputs": [],
   "source": [
    "#works on Zumi 1.41 and above\n",
    "\n",
    "#this wipes the drawing not the screen\n",
    "screen.clear_drawing()\n",
    "number = 17.4\n",
    "#this will draw and the display on the screen\n",
    "screen.print(number)"
   ]
  },
  {
   "cell_type": "code",
   "execution_count": null,
   "metadata": {},
   "outputs": [],
   "source": [
    "#this wipes the drawing not the screen\n",
    "screen.clear_drawing()\n",
    "\n",
    "#this will draw and the display on the screen\n",
    "# a string message\n",
    "screen.print(\"number\")"
   ]
  },
  {
   "cell_type": "code",
   "execution_count": null,
   "metadata": {},
   "outputs": [],
   "source": [
    "screen.clear_drawing()\n",
    "#you can also do multiple inputs into print using comma separator\n",
    "screen.print(\"123456789ABCDEFGHIJKL\\n\",12345678,number,\"wvhybnjkasnbkjns\\nwvhybnjkasnbkjns\")"
   ]
  },
  {
   "cell_type": "code",
   "execution_count": null,
   "metadata": {},
   "outputs": [],
   "source": [
    "screen.clear_drawing()\n",
    "#you can change the position of the print statement\n",
    "screen.print(\"12345678\",x=10,y=10)"
   ]
  },
  {
   "cell_type": "code",
   "execution_count": null,
   "metadata": {},
   "outputs": [],
   "source": [
    "screen.clear_drawing()\n",
    "#you need to change the \n",
    "#position if you want to display multiple messages\n",
    "screen.print(\"12345678\")\n",
    "screen.print(\"hello\")\n",
    "#everything will be bunched up and not what you want!"
   ]
  },
  {
   "cell_type": "code",
   "execution_count": null,
   "metadata": {},
   "outputs": [],
   "source": [
    "screen.clear_drawing()\n",
    "#you need to change the \n",
    "#y position like so\n",
    "screen.print(\"12345678\")\n",
    "screen.print(\"hello\", y=15)\n",
    "\n",
    "#or use \\n twice to go down 2 lines\n",
    "screen.print(\"\\n\\n\",\"Jello\")"
   ]
  },
  {
   "cell_type": "code",
   "execution_count": null,
   "metadata": {},
   "outputs": [],
   "source": [
    "screen.clear_drawing()\n",
    "#you can also change font size!\n",
    "screen.print(\"ZUMI\",font_size=20)"
   ]
  },
  {
   "cell_type": "code",
   "execution_count": null,
   "metadata": {},
   "outputs": [],
   "source": [
    "#drawing black letters on white background!\n",
    "\n",
    "screen.clear_drawing()\n",
    "\n",
    "#fill the screen with a white rectangle using fill_in=True\n",
    "screen.draw_rect(0,0,127,63,thickness=1,fill_in=True)\n",
    "\n",
    "#select fill_in=False so letters are black\n",
    "screen.print(\"number\", fill_in=False)"
   ]
  },
  {
   "cell_type": "code",
   "execution_count": null,
   "metadata": {},
   "outputs": [],
   "source": []
  }
 ],
 "metadata": {
  "kernelspec": {
   "display_name": "Python 3",
   "language": "python",
   "name": "python3"
  },
  "language_info": {
   "codemirror_mode": {
    "name": "ipython",
    "version": 3
   },
   "file_extension": ".py",
   "mimetype": "text/x-python",
   "name": "python",
   "nbconvert_exporter": "python",
   "pygments_lexer": "ipython3",
   "version": "3.5.3"
  }
 },
 "nbformat": 4,
 "nbformat_minor": 2
}
