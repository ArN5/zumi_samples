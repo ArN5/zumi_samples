{
 "cells": [
  {
   "cell_type": "code",
   "execution_count": 3,
   "metadata": {},
   "outputs": [
    {
     "name": "stdout",
     "output_type": "stream",
     "text": [
      " Starting Zumi \n",
      "Pi Zero I2C is available\n",
      "Verified Pi Zero is the same\n",
      "Gyroscope previously calibrated\n",
      "Zumi board detected\n",
      "Compass detected\n",
      "OLED Screen detected\n",
      "Gyroscope & Accelerometer detected\n"
     ]
    },
    {
     "ename": "AttributeError",
     "evalue": "'Screen' object has no attribute 'Maze'",
     "output_type": "error",
     "traceback": [
      "\u001b[0;31m---------------------------------------------------------------------------\u001b[0m",
      "\u001b[0;31mAttributeError\u001b[0m                            Traceback (most recent call last)",
      "\u001b[0;32m<ipython-input-3-362c7df55754>\u001b[0m in \u001b[0;36m<module>\u001b[0;34m\u001b[0m\n\u001b[1;32m      5\u001b[0m \u001b[0mzumi\u001b[0m \u001b[0;34m=\u001b[0m \u001b[0mZumi\u001b[0m\u001b[0;34m(\u001b[0m\u001b[0;34m)\u001b[0m\u001b[0;34m\u001b[0m\u001b[0m\n\u001b[1;32m      6\u001b[0m \u001b[0mscreen\u001b[0m \u001b[0;34m=\u001b[0m \u001b[0mScreen\u001b[0m\u001b[0;34m(\u001b[0m\u001b[0;34m)\u001b[0m\u001b[0;34m\u001b[0m\u001b[0m\n\u001b[0;32m----> 7\u001b[0;31m \u001b[0mmaze\u001b[0m \u001b[0;34m=\u001b[0m \u001b[0mscreen\u001b[0m\u001b[0;34m.\u001b[0m\u001b[0mMaze\u001b[0m\u001b[0;34m(\u001b[0m\u001b[0;34m)\u001b[0m\u001b[0;34m\u001b[0m\u001b[0m\n\u001b[0m",
      "\u001b[0;31mAttributeError\u001b[0m: 'Screen' object has no attribute 'Maze'"
     ]
    }
   ],
   "source": [
    "from zumi.zumi import Zumi\n",
    "import time\n",
    "from zumi.util.screen import Screen\n",
    "\n",
    "zumi = Zumi()\n",
    "screen = Screen()\n",
    "maze = screen.Maze()"
   ]
  },
  {
   "cell_type": "code",
   "execution_count": null,
   "metadata": {},
   "outputs": [],
   "source": [
    "#will animate zumi with the glimmer eyes animation\n",
    "for i in range(0,3):\n",
    "    screen.glimmer()"
   ]
  },
  {
   "cell_type": "code",
   "execution_count": null,
   "metadata": {},
   "outputs": [],
   "source": [
    "#you can draw text like this on the screen\n",
    "screen.draw_text(\"Hello I am Zumi\")"
   ]
  },
  {
   "cell_type": "code",
   "execution_count": null,
   "metadata": {},
   "outputs": [],
   "source": [
    "#you can display numbers like this\n",
    "number = 10\n",
    "\n",
    "screen.draw_text(\"ten \" + str(number))\n",
    "#the str() functions turns the number into a string"
   ]
  },
  {
   "cell_type": "code",
   "execution_count": null,
   "metadata": {},
   "outputs": [],
   "source": [
    "#make zumi a clock\n",
    "for i in range(0,50):\n",
    "    screen.draw_text(time.ctime())\n",
    "    time.sleep(0.1)"
   ]
  },
  {
   "cell_type": "code",
   "execution_count": null,
   "metadata": {},
   "outputs": [],
   "source": [
    "#display the ir values\n",
    "for i in range(0,50):\n",
    "    ir_readings = zumi.get_all_IR_data()\n",
    "    front_right_ir = ir_readings[0]\n",
    "    front_left_ir = ir_readings[5]\n",
    "    \n",
    "    message = \"    IR readings        \"\n",
    "    message = message + str(front_right_ir) + \", \" + str(front_left_ir)\n",
    "    screen.draw_text(message)\n",
    "    time.sleep(0.1)\n",
    "\n"
   ]
  },
  {
   "cell_type": "code",
   "execution_count": null,
   "metadata": {},
   "outputs": [],
   "source": [
    "#display the gyro angle\n",
    "for i in range(0,50):\n",
    "    #int turns the angle from a decimal number\n",
    "    #to a rounded whole number\n",
    "    current_angle = int(zumi.read_z_angle())\n",
    "    message = \"    Angle reading        \"\n",
    "    message = message + str(current_angle)\n",
    "    screen.draw_text(message)\n",
    "    time.sleep(0.1)"
   ]
  }
 ],
 "metadata": {
  "kernelspec": {
   "display_name": "Python 3",
   "language": "python",
   "name": "python3"
  },
  "language_info": {
   "codemirror_mode": {
    "name": "ipython",
    "version": 3
   },
   "file_extension": ".py",
   "mimetype": "text/x-python",
   "name": "python",
   "nbconvert_exporter": "python",
   "pygments_lexer": "ipython3",
   "version": "3.5.3"
  }
 },
 "nbformat": 4,
 "nbformat_minor": 2
}
