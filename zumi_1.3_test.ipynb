{
 "cells": [
  {
   "cell_type": "code",
   "execution_count": null,
   "metadata": {},
   "outputs": [],
   "source": [
    "from zumi.zumi import Zumi\n",
    "import time\n",
    "import IPython.display\n",
    "\n",
    "zumi = Zumi()"
   ]
  },
  {
   "cell_type": "code",
   "execution_count": null,
   "metadata": {},
   "outputs": [],
   "source": [
    "zumi.print_zumi_library_version()"
   ]
  },
  {
   "cell_type": "code",
   "execution_count": null,
   "metadata": {},
   "outputs": [],
   "source": [
    "import math\n",
    "while(True):\n",
    "    print(zumi.get_orientation_message())\n",
    "    #tilt angles with respect to gravity vector\n",
    "    print(\"x tilt ang: \",zumi.angle_list[7])\n",
    "    print(\"y tilt ang: \",zumi.angle_list[8])\n",
    "    print(\"z tilt ang: \",zumi.angle_list[9])\n",
    "    print(zumi.get_orientation())\n",
    "    \n",
    "    time.sleep(0.1)\n",
    "    IPython.display.clear_output(wait=True)\n",
    "print(\"done\")"
   ]
  },
  {
   "cell_type": "code",
   "execution_count": null,
   "metadata": {},
   "outputs": [],
   "source": [
    "while(True):\n",
    "    #tilt angles with respect to gravity vector\n",
    "    print(\"x acc ang: \",zumi.angle_list[3])\n",
    "    print(\"y acc ang: \",zumi.angle_list[4])\n",
    "    print(zumi.get_orientation())\n",
    "    time.sleep(0.1)\n",
    "    IPython.display.clear_output(wait=True)\n",
    "print(\"done\")"
   ]
  },
  {
   "cell_type": "code",
   "execution_count": null,
   "metadata": {},
   "outputs": [],
   "source": [
    "zumi.reset_gyro()\n",
    "\n",
    "while(True):\n",
    "    #tilt angles with respect to gravity vector\n",
    "#     print(\"x av : \",int(zumi.mpu_list[3]))\n",
    "#     print(\"y av : \",int(zumi.mpu_list[4]))\n",
    "#     print(\"z av : \",int(zumi.mpu_list[5]))\n",
    "    print(\"x gyro ang: \",int(zumi.angle_list[0]))\n",
    "    print(\"x acc ang: \",int(zumi.angle_list[3]))\n",
    "    print(\"x comp ang: \",int(zumi.angle_list[5]))\n",
    "    print(\"x rot ang: \",int(zumi.angle_list[7]))\n",
    "    print(\" --- \")\n",
    "    print(\"y gyro ang: \",int(zumi.angle_list[1]))\n",
    "    print(\"y acc ang: \",int(zumi.angle_list[4]))\n",
    "    print(\"y comp ang: \",int(zumi.angle_list[6]))\n",
    "    print(\"y rot ang: \",int(zumi.angle_list[8]))\n",
    "    print(zumi.get_orientation())\n",
    "    time.sleep(0.05)\n",
    "    IPython.display.clear_output(wait=True)\n",
    "print(\"done\")"
   ]
  },
  {
   "cell_type": "code",
   "execution_count": null,
   "metadata": {},
   "outputs": [],
   "source": [
    "while(True):\n",
    "    #tilt angles with respect to gravity vector\n",
    "    print(\"x acc : \",zumi.mpu_list[0])\n",
    "    print(\"y acc : \",zumi.mpu_list[1])\n",
    "    print(\"z acc : \",zumi.mpu_list[2])\n",
    "    print(zumi.get_orientation())\n",
    "    time.sleep(0.1)\n",
    "    IPython.display.clear_output(wait=True)\n",
    "print(\"done\")"
   ]
  },
  {
   "cell_type": "code",
   "execution_count": null,
   "metadata": {},
   "outputs": [],
   "source": []
  }
 ],
 "metadata": {
  "kernelspec": {
   "display_name": "Python 3",
   "language": "python",
   "name": "python3"
  },
  "language_info": {
   "codemirror_mode": {
    "name": "ipython",
    "version": 3
   },
   "file_extension": ".py",
   "mimetype": "text/x-python",
   "name": "python",
   "nbconvert_exporter": "python",
   "pygments_lexer": "ipython3",
   "version": "3.5.3"
  }
 },
 "nbformat": 4,
 "nbformat_minor": 2
}
