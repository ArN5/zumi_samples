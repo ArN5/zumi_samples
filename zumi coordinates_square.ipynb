{
 "cells": [
  {
   "cell_type": "code",
   "execution_count": 1,
   "metadata": {},
   "outputs": [
    {
     "name": "stdout",
     "output_type": "stream",
     "text": [
      " Starting Zumi \n",
      "Pi Zero I2C is available\n",
      "Gyro offset file already exists.\n",
      "Verified Pi Zero is the same\n",
      "Gyroscope previously calibrated\n",
      "Zumi board detected\n",
      "Compass detected\n",
      "OLED Screen detected\n",
      "Gyroscope & Accelerometer detected\n"
     ]
    }
   ],
   "source": [
    "from zumi.zumi import Zumi\n",
    "import time\n",
    "import math\n",
    "\n",
    "zumi = Zumi()\n",
    "\n",
    "current_x = 0\n",
    "current_y = 0"
   ]
  },
  {
   "cell_type": "code",
   "execution_count": 4,
   "metadata": {},
   "outputs": [],
   "source": [
    "def move_inches(distance,angle):\n",
    "    y_intercept = 1\n",
    "    slope = 6\n",
    "    duration = (distance + y_intercept)/slope\n",
    "    \n",
    "    #make sure if there is no distance only turn\n",
    "    if(distance<0.2):\n",
    "        zumi.turn(angle)\n",
    "    #if there is a distance go at speed 40 at that angle\n",
    "    else:\n",
    "        zumi.forward(40,duration,angle)   \n",
    "    \n",
    "def move_to_coordinate(desired_x,desired_y):\n",
    "    \n",
    "    global current_x, current_y\n",
    "    dx = desired_x - current_x\n",
    "    dy = desired_y - current_y\n",
    "    \n",
    "    #find the angle\n",
    "    angle = math.degrees(math.atan2(dy,dx)) \n",
    "#    d_angle = angle-zumi.read_z_angle()\n",
    "#     if(abs(d_angle) > 190):\n",
    "#         angle = angle-360\n",
    "#         d_angle = angle-zumi.read_z_angle()\n",
    "    \n",
    "    #find the distance to the coordinate\n",
    "    distance = math.hypot(dx,dy)\n",
    "    \n",
    "    #update the coordinates\n",
    "    current_x = desired_x\n",
    "    current_y = desired_y\n",
    "    \n",
    "    print(\" ang = \", angle, \" dist = \",distance , \" inches\")\n",
    "    #print(\" ang = \", angle, \" d_ang = \",d_angle)\n",
    "\n",
    "    zumi.turn(angle)\n",
    "    move_inches(distance,angle)\n",
    "    "
   ]
  },
  {
   "cell_type": "code",
   "execution_count": 7,
   "metadata": {},
   "outputs": [
    {
     "name": "stdout",
     "output_type": "stream",
     "text": [
      " ang =  0.0  dist =  4.0  inches\n",
      " ang =  90.0  dist =  4.0  inches\n",
      " ang =  180.0  dist =  4.0  inches\n"
     ]
    }
   ],
   "source": [
    "zumi.reset_gyro()\n",
    "\n",
    "current_x = 0\n",
    "current_y = 0\n",
    "\n",
    "try:\n",
    "    move_to_coordinate(4,0)\n",
    "    move_to_coordinate(4,4)\n",
    "    move_to_coordinate(0,4)\n",
    "\n",
    "    \n",
    "finally:\n",
    "    zumi.stop()"
   ]
  },
  {
   "cell_type": "code",
   "execution_count": 28,
   "metadata": {},
   "outputs": [],
   "source": [
    "zumi.stop()"
   ]
  },
  {
   "cell_type": "code",
   "execution_count": null,
   "metadata": {},
   "outputs": [],
   "source": []
  },
  {
   "cell_type": "code",
   "execution_count": null,
   "metadata": {},
   "outputs": [],
   "source": []
  },
  {
   "cell_type": "code",
   "execution_count": null,
   "metadata": {},
   "outputs": [],
   "source": []
  }
 ],
 "metadata": {
  "kernelspec": {
   "display_name": "Python 3",
   "language": "python",
   "name": "python3"
  },
  "language_info": {
   "codemirror_mode": {
    "name": "ipython",
    "version": 3
   },
   "file_extension": ".py",
   "mimetype": "text/x-python",
   "name": "python",
   "nbconvert_exporter": "python",
   "pygments_lexer": "ipython3",
   "version": "3.5.3"
  }
 },
 "nbformat": 4,
 "nbformat_minor": 2
}
