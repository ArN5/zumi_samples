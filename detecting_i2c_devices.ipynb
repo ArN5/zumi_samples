{
 "cells": [
  {
   "cell_type": "code",
   "execution_count": null,
   "metadata": {},
   "outputs": [],
   "source": [
    "import smbus2\n",
    "#use this to read all the I2C \n",
    "#devices of the sensors connected\n",
    "\n",
    "bus = smbus2.SMBus(1) # 1 indicates /dev/i2c-1\n",
    "\n",
    "for device in range(128):\n",
    "    try:\n",
    "        bus.read_byte(device)\n",
    "        print(hex(device))\n",
    "        if(device == 0x3c):\n",
    "            print(\" OLED Screen detected\")\n",
    "        if(device == 0x68):\n",
    "            print(\" Gyroscope & Accelerometer detected\")\n",
    "        if(device == 0xd):\n",
    "            print(\" Compass detected\")\n",
    "        if(device == 0x4):\n",
    "            print(\" Zumi board detected\")\n",
    "    except: # exception if read_byte fails\n",
    "        pass"
   ]
  }
 ],
 "metadata": {
  "kernelspec": {
   "display_name": "Python 3",
   "language": "python",
   "name": "python3"
  },
  "language_info": {
   "codemirror_mode": {
    "name": "ipython",
    "version": 3
   },
   "file_extension": ".py",
   "mimetype": "text/x-python",
   "name": "python",
   "nbconvert_exporter": "python",
   "pygments_lexer": "ipython3",
   "version": "3.5.3"
  }
 },
 "nbformat": 4,
 "nbformat_minor": 2
}
