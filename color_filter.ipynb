{
 "cells": [
  {
   "cell_type": "code",
   "execution_count": 2,
   "metadata": {
    "scrolled": true
   },
   "outputs": [
    {
     "name": "stdout",
     "output_type": "stream",
     "text": [
      "Closing PiCamera\n",
      "done\n"
     ]
    }
   ],
   "source": [
    "#this demo will show how to find the color cards\n",
    "\n",
    "from zumi.util.camera import Camera\n",
    "import PIL.Image\n",
    "import cv2\n",
    "import IPython.display\n",
    "import time\n",
    "\n",
    "#we will use the smallest resolution to speed things up\n",
    "width = 80\n",
    "height = 60\n",
    "multiple = 2\n",
    "fps = 30.0\n",
    "\n",
    "purpleLower = (150, 0, 0)\n",
    "purpleUpper = (180, 255, 255)\n",
    "purple = [purpleLower,purpleUpper]\n",
    "\n",
    "greenLower = (50, 100, 100)\n",
    "greenUpper = (80, 255, 255)\n",
    "green = [greenLower,greenUpper]\n",
    "\n",
    "redLower = (120, 100, 100)\n",
    "redUpper = (130, 255, 255)\n",
    "red = [redLower,redUpper]\n",
    "\n",
    "camera = Camera(width,height)\n",
    "camera.start_camera()\n",
    "\n",
    "def track_this_hue(image,color):\n",
    "    hsv = cv2.cvtColor(image, cv2.COLOR_BGR2HSV)\n",
    "    filteredFrame = cv2.inRange(hsv, color[0], color[1])\n",
    "    colorCutout =  cv2.bitwise_and(image, image, mask=filteredFrame)\n",
    "\n",
    "    return colorCutout\n",
    "\n",
    "try:\n",
    "    # record video\n",
    "    for i in range(200):#take 200 frames\n",
    "        time_start = time.time()\n",
    "        image = camera.capture()\n",
    "        colorCutout = track_this_hue(image,red)\n",
    "        resized = cv2.resize(colorCutout, (width*multiple, height*multiple))\n",
    "        IPython.display.display(PIL.Image.fromarray(resized))\n",
    "        IPython.display.clear_output(wait=True)\n",
    "finally:\n",
    "    time.sleep(1)\n",
    "    camera.close()\n",
    "    print(\"done\")    "
   ]
  },
  {
   "cell_type": "code",
   "execution_count": 3,
   "metadata": {},
   "outputs": [
    {
     "name": "stdout",
     "output_type": "stream",
     "text": [
      "Closing PiCamera\n",
      "done\n"
     ]
    }
   ],
   "source": [
    "#this program will try to go through all the colors\n",
    "hue = 10\n",
    "multiple = 1\n",
    "camera = Camera(width,height)\n",
    "camera.start_camera()\n",
    "\n",
    "def track_this_hue(image,color):\n",
    "    hsv = cv2.cvtColor(image, cv2.COLOR_BGR2HSV)\n",
    "    filteredFrame = cv2.inRange(hsv, color[0], color[1])\n",
    "    colorCutout =  cv2.bitwise_and(image, image, mask=filteredFrame)\n",
    "\n",
    "    return colorCutout\n",
    "\n",
    "try:\n",
    "    # record video\n",
    "    for i in range(200):#take 200 frames\n",
    "        #change the hue value\n",
    "        hue= hue+5\n",
    "        if hue >170:#hue value cant go above 180 so we stop at 170\n",
    "            hue = 10\n",
    "        lower = (hue-10, 50, 50)\n",
    "        upper = (hue+10, 230, 230)\n",
    "        varying_color = [lower,upper]\n",
    "        \n",
    "        time_start = time.time()\n",
    "        image = camera.capture()\n",
    "        colorCutout = track_this_hue(image,varying_color)\n",
    "        resized = cv2.resize(colorCutout, (width*multiple, height*multiple))\n",
    "        IPython.display.display(PIL.Image.fromarray(resized))\n",
    "        print(\"hue, \",hue)\n",
    "        IPython.display.clear_output(wait=True)\n",
    "finally:\n",
    "    time.sleep(1)\n",
    "    camera.close()\n",
    "    print(\"done\")\n",
    "    "
   ]
  },
  {
   "cell_type": "code",
   "execution_count": null,
   "metadata": {},
   "outputs": [],
   "source": []
  }
 ],
 "metadata": {
  "kernelspec": {
   "display_name": "Python 3",
   "language": "python",
   "name": "python3"
  },
  "language_info": {
   "codemirror_mode": {
    "name": "ipython",
    "version": 3
   },
   "file_extension": ".py",
   "mimetype": "text/x-python",
   "name": "python",
   "nbconvert_exporter": "python",
   "pygments_lexer": "ipython3",
   "version": "3.5.3"
  }
 },
 "nbformat": 4,
 "nbformat_minor": 4
}
