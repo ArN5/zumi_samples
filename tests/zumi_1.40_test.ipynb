{
 "cells": [
  {
   "cell_type": "code",
   "execution_count": 1,
   "metadata": {},
   "outputs": [
    {
     "name": "stdout",
     "output_type": "stream",
     "text": [
      "Starting Zumi \n",
      "Pi Zero I2C is available\n",
      "Verified Pi Zero is the same\n",
      "Gyroscope previously calibrated\n",
      "Zumi board detected\n",
      "Compass detected\n",
      "OLED Screen detected\n",
      "Gyroscope & Accelerometer detected\n",
      "1.2\n"
     ]
    }
   ],
   "source": [
    "import PIL.Image\n",
    "import cv2\n",
    "import IPython.display\n",
    "import time\n",
    "from zumi.zumi import Zumi\n",
    "from zumi.util.camera import Camera\n",
    "from zumi.util.vision import Vision\n",
    "from zumi.util.screen import Screen\n",
    "\n",
    "zumi = Zumi()\n",
    "screen = Screen()\n",
    "\n",
    "#this will print the board firmware version number\n",
    "print(zumi.board_firmware_version)"
   ]
  },
  {
   "cell_type": "code",
   "execution_count": null,
   "metadata": {},
   "outputs": [],
   "source": [
    "#this is a new easy to use calibration method\n",
    "#just an extra function to zumi.mpu.calibrate_MPU()\n",
    "zumi.calibrate_gyro()"
   ]
  },
  {
   "cell_type": "code",
   "execution_count": null,
   "metadata": {},
   "outputs": [],
   "source": [
    "#try this on a zumi firmware 1.0\n",
    "zumi.z_led_on()\n",
    "#there should be protection to avoid using \n",
    "#boards with lower versions"
   ]
  },
  {
   "cell_type": "code",
   "execution_count": null,
   "metadata": {},
   "outputs": [],
   "source": [
    "#display docstring help\n",
    "help(screen.draw_rect)\n",
    "\n",
    "#these are the new draw methods \n",
    "#here we will make some rectangles\n",
    "screen.draw_rect(10,0,20,10)\n",
    "screen.draw_rect(20,20,10,10)\n",
    "screen.draw_line(0,0,20,60)\n",
    "\n",
    "#we will display the image on jupyter as well\n",
    "IPython.display.display(screen.screen_image)\n",
    "IPython.display.clear_output(wait=True)"
   ]
  },
  {
   "cell_type": "code",
   "execution_count": null,
   "metadata": {},
   "outputs": [],
   "source": [
    "#will clear the previous drawing but not display anything\n",
    "screen.clear_drawing()\n",
    "#this will NOT CLEAR the screen.\n",
    "\n",
    "#set of 4 points for the polygon (x,y)\n",
    "points = [(30,50),(90,10),(20,10),(5,20)]\n",
    "#will draw a polygon\n",
    "screen.draw_polygon(points)\n",
    "\n",
    "#display the image on jupyter as well\n",
    "IPython.display.display(screen.screen_image)\n",
    "IPython.display.clear_output(wait=True)"
   ]
  },
  {
   "cell_type": "code",
   "execution_count": null,
   "metadata": {},
   "outputs": [],
   "source": [
    "#will clear the previous drawing but not display anything\n",
    "screen.clear_drawing()\n",
    "\n",
    "#draw a bunch of points stacked on the same draw image\n",
    "for i in range(20):\n",
    "    #draw new point on screen\n",
    "    screen.draw_point(10+i,10+i)\n",
    "    \n",
    "    #display on jupyter as well\n",
    "    IPython.display.display(screen.screen_image)\n",
    "    IPython.display.clear_output(wait=True)"
   ]
  },
  {
   "cell_type": "code",
   "execution_count": null,
   "metadata": {},
   "outputs": [],
   "source": [
    "screen.clear_drawing()\n",
    "#draws a line parameters (x1,y1,x2,y2) \n",
    "#which are 2 points that the line connect\n",
    "screen.draw_line(0,0,128,64)\n",
    "\n",
    "\n",
    "#display on jupyter as well\n",
    "IPython.display.display(screen.screen_image)\n",
    "IPython.display.clear_output(wait=True)"
   ]
  },
  {
   "cell_type": "code",
   "execution_count": null,
   "metadata": {},
   "outputs": [],
   "source": [
    "screen.clear_drawing()\n",
    "\n",
    "for i in range(20):\n",
    "    #this will both draw a rectangle and display it\n",
    "    screen.draw_rect(10+i,10+i,5,10)\n",
    "    \n",
    "    #display on jupyter\n",
    "    IPython.display.display(screen.screen_image)\n",
    "    IPython.display.clear_output(wait=True)"
   ]
  },
  {
   "cell_type": "code",
   "execution_count": null,
   "metadata": {},
   "outputs": [],
   "source": [
    "screen.clear_drawing()\n",
    "for i in range(20):\n",
    "    #this wipes away the drawing\n",
    "    screen.clear_drawing()\n",
    "    #this will both draw a rectangle and display it\n",
    "    screen.draw_rect(10+i,10,5,10)\n",
    "    IPython.display.display(screen.screen_image)\n",
    "    IPython.display.clear_output(wait=True)"
   ]
  },
  {
   "cell_type": "code",
   "execution_count": null,
   "metadata": {},
   "outputs": [],
   "source": [
    "#clear out the drawing\n",
    "screen.clear_drawing()\n",
    "\n",
    "#(x,y, width, height) of the ellipse\n",
    "screen.draw_ellipse(60,0,30,10)\n",
    "screen.draw_ellipse(60,30,10,30)"
   ]
  },
  {
   "cell_type": "code",
   "execution_count": null,
   "metadata": {},
   "outputs": [],
   "source": [
    "screen.clear_drawing()\n",
    "\n",
    "#draw a circle with no infill\n",
    "#parameters (x,y,diameter/width,fill-in)\n",
    "#x and y is the top left corner \n",
    "#of a box that bounds the circle\n",
    "screen.draw_circle(10,0,20,fill_in=False)"
   ]
  },
  {
   "cell_type": "code",
   "execution_count": null,
   "metadata": {},
   "outputs": [],
   "source": [
    "screen.clear_drawing()\n",
    "\n",
    "#draw a circle with infill\n",
    "screen.draw_circle(10,0,20,fill_in=True)"
   ]
  },
  {
   "cell_type": "code",
   "execution_count": null,
   "metadata": {},
   "outputs": [],
   "source": [
    "screen.clear_drawing()\n",
    "screen.draw_arc(0,0,40,40,0,180)\n",
    "#x1 and y1 are the top left corner\n",
    "#x2 and y2 are the bottom left corner\n",
    "#these are the corners of a box\n",
    "#starting angle, ending angle"
   ]
  },
  {
   "cell_type": "code",
   "execution_count": null,
   "metadata": {},
   "outputs": [],
   "source": [
    "screen.clear_drawing()\n",
    "screen.draw_chord(0,0,20,20,0,180)\n",
    "screen.draw_chord(30,30,50,50,0,270)\n",
    "screen.draw_chord(60,30,100,50,0,360)"
   ]
  },
  {
   "cell_type": "code",
   "execution_count": null,
   "metadata": {},
   "outputs": [],
   "source": [
    "screen.clear_drawing()\n",
    "for i in range(20):\n",
    "    screen.draw_arc(0,0,20,20,0,180+8*i)"
   ]
  },
  {
   "cell_type": "code",
   "execution_count": null,
   "metadata": {},
   "outputs": [],
   "source": [
    "screen.clear_drawing()\n",
    "#draws a triangle given 3 points (x,y)\n",
    "screen.draw_triangle(10,20,30,40,10,40)"
   ]
  },
  {
   "cell_type": "code",
   "execution_count": 2,
   "metadata": {},
   "outputs": [
    {
     "name": "stdout",
     "output_type": "stream",
     "text": [
      "Starting Zumi \n",
      "Pi Zero I2C is available\n",
      "Verified Pi Zero is the same\n",
      "Gyroscope previously calibrated\n",
      "Zumi board detected\n",
      "Compass detected\n",
      "OLED Screen detected\n",
      "Gyroscope & Accelerometer detected\n"
     ]
    }
   ],
   "source": [
    "import PIL.Image\n",
    "import cv2\n",
    "import IPython.display\n",
    "import time\n",
    "from zumi.zumi import Zumi\n",
    "from zumi.util.camera import Camera\n",
    "from zumi.util.vision import Vision\n",
    "from zumi.util.screen import Screen\n",
    "\n",
    "zumi = Zumi()\n",
    "screen = Screen()\n",
    "vision = Vision()"
   ]
  },
  {
   "cell_type": "code",
   "execution_count": null,
   "metadata": {},
   "outputs": [],
   "source": [
    "camera = Camera()\n",
    "\n",
    "try:\n",
    "    camera.start_camera()\n",
    "    for i in range(20):\n",
    "        image=camera.capture()\n",
    "        gray = vision.convert_to_gray(image)\n",
    "        data = vision.find_face(gray)\n",
    "        if data is not None:\n",
    "            print(\"found face\")\n",
    "        camera.show_image(gray)\n",
    "        camera.clear_output()\n",
    "finally:        \n",
    "    camera.close()\n",
    "    print(\"done\")"
   ]
  },
  {
   "cell_type": "code",
   "execution_count": null,
   "metadata": {},
   "outputs": [],
   "source": [
    "\n",
    "camera = Camera()\n",
    "\n",
    "try:\n",
    "    camera.start_camera()\n",
    "    for i in range(20):\n",
    "        image=camera.capture()\n",
    "        gray = vision.convert_to_gray(image)\n",
    "        data = vision.find_smile(gray)\n",
    "        if data is not None:\n",
    "            print(\"found smile\")\n",
    "        camera.show_image(gray)\n",
    "        camera.clear_output()\n",
    "finally:        \n",
    "    camera.close()\n",
    "    print(\"done\")"
   ]
  },
  {
   "cell_type": "code",
   "execution_count": 3,
   "metadata": {},
   "outputs": [
    {
     "name": "stdout",
     "output_type": "stream",
     "text": [
      "Closing PiCamera\n",
      "done\n"
     ]
    }
   ],
   "source": [
    "camera = Camera()\n",
    "\n",
    "try:\n",
    "    camera.start_camera()\n",
    "    for i in range(40):\n",
    "        image=camera.capture()\n",
    "        data = vision.find_green_object(image)\n",
    "        if data is not None:\n",
    "            x = data[0]\n",
    "            y = data[1]\n",
    "            width = data[2]\n",
    "            height = data[3]\n",
    "        camera.show_image(image)\n",
    "        camera.clear_output()\n",
    "finally:        \n",
    "    camera.close()\n",
    "    print(\"done\")"
   ]
  },
  {
   "cell_type": "code",
   "execution_count": 10,
   "metadata": {},
   "outputs": [
    {
     "name": "stdout",
     "output_type": "stream",
     "text": [
      "Closing PiCamera\n",
      "done\n"
     ]
    }
   ],
   "source": [
    "camera = Camera()\n",
    "\n",
    "try:\n",
    "    camera.start_camera()\n",
    "    for i in range(40):\n",
    "        image=camera.capture()\n",
    "        data = vision.find_blue_object(image,bounding_box=False)\n",
    "        if data is not None:\n",
    "            x = data[0]\n",
    "            y = data[1]\n",
    "            width = data[2]\n",
    "            height = data[3]\n",
    "            print(\"blue found, coordinate is x\",x, \" y\", y)\n",
    "        #camera.show_image(image)\n",
    "        camera.clear_output()\n",
    "finally:        \n",
    "    camera.close()\n",
    "    print(\"done\")"
   ]
  },
  {
   "cell_type": "code",
   "execution_count": null,
   "metadata": {},
   "outputs": [],
   "source": [
    "for i in range(40):\n",
    "    zumi.line_follow_step()\n",
    "zumi.stop()"
   ]
  },
  {
   "cell_type": "code",
   "execution_count": null,
   "metadata": {},
   "outputs": [],
   "source": []
  }
 ],
 "metadata": {
  "kernelspec": {
   "display_name": "Python 3",
   "language": "python",
   "name": "python3"
  },
  "language_info": {
   "codemirror_mode": {
    "name": "ipython",
    "version": 3
   },
   "file_extension": ".py",
   "mimetype": "text/x-python",
   "name": "python",
   "nbconvert_exporter": "python",
   "pygments_lexer": "ipython3",
   "version": "3.5.3"
  }
 },
 "nbformat": 4,
 "nbformat_minor": 2
}
