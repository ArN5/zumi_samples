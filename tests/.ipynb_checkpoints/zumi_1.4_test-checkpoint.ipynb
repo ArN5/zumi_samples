{
 "cells": [
  {
   "cell_type": "code",
   "execution_count": 11,
   "metadata": {},
   "outputs": [
    {
     "name": "stdout",
     "output_type": "stream",
     "text": [
      "Starting Zumi \n",
      "Pi Zero I2C is available\n",
      "Verified Pi Zero is the same\n",
      "Gyroscope previously calibrated\n",
      "Zumi board detected\n",
      "Compass detected\n",
      "OLED Screen detected\n",
      "Gyroscope & Accelerometer detected\n",
      "1.2\n"
     ]
    },
    {
     "data": {
      "image/png": "[encoded data removed]",
      "text/plain": [
       "<PIL.Image.Image image mode=1 size=128x64 at 0x73985C50>"
      ]
     },
     "metadata": {},
     "output_type": "display_data"
    }
   ],
   "source": [
    "import PIL.Image\n",
    "import cv2\n",
    "import IPython.display\n",
    "import time\n",
    "from zumi.zumi import Zumi\n",
    "from zumi.util.camera import Camera\n",
    "from zumi.util.vision import Vision\n",
    "from zumi.util.screen import Screen\n",
    "\n",
    "zumi = Zumi()\n",
    "screen = Screen()\n",
    "\n",
    "print(zumi.board_firmware_version)\n",
    "\n",
    "screen.draw_rect(10,0,20,10)\n",
    "screen.draw_rect(20,20,10,10)\n",
    "screen.draw_line(0,0,20,60)\n",
    "IPython.display.display(screen.screen_image)\n",
    "IPython.display.clear_output(wait=True)"
   ]
  },
  {
   "cell_type": "code",
   "execution_count": null,
   "metadata": {},
   "outputs": [],
   "source": [
    "zumi.z_led_on()"
   ]
  },
  {
   "cell_type": "code",
   "execution_count": 2,
   "metadata": {},
   "outputs": [
    {
     "data": {
      "image/png": "[encoded data removed]",
      "text/plain": [
       "<PIL.Image.Image image mode=1 size=128x64 at 0x679BA930>"
      ]
     },
     "metadata": {},
     "output_type": "display_data"
    }
   ],
   "source": [
    "screen.clear_drawing()\n",
    "\n",
    "points = [(0,0),(20,0),(20,10),(5,20)]\n",
    "screen.draw_polygon(points)\n",
    "IPython.display.display(screen.screen_image)\n",
    "IPython.display.clear_output(wait=True)"
   ]
  },
  {
   "cell_type": "code",
   "execution_count": 4,
   "metadata": {},
   "outputs": [
    {
     "data": {
      "image/png": "[encoded data removed]",
      "text/plain": [
       "<PIL.Image.Image image mode=1 size=128x64 at 0x739855D0>"
      ]
     },
     "metadata": {},
     "output_type": "display_data"
    }
   ],
   "source": [
    "screen.clear_drawing()\n",
    "for i in range(20):\n",
    "    screen.draw_point(10+i,10+i)\n",
    "    IPython.display.display(screen.screen_image)\n",
    "    IPython.display.clear_output(wait=True)"
   ]
  },
  {
   "cell_type": "code",
   "execution_count": 12,
   "metadata": {},
   "outputs": [
    {
     "data": {
      "image/png": "[encoded data removed]",
      "text/plain": [
       "<PIL.Image.Image image mode=1 size=128x64 at 0x739853F0>"
      ]
     },
     "metadata": {},
     "output_type": "display_data"
    }
   ],
   "source": [
    "import math\n",
    "import time\n",
    "\n",
    "for j in range(4):\n",
    "    screen.clear_drawing()\n",
    "    for i in range(128):\n",
    "        t = time.time()\n",
    "        y = int(64/2+math.cos(i/5)*30)\n",
    "        screen.draw.point((i,y),fill=1)\n",
    "        IPython.display.display(screen.screen_image)\n",
    "        IPython.display.clear_output(wait=True)\n",
    "        #print(time.time()-t)\n",
    "\n"
   ]
  },
  {
   "cell_type": "code",
   "execution_count": 13,
   "metadata": {},
   "outputs": [
    {
     "data": {
      "image/png": "[encoded data removed]",
      "text/plain": [
       "<PIL.Image.Image image mode=1 size=128x64 at 0x679C43F0>"
      ]
     },
     "metadata": {},
     "output_type": "display_data"
    }
   ],
   "source": [
    "import math\n",
    "import time\n",
    "#plotting only on jupyter notebook\n",
    "\n",
    "\n",
    "for j in range(2):\n",
    "    screen.clear_drawing()\n",
    "    for i in range(128):\n",
    "        t = time.time()\n",
    "        millivolt = int(zumi.get_battery_voltage()*1000)\n",
    "        #print(millivolt)\n",
    "        y = int(50-zumi.get_battery_voltage()*10)\n",
    "        #y = int(32+zumi.get_vcc_voltage())\n",
    "        screen.draw.rectangle((5, 50, 40, 50+10), outline=1, fill=0)\n",
    "        screen.draw.text((10, 50), str(millivolt), fill=255)\n",
    "        screen.draw.point((i,y),fill=1)\n",
    "        IPython.display.display(screen.screen_image)\n",
    "        IPython.display.clear_output(wait=True)\n",
    "        #print(time.time()-t)"
   ]
  },
  {
   "cell_type": "code",
   "execution_count": 10,
   "metadata": {},
   "outputs": [
    {
     "data": {
      "image/png": "[encoded data removed]",
      "text/plain": [
       "<PIL.Image.Image image mode=1 size=128x64 at 0x679523F0>"
      ]
     },
     "metadata": {},
     "output_type": "display_data"
    }
   ],
   "source": [
    "import math\n",
    "import time\n",
    "#plotting on screen, slow\n",
    "for j in range(2):\n",
    "    screen.clear_drawing()\n",
    "    for i in range(128):\n",
    "        t = time.time()\n",
    "        millivolt = int(zumi.get_battery_voltage()*1000)\n",
    "        #print(millivolt)\n",
    "        y = int(60-zumi.get_battery_voltage()*12)\n",
    "        #y = int(32+zumi.get_vcc_voltage())\n",
    "        screen.draw.rectangle((5, 50, 40, 50+10), outline=1, fill=0)\n",
    "        screen.draw.text((10, 50), str(millivolt), fill=255)\n",
    "        screen.draw.point((i,y),fill=1)\n",
    "        screen.disp.image(screen.screen_image)\n",
    "        screen.disp.display()\n",
    "        IPython.display.display(screen.screen_image)\n",
    "        IPython.display.clear_output(wait=True)\n",
    "        #print(time.time()-t)"
   ]
  },
  {
   "cell_type": "code",
   "execution_count": 6,
   "metadata": {},
   "outputs": [],
   "source": [
    "screen.draw_line(0,0,20,60)"
   ]
  },
  {
   "cell_type": "code",
   "execution_count": 14,
   "metadata": {},
   "outputs": [
    {
     "data": {
      "image/png": "[encoded data removed]",
      "text/plain": [
       "<PIL.Image.Image image mode=1 size=128x64 at 0x679C4E50>"
      ]
     },
     "metadata": {},
     "output_type": "display_data"
    }
   ],
   "source": [
    "screen.clear_drawing()\n",
    "for i in range(20):\n",
    "    #this will both draw a rectangle and display it\n",
    "    screen.draw_rect(10+i,10+i,5,10)\n",
    "    IPython.display.display(screen.screen_image)\n",
    "    IPython.display.clear_output(wait=True)"
   ]
  },
  {
   "cell_type": "code",
   "execution_count": 8,
   "metadata": {},
   "outputs": [
    {
     "data": {
      "image/png": "[encoded data removed]",
      "text/plain": [
       "<PIL.Image.Image image mode=1 size=128x64 at 0x72FC4650>"
      ]
     },
     "metadata": {},
     "output_type": "display_data"
    }
   ],
   "source": [
    "screen.clear_drawing()\n",
    "for i in range(20):\n",
    "    #this wipes away the drawing\n",
    "    screen.clear_drawing()\n",
    "    #this will both draw a rectangle and display it\n",
    "    screen.draw_rect(10+i,10+i,5,10)\n",
    "    IPython.display.display(screen.screen_image)\n",
    "    IPython.display.clear_output(wait=True)"
   ]
  },
  {
   "cell_type": "code",
   "execution_count": null,
   "metadata": {},
   "outputs": [],
   "source": [
    "screen.clear_drawing()\n",
    "screen.draw_ellipse(60,0,30,10)\n",
    "screen.draw_ellipse(60,40,30,10)\n",
    "#x,y, width, height"
   ]
  },
  {
   "cell_type": "code",
   "execution_count": null,
   "metadata": {},
   "outputs": [],
   "source": [
    "screen.clear_drawing()\n",
    "screen.draw_circle(10,0,20,fill_in=False)"
   ]
  },
  {
   "cell_type": "code",
   "execution_count": null,
   "metadata": {},
   "outputs": [],
   "source": [
    "screen.clear_drawing()\n",
    "screen.draw_circle(10,0,20,fill_in=True)"
   ]
  },
  {
   "cell_type": "code",
   "execution_count": null,
   "metadata": {},
   "outputs": [],
   "source": [
    "screen.clear_drawing()\n",
    "screen.draw_arc(0,0,20,20,0,180)\n",
    "#x1,y1, x2,y2, starting angle, ending angle"
   ]
  },
  {
   "cell_type": "code",
   "execution_count": null,
   "metadata": {},
   "outputs": [],
   "source": [
    "screen.clear_drawing()\n",
    "screen.draw_chord(0,0,20,20,0,180)\n",
    "screen.draw_chord(30,30,50,50,0,270)\n",
    "screen.draw_chord(60,30,100,50,0,360)"
   ]
  },
  {
   "cell_type": "code",
   "execution_count": null,
   "metadata": {},
   "outputs": [],
   "source": [
    "screen.clear_drawing()\n",
    "for i in range(20):\n",
    "    screen.draw_arc(0,0,20,20,0,180+8*i)"
   ]
  },
  {
   "cell_type": "code",
   "execution_count": null,
   "metadata": {},
   "outputs": [],
   "source": [
    "screen.draw_triangle(10,20,30,40)"
   ]
  },
  {
   "cell_type": "code",
   "execution_count": 10,
   "metadata": {},
   "outputs": [
    {
     "name": "stdout",
     "output_type": "stream",
     "text": [
      "Starting Zumi \n",
      "Pi Zero I2C is available\n",
      "Verified Pi Zero is the same\n",
      "Gyroscope previously calibrated\n",
      "Zumi board detected\n",
      "Compass detected\n",
      "OLED Screen detected\n",
      "Gyroscope & Accelerometer detected\n"
     ]
    }
   ],
   "source": [
    "import PIL.Image\n",
    "import cv2\n",
    "import IPython.display\n",
    "import time\n",
    "from zumi.zumi import Zumi\n",
    "from zumi.util.camera import Camera\n",
    "from zumi.util.vision import Vision\n",
    "from zumi.util.screen import Screen\n",
    "\n",
    "zumi = Zumi()\n",
    "screen = Screen()\n",
    "vision = Vision()"
   ]
  },
  {
   "cell_type": "code",
   "execution_count": 11,
   "metadata": {},
   "outputs": [
    {
     "name": "stdout",
     "output_type": "stream",
     "text": [
      "Closing PiCamera\n",
      "done\n"
     ]
    }
   ],
   "source": [
    "camera = Camera()\n",
    "\n",
    "try:\n",
    "    camera.start_camera()\n",
    "    for i in range(20):\n",
    "        image=camera.capture()\n",
    "        gray = vision.convert_to_gray(image)\n",
    "        data = vision.find_face(gray)\n",
    "        if data is not None:\n",
    "            print(\"found face\")\n",
    "        camera.show_image(gray)\n",
    "        camera.clear_output()\n",
    "finally:        \n",
    "    camera.close()\n",
    "    print(\"done\")"
   ]
  },
  {
   "cell_type": "code",
   "execution_count": null,
   "metadata": {},
   "outputs": [],
   "source": []
  }
 ],
 "metadata": {
  "kernelspec": {
   "display_name": "Python 3",
   "language": "python",
   "name": "python3"
  },
  "language_info": {
   "codemirror_mode": {
    "name": "ipython",
    "version": 3
   },
   "file_extension": ".py",
   "mimetype": "text/x-python",
   "name": "python",
   "nbconvert_exporter": "python",
   "pygments_lexer": "ipython3",
   "version": "3.5.3"
  }
 },
 "nbformat": 4,
 "nbformat_minor": 2
}
