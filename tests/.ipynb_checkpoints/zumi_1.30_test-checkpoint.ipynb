{
 "cells": [
  {
   "cell_type": "code",
   "execution_count": null,
   "metadata": {},
   "outputs": [],
   "source": [
    "import PIL.Image\n",
    "import cv2\n",
    "import IPython.display\n",
    "import time\n",
    "import datetime\n",
    "from zumi.zumi import Zumi\n",
    "from zumi.util.camera import Camera\n",
    "from zumi.util.screen import Screen\n",
    "from zumi.util.maze import Maze\n",
    "from zumi.util.dice import Dice\n",
    "\n",
    "zumi = Zumi()\n",
    "screen = Screen()"
   ]
  },
  {
   "cell_type": "markdown",
   "metadata": {},
   "source": [
    "# Screen functions"
   ]
  },
  {
   "cell_type": "code",
   "execution_count": null,
   "metadata": {},
   "outputs": [],
   "source": [
    "try:\n",
    "    for i in range(20):\n",
    "        \n",
    "        now = datetime.datetime.now()\n",
    "        \n",
    "        time_zone_adj = 4\n",
    "        hours = now.hour%12+time_zone_adj\n",
    "        minutes = now.minute\n",
    "        msg = str(now.month)+\"/\"+ str(now.day)+\"/\"+str(now.year-2000)\n",
    "        \n",
    "        #display a clock with updated time\n",
    "        screen.clock(hours,minutes,msg)\n",
    "        \n",
    "        #you can also adjust the font size\n",
    "        #screen.clock(hours,minutes,msg,font_size=20)\n",
    "finally:\n",
    "    screen.clear()\n",
    "    screen.display()"
   ]
  },
  {
   "cell_type": "code",
   "execution_count": null,
   "metadata": {},
   "outputs": [],
   "source": [
    "#display something on the screen\n",
    "screen.clock(12,00,\"clock\")\n",
    "\n",
    "#you can adjust the screen brightness\n",
    "for i in range(20):\n",
    "    screen.set_contrast(0)\n",
    "    time.sleep(0.1)\n",
    "    #255 is the max value you can set the contrast\n",
    "    screen.set_contrast(255)\n",
    "    time.sleep(0.1)"
   ]
  },
  {
   "cell_type": "code",
   "execution_count": null,
   "metadata": {},
   "outputs": [],
   "source": [
    "#display something on the screen\n",
    "screen.clock(12,00,\"clock\")\n",
    "\n",
    "#you can invert the image\n",
    "screen.invert()\n",
    "time.sleep(2)\n",
    "\n",
    "#to undo invert set back to normal\n",
    "screen.normal()\n",
    "time.sleep(1)\n",
    "\n",
    "#you can also turn the screen off to conserve power\n",
    "screen.off()\n",
    "time.sleep(2)\n",
    "\n",
    "#and turn it back on with the following command\n",
    "screen.on()"
   ]
  },
  {
   "cell_type": "code",
   "execution_count": null,
   "metadata": {},
   "outputs": [],
   "source": [
    "#will flicker text by turning oled on and off\n",
    "screen.flicker_text(\"hello\")"
   ]
  },
  {
   "cell_type": "code",
   "execution_count": null,
   "metadata": {},
   "outputs": [],
   "source": [
    "#you can also change the number of times \n",
    "#it will do the flicker with count and \n",
    "#change the delay between each flicker\n",
    "screen.flicker_text(\"why\",count=5,delay=1)"
   ]
  },
  {
   "cell_type": "code",
   "execution_count": null,
   "metadata": {},
   "outputs": [],
   "source": [
    "#using the maze generator\n",
    "\n",
    "#create maze object with screen passed in as a parameter\n",
    "maze = Maze(screen)\n",
    "\n",
    "heart = [\n",
    "    [1, 1, 1, 1, 1, 1, 1, 1, 1, 1, 1, 1, 1],\n",
    "    [1, 1, 1, 0, 0, 1, 1, 1, 0, 0, 1, 1, 1],\n",
    "    [1, 1, 0, 1, 1, 0, 1, 0, 1, 1, 0, 1, 1],\n",
    "    [1, 1, 0, 1, 1, 1, 0, 1, 1, 1, 0, 1, 1],\n",
    "    [1, 1, 0, 1, 1, 1, 1, 1, 1, 1, 0, 1, 1],\n",
    "    [1, 1, 1, 0, 1, 1, 1, 1, 1, 0, 1, 1, 1],\n",
    "    [1, 1, 1, 1, 0, 1, 1, 1, 0, 1, 1, 1, 1],\n",
    "    [1, 1, 1, 1, 1, 0, 1, 0, 1, 1, 1, 1, 1],\n",
    "    [1, 1, 1, 1, 1, 1, 0, 1, 1, 1, 1, 1, 1]\n",
    "]\n",
    "\n",
    "\n",
    "maze.map_generator(heart)\n",
    "time.sleep(2)"
   ]
  },
  {
   "cell_type": "code",
   "execution_count": null,
   "metadata": {},
   "outputs": [],
   "source": [
    "maze = Maze(screen)\n",
    "\n",
    "#watch your zumi screen!\n",
    "maze.map_generator()\n",
    "\n",
    "#move down along y axis\n",
    "maze.move_xy(1,0)\n",
    "time.sleep(0.5)\n",
    "\n",
    "maze.move_xy(1,1)\n",
    "time.sleep(0.5)\n",
    "\n",
    "#move right along x axis\n",
    "maze.move_xy(1,2)\n",
    "time.sleep(0.5)\n",
    "\n",
    "maze.move_xy(2,2)\n",
    "time.sleep(0.5)\n",
    "\n",
    "maze.move_xy(3,2)\n",
    "time.sleep(0.5)"
   ]
  },
  {
   "cell_type": "code",
   "execution_count": null,
   "metadata": {},
   "outputs": [],
   "source": [
    "#you can also create random maps\n",
    "maze.map_generator(maze.random_map())"
   ]
  },
  {
   "cell_type": "code",
   "execution_count": null,
   "metadata": {},
   "outputs": [],
   "source": [
    "#have text loop to the left for 4 seconds\n",
    "screen.loop_text(\"L\", \"why\")\n",
    "time.sleep(4)\n",
    "\n",
    "#you need to call stop scroll \n",
    "#otherwise scroll will occur forever\n",
    "screen.stop_scroll()\n",
    "\n",
    "screen.clear()\n",
    "screen.display()"
   ]
  },
  {
   "cell_type": "code",
   "execution_count": null,
   "metadata": {},
   "outputs": [],
   "source": [
    "#have text moving\n",
    "screen.moving_text(\"L\", \"why\")\n",
    "\n",
    "screen.clear()\n",
    "screen.display()"
   ]
  },
  {
   "cell_type": "markdown",
   "metadata": {},
   "source": [
    "# Zumi library changes"
   ]
  },
  {
   "cell_type": "code",
   "execution_count": null,
   "metadata": {},
   "outputs": [],
   "source": [
    "zumi.print_zumi_library_version()\n",
    "#this method takes forever"
   ]
  },
  {
   "cell_type": "code",
   "execution_count": null,
   "metadata": {},
   "outputs": [],
   "source": [
    "import math\n",
    "for i in range(50):\n",
    "    print(zumi.get_orientation_message())\n",
    "    #tilt angles with respect to gravity vector\n",
    "    print(\"x tilt ang: \",zumi.angle_list[7])\n",
    "    print(\"y tilt ang: \",zumi.angle_list[8])\n",
    "    print(\"z tilt ang: \",zumi.angle_list[9])\n",
    "    print(zumi.get_orientation())\n",
    "    \n",
    "    time.sleep(0.1)\n",
    "    IPython.display.clear_output(wait=True)\n",
    "print(\"done\")"
   ]
  },
  {
   "cell_type": "code",
   "execution_count": null,
   "metadata": {},
   "outputs": [],
   "source": [
    "for i in range(50):\n",
    "    #tilt angles with respect to gravity vector\n",
    "    print(\"x acc ang: \",zumi.angle_list[3])\n",
    "    print(\"y acc ang: \",zumi.angle_list[4])\n",
    "    print(zumi.get_orientation())\n",
    "    time.sleep(0.1)\n",
    "    IPython.display.clear_output(wait=True)\n",
    "print(\"done\")"
   ]
  },
  {
   "cell_type": "code",
   "execution_count": null,
   "metadata": {},
   "outputs": [],
   "source": [
    "zumi.reset_gyro()\n",
    "\n",
    "for i in range(100):\n",
    "    print(\"x gyro ang: \",int(zumi.angle_list[0]))\n",
    "    print(\"x acc ang: \",int(zumi.angle_list[3]))\n",
    "    print(\"x comp ang: \",int(zumi.angle_list[5]))\n",
    "    print(\"x rot ang: \",int(zumi.angle_list[7]))\n",
    "    print(\" --- \")\n",
    "    print(\"y gyro ang: \",int(zumi.angle_list[1]))\n",
    "    print(\"y acc ang: \",int(zumi.angle_list[4]))\n",
    "    print(\"y comp ang: \",int(zumi.angle_list[6]))\n",
    "    print(\"y rot ang: \",int(zumi.angle_list[8]))\n",
    "    print(zumi.get_orientation())\n",
    "    time.sleep(0.05)\n",
    "    IPython.display.clear_output(wait=True)\n",
    "print(\"done\")"
   ]
  },
  {
   "cell_type": "code",
   "execution_count": null,
   "metadata": {},
   "outputs": [],
   "source": [
    "for i in range(50):\n",
    "    #tilt angles with respect to gravity vector\n",
    "    print(\"x acc : \",zumi.mpu_list[0])\n",
    "    print(\"y acc : \",zumi.mpu_list[1])\n",
    "    print(\"z acc : \",zumi.mpu_list[2])\n",
    "    print(zumi.get_orientation())\n",
    "    time.sleep(0.1)\n",
    "    IPython.display.clear_output(wait=True)\n",
    "print(\"done\")"
   ]
  },
  {
   "cell_type": "code",
   "execution_count": null,
   "metadata": {},
   "outputs": [],
   "source": [
    "from zumi.zumi import Zumi\n",
    "import time\n",
    "from zumi.util.screen import Screen\n",
    "from zumi.util.maze import Maze\n",
    "from zumi.util.dice import Dice\n",
    "zumi = Zumi()\n",
    "screen = Screen()\n",
    "\n",
    "dice = Dice(zumi,screen)\n",
    "\n",
    "#shake your Zumi\n",
    "#no real dice image yet\n",
    "dice.roll_dice()"
   ]
  },
  {
   "cell_type": "code",
   "execution_count": null,
   "metadata": {},
   "outputs": [],
   "source": [
    "from zumi.zumi import Zumi\n",
    "import time\n",
    "from zumi.util.screen import Screen\n",
    "from zumi.util.gyro_draw import Gyro_Draw\n",
    "zumi = Zumi()\n",
    "screen = Screen()\n",
    "gyro_draw = Gyro_Draw(zumi,screen)\n",
    "gyro_draw.draw_crossline()\n",
    "\n",
    "#move your zumi \n",
    "try:\n",
    "    for i in range(100):\n",
    "        angle = gyro_draw.get_angle()\n",
    "        \n",
    "\n",
    "        changeX = gyro_draw.scale_change(angle[0], -90, 90, 0, 128)\n",
    "        changeY = gyro_draw.scale_change(angle[1], -90, 90, 64, 0)\n",
    "\n",
    "        #IPython.display.clear_output(wait=True)\n",
    "        #print(angle[0], angle[1], changeX, changeY)\n",
    "        \n",
    "        gyro_draw.draw_xy(changeX, changeY)\n",
    "\n",
    "except KeyboardInterrupt:\n",
    "        gyro_draw.clear_screen()\n",
    "finally:\n",
    "    print(\"done\")\n",
    "    screen.clear()\n",
    "    screen.display()"
   ]
  },
  {
   "cell_type": "code",
   "execution_count": null,
   "metadata": {},
   "outputs": [],
   "source": [
    "from zumi.zumi import Zumi\n",
    "import time\n",
    "from zumi.util.screen import Screen\n",
    "from zumi.util.line_tracer import Line_Tracer\n",
    "zumi = Zumi()\n",
    "screen = Screen()\n",
    "line_tracer = Line_Tracer(zumi)\n",
    "#drive only for 4 lines crossed\n",
    "#line_tracer.crossing_line(4)\n",
    "\n",
    "#drive for 3 seconds while counting the lines\n",
    "line_tracer.counting_line(3)\n"
   ]
  },
  {
   "cell_type": "markdown",
   "metadata": {},
   "source": [
    "# IR functions"
   ]
  },
  {
   "cell_type": "code",
   "execution_count": null,
   "metadata": {},
   "outputs": [],
   "source": [
    "print(zumi.read_IR(\"front_left\"))\n",
    "print(zumi.boolean_IR(\"front_left\"))"
   ]
  },
  {
   "cell_type": "code",
   "execution_count": null,
   "metadata": {},
   "outputs": [],
   "source": [
    "zumi.get_all_IR_data()\n",
    "\n",
    "print(zumi.ir_list)\n",
    "print(\"Front left \",zumi.front_left_detect())\n",
    "print(\"Front right \",zumi.front_right_detect())\n",
    "print(\"Bottom left \",zumi.bottom_left_detect())\n",
    "print(\"Bottom Right \",zumi.bottom_right_detect())\n",
    "print(\"Back left \",zumi.back_left_detect())\n",
    "print(\"Back right \",zumi.back_right_detect())"
   ]
  },
  {
   "cell_type": "code",
   "execution_count": null,
   "metadata": {},
   "outputs": [],
   "source": [
    "#try to follow a line for 10 seconds\n",
    "zumi.line_follower(10) "
   ]
  },
  {
   "cell_type": "code",
   "execution_count": null,
   "metadata": {},
   "outputs": [],
   "source": [
    "#you can also do this to use it in loops\n",
    "for i in range(100):\n",
    "    zumi.line_follow_step()\n",
    "zumi.stop()"
   ]
  }
 ],
 "metadata": {
  "kernelspec": {
   "display_name": "Python 3",
   "language": "python",
   "name": "python3"
  },
  "language_info": {
   "codemirror_mode": {
    "name": "ipython",
    "version": 3
   },
   "file_extension": ".py",
   "mimetype": "text/x-python",
   "name": "python",
   "nbconvert_exporter": "python",
   "pygments_lexer": "ipython3",
   "version": "3.5.3"
  }
 },
 "nbformat": 4,
 "nbformat_minor": 2
}
