{
 "cells": [
  {
   "cell_type": "code",
   "execution_count": null,
   "metadata": {},
   "outputs": [],
   "source": [
    "import PIL.Image\n",
    "import cv2\n",
    "import IPython.display\n",
    "import time\n",
    "from zumi.zumi import Zumi\n",
    "from zumi.util.screen import Screen\n",
    "\n",
    "import math\n",
    "import time\n",
    "\n",
    "zumi = Zumi()\n",
    "screen = Screen()"
   ]
  },
  {
   "cell_type": "markdown",
   "metadata": {},
   "source": [
    "# screen.print()"
   ]
  },
  {
   "cell_type": "code",
   "execution_count": null,
   "metadata": {},
   "outputs": [],
   "source": [
    "#works on Zumi 1.41 and above\n",
    "\n",
    "#this wipes the drawing not the screen\n",
    "screen.clear_drawing()\n",
    "number = 17.4\n",
    "#this will draw and the display on the screen\n",
    "screen.print(number)"
   ]
  },
  {
   "cell_type": "code",
   "execution_count": null,
   "metadata": {},
   "outputs": [],
   "source": [
    "#this wipes the drawing not the screen\n",
    "screen.clear_drawing()\n",
    "\n",
    "#this will draw and the display on the screen\n",
    "# a string message\n",
    "screen.print(\"number\")"
   ]
  },
  {
   "cell_type": "code",
   "execution_count": null,
   "metadata": {},
   "outputs": [],
   "source": [
    "screen.clear_drawing()\n",
    "#you can also do multiple inputs into print using comma separator\n",
    "screen.print(\"123456789ABCDEFGHIJKL\\n\",12345678,number,\"wvhybnjkasnbkjns\\nwvhybnjkasnbkjns\")"
   ]
  },
  {
   "cell_type": "code",
   "execution_count": null,
   "metadata": {},
   "outputs": [],
   "source": [
    "screen.clear_drawing()\n",
    "#you can change the position of the print statement\n",
    "screen.print(\"12345678\",x=10,y=10)"
   ]
  },
  {
   "cell_type": "code",
   "execution_count": null,
   "metadata": {},
   "outputs": [],
   "source": [
    "screen.clear_drawing()\n",
    "#you need to change the \n",
    "#position if you want to display multiple messages\n",
    "screen.print(\"12345678\")\n",
    "screen.print(\"hello\")\n",
    "#everything will be bunched up and not what you want!"
   ]
  },
  {
   "cell_type": "code",
   "execution_count": null,
   "metadata": {},
   "outputs": [],
   "source": [
    "screen.clear_drawing()\n",
    "#you need to change the \n",
    "#y position like so\n",
    "screen.print(\"12345678\")\n",
    "screen.print(\"hello\", y=15)\n",
    "\n",
    "#or use \\n twice to go down 2 lines\n",
    "screen.print(\"\\n\\n\",\"Jello\")"
   ]
  },
  {
   "cell_type": "code",
   "execution_count": null,
   "metadata": {},
   "outputs": [],
   "source": [
    "screen.clear_drawing()\n",
    "#you can also change font size!\n",
    "screen.print(\"ZUMI\",font_size=20)"
   ]
  },
  {
   "cell_type": "code",
   "execution_count": null,
   "metadata": {},
   "outputs": [],
   "source": [
    "#drawing black letters on white background!\n",
    "\n",
    "screen.clear_drawing()\n",
    "\n",
    "#fill the screen with a white rectangle using fill_in=True\n",
    "screen.draw_rect(0,0,127,63,thickness=1,fill_in=True)\n",
    "\n",
    "#select fill_in=False so letters are black\n",
    "screen.print(\"number\", fill_in=False)"
   ]
  },
  {
   "cell_type": "markdown",
   "metadata": {},
   "source": [
    "# Fill with shapes"
   ]
  },
  {
   "cell_type": "code",
   "execution_count": null,
   "metadata": {},
   "outputs": [],
   "source": [
    "screen.clear_drawing()\n",
    "#draw a white rectangle to fill screen\n",
    "screen.draw_rect(0,0,128,64,thickness=1,fill_in=True)\n",
    "\n",
    "#draw_line(x1, y1, x2, y2, thickness=1,fill_in=1):\n",
    "screen.draw_line(0,0,40,40,fill_in=False)\n",
    "screen.draw_line(40,0,0,40,thickness=10,fill_in=False)"
   ]
  },
  {
   "cell_type": "code",
   "execution_count": null,
   "metadata": {},
   "outputs": [],
   "source": [
    "screen.clear_drawing()\n",
    "#draw a white rectangle to fill screen\n",
    "screen.draw_rect(0,0,128,64,thickness=1,fill_in=True)\n",
    "\n",
    "#draw_triangle(x1, y1, x2, y2, x3, y3,fill_in=1):\n",
    "#triangle between 3 points \n",
    "screen.draw_triangle(0,10,20,50,50,0,fill_in=False)"
   ]
  },
  {
   "cell_type": "code",
   "execution_count": null,
   "metadata": {},
   "outputs": [],
   "source": [
    "screen.clear_drawing()\n",
    "#draw a white rectangle to fill screen\n",
    "screen.draw_rect(0,0,128,64,thickness=1,fill_in=True)\n",
    "\n",
    "#draw_ellipse(self, x, y, width, height, fill_in=0):\n",
    "screen.draw_ellipse(0,0,100,30,fill_in=False)"
   ]
  },
  {
   "cell_type": "markdown",
   "metadata": {},
   "source": [
    "# Graphing on screen"
   ]
  },
  {
   "cell_type": "code",
   "execution_count": null,
   "metadata": {},
   "outputs": [],
   "source": [
    "screen.clear_drawing()\n",
    "#you can also graph\n",
    "for i in range(50):\n",
    "    #graph (x/10)^2\n",
    "    screen.draw_graph(-i,(-i/10)**2)"
   ]
  },
  {
   "cell_type": "code",
   "execution_count": null,
   "metadata": {},
   "outputs": [],
   "source": [
    "screen.clear_drawing()\n",
    "for i in range(40):\n",
    "    screen.draw_graph(i,(i/10)**2)"
   ]
  },
  {
   "cell_type": "code",
   "execution_count": null,
   "metadata": {},
   "outputs": [],
   "source": [
    "screen.clear_drawing()\n",
    "for i in range(0,50,5):\n",
    "    screen.draw_graph(-i,(-i/10)**2)\n",
    "    screen.draw_graph(i,(i/10)**2)"
   ]
  },
  {
   "cell_type": "code",
   "execution_count": null,
   "metadata": {},
   "outputs": [],
   "source": [
    "screen.clear_drawing()\n",
    "for i in range(40):\n",
    "    screen.draw_graph(i,(i/10)**2,y_offset=-31,x_offset=-63)"
   ]
  },
  {
   "cell_type": "markdown",
   "metadata": {},
   "source": [
    "# Movement detection"
   ]
  },
  {
   "cell_type": "code",
   "execution_count": null,
   "metadata": {},
   "outputs": [],
   "source": [
    "from zumi.zumi import Zumi\n",
    "from zumi.util.screen import Screen\n",
    "from zumi.util.camera import Camera\n",
    "import PIL.Image\n",
    "import cv2\n",
    "import IPython.display\n",
    "import time\n",
    "from zumi.util.vision import Vision\n",
    "vision = Vision()\n",
    "\n",
    "\n",
    "try:\n",
    "    #we will use the smallest resolution to speed things up\n",
    "    width = 80  #width pixel of image\n",
    "    height = 60 #height pixels of image \n",
    "    camera = Camera(width,height)\n",
    "    camera.start_camera()\n",
    "    zumi = Zumi()\n",
    "    screen = Screen()\n",
    "    for i in range(100):\n",
    "        #detect movement takes in\n",
    "        #2 frames to find difference\n",
    "        im1 = camera.capture()\n",
    "        im2 = camera.capture()\n",
    "        #val = vision.detect_movement(im1,im2)\n",
    "        val = vision.detect_movement(im1,im2)\n",
    "        print(val)\n",
    "finally:\n",
    "    camera.close()\n",
    "    print(\"done\")  \n",
    "    "
   ]
  },
  {
   "cell_type": "markdown",
   "metadata": {},
   "source": [
    "# Stop sign detection"
   ]
  },
  {
   "cell_type": "code",
   "execution_count": null,
   "metadata": {},
   "outputs": [],
   "source": [
    "from zumi.util.vision import Vision\n",
    "from zumi.util.camera import Camera\n",
    "camera = Camera()\n",
    "vision = Vision()\n",
    "\n",
    "#attempts to find the a stop sign\n",
    "\n",
    "try:\n",
    "    camera.start_camera()\n",
    "    for i in range(200):\n",
    "        image=camera.capture()\n",
    "        gray = vision.convert_to_gray(image)\n",
    "        vision.find_stop_sign(gray)\n",
    "        camera.show_image(gray)\n",
    "        camera.clear_output()\n",
    "finally:        \n",
    "    camera.close()\n",
    "    print(\"done\")"
   ]
  }
 ],
 "metadata": {
  "kernelspec": {
   "display_name": "Python 3",
   "language": "python",
   "name": "python3"
  },
  "language_info": {
   "codemirror_mode": {
    "name": "ipython",
    "version": 3
   },
   "file_extension": ".py",
   "mimetype": "text/x-python",
   "name": "python",
   "nbconvert_exporter": "python",
   "pygments_lexer": "ipython3",
   "version": "3.5.3"
  }
 },
 "nbformat": 4,
 "nbformat_minor": 2
}
