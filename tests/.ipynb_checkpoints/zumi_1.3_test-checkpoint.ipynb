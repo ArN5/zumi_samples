{
 "cells": [
  {
   "cell_type": "code",
   "execution_count": null,
   "metadata": {},
   "outputs": [],
   "source": [
    "import PIL.Image\n",
    "import cv2\n",
    "import IPython.display\n",
    "import time\n",
    "from zumi.zumi import Zumi\n",
    "from zumi.util.camera import Camera\n",
    "from zumi.util.vision import Vision\n",
    "from zumi.util.screen import Screen\n",
    "\n",
    "zumi = Zumi()\n",
    "screen = Screen()"
   ]
  },
  {
   "cell_type": "code",
   "execution_count": null,
   "metadata": {},
   "outputs": [],
   "source": [
    "zumi.print_zumi_library_version()\n",
    "#this method takes forever"
   ]
  },
  {
   "cell_type": "code",
   "execution_count": null,
   "metadata": {},
   "outputs": [],
   "source": [
    "import math\n",
    "for i in range(50):\n",
    "    print(zumi.get_orientation_message())\n",
    "    #tilt angles with respect to gravity vector\n",
    "    print(\"x tilt ang: \",zumi.angle_list[7])\n",
    "    print(\"y tilt ang: \",zumi.angle_list[8])\n",
    "    print(\"z tilt ang: \",zumi.angle_list[9])\n",
    "    print(zumi.get_orientation())\n",
    "    \n",
    "    time.sleep(0.1)\n",
    "    IPython.display.clear_output(wait=True)\n",
    "print(\"done\")"
   ]
  },
  {
   "cell_type": "code",
   "execution_count": null,
   "metadata": {},
   "outputs": [],
   "source": [
    "for i in range(50):\n",
    "    #tilt angles with respect to gravity vector\n",
    "    print(\"x acc ang: \",zumi.angle_list[3])\n",
    "    print(\"y acc ang: \",zumi.angle_list[4])\n",
    "    print(zumi.get_orientation())\n",
    "    time.sleep(0.1)\n",
    "    IPython.display.clear_output(wait=True)\n",
    "print(\"done\")"
   ]
  },
  {
   "cell_type": "code",
   "execution_count": null,
   "metadata": {},
   "outputs": [],
   "source": [
    "zumi.reset_gyro()\n",
    "\n",
    "for i in range(100):\n",
    "    print(\"x gyro ang: \",int(zumi.angle_list[0]))\n",
    "    print(\"x acc ang: \",int(zumi.angle_list[3]))\n",
    "    print(\"x comp ang: \",int(zumi.angle_list[5]))\n",
    "    print(\"x rot ang: \",int(zumi.angle_list[7]))\n",
    "    print(\" --- \")\n",
    "    print(\"y gyro ang: \",int(zumi.angle_list[1]))\n",
    "    print(\"y acc ang: \",int(zumi.angle_list[4]))\n",
    "    print(\"y comp ang: \",int(zumi.angle_list[6]))\n",
    "    print(\"y rot ang: \",int(zumi.angle_list[8]))\n",
    "    print(zumi.get_orientation())\n",
    "    time.sleep(0.05)\n",
    "    IPython.display.clear_output(wait=True)\n",
    "print(\"done\")"
   ]
  },
  {
   "cell_type": "code",
   "execution_count": null,
   "metadata": {},
   "outputs": [],
   "source": [
    "for i in range(50):\n",
    "    #tilt angles with respect to gravity vector\n",
    "    print(\"x acc : \",zumi.mpu_list[0])\n",
    "    print(\"y acc : \",zumi.mpu_list[1])\n",
    "    print(\"z acc : \",zumi.mpu_list[2])\n",
    "    print(zumi.get_orientation())\n",
    "    time.sleep(0.1)\n",
    "    IPython.display.clear_output(wait=True)\n",
    "print(\"done\")"
   ]
  },
  {
   "cell_type": "code",
   "execution_count": null,
   "metadata": {},
   "outputs": [],
   "source": [
    "zumi = Zumi()\n",
    "camera = Camera()\n",
    "vision = Vision()\n",
    "camera.start_camera()\n",
    "\n",
    "try:\n",
    "    for i in range(100):#take 100 frames\n",
    "        time_start = time.time()\n",
    "        image = camera.capture()\n",
    "        vision.find_QR_code(image)\n",
    "        camera.show_image(image)\n",
    "        camera.clear_output()\n",
    "finally:\n",
    "    camera.close()\n",
    "    print(\"done\")"
   ]
  },
  {
   "cell_type": "code",
   "execution_count": null,
   "metadata": {},
   "outputs": [],
   "source": [
    "zumi = Zumi()\n",
    "camera = Camera()\n",
    "vision = Vision()\n",
    "camera.start_camera()\n",
    "\n",
    "try:\n",
    "    for i in range(50):\n",
    "        time_start = time.time()\n",
    "        image = camera.capture()\n",
    "        qr_code = vision.find_QR_code(image)\n",
    "        print(vision.get_QR_message(qr_code))\n",
    "        #camera.show_image(image)\n",
    "        camera.clear_output()\n",
    "finally:\n",
    "    camera.close()\n",
    "    print(\"done\")"
   ]
  },
  {
   "cell_type": "code",
   "execution_count": null,
   "metadata": {},
   "outputs": [],
   "source": [
    "zumi = Zumi()\n",
    "camera = Camera()\n",
    "vision = Vision()\n",
    "camera.start_camera()\n",
    "\n",
    "try:\n",
    "    for i in range(50):\n",
    "        time_start = time.time()\n",
    "        image = camera.capture()\n",
    "        vision.find_yellow_object(image)\n",
    "        camera.show_image(image)\n",
    "        camera.clear_output()\n",
    "finally:\n",
    "    camera.close()\n",
    "    print(\"done\")"
   ]
  },
  {
   "cell_type": "code",
   "execution_count": null,
   "metadata": {},
   "outputs": [],
   "source": [
    "#import PIL.Image\n",
    "import cv2\n",
    "import IPython.display\n",
    "import time\n",
    "from zumi.util.camera import Camera\n",
    "from zumi.util.vision import Vision\n",
    "from zumi.zumi import Zumi\n",
    "\n",
    "zumi = Zumi()\n",
    "camera = Camera()\n",
    "vision = Vision()\n",
    "camera.start_camera()\n",
    "\n",
    "try:\n",
    "    #test to see the camera save_photo working\n",
    "    camera.save_photo(\"test\")\n",
    "finally:\n",
    "    camera.close()\n",
    "    print(\"done\")\n",
    "IPython.display.Image(\"test.jpg\")"
   ]
  },
  {
   "cell_type": "code",
   "execution_count": null,
   "metadata": {},
   "outputs": [],
   "source": [
    "#import PIL.Image\n",
    "import cv2\n",
    "import IPython.display\n",
    "from PIL import Image\n",
    "import time\n",
    "from zumi.util.camera import Camera\n",
    "from zumi.util.vision import Vision\n",
    "from zumi.zumi import Zumi\n",
    "\n",
    "zumi = Zumi()\n",
    "camera = Camera()\n",
    "vision = Vision()\n",
    "camera.start_camera()\n",
    "\n",
    "try:\n",
    "    #take a picture\n",
    "    image = camera.capture()\n",
    "\n",
    "    #this is for saving images you have taken \n",
    "    camera.save_image(image,\"test2\")\n",
    "finally:\n",
    "    camera.close()\n",
    "    print(\"done\")\n",
    "IPython.display.Image(\"test2.jpg\")"
   ]
  },
  {
   "cell_type": "code",
   "execution_count": null,
   "metadata": {},
   "outputs": [],
   "source": [
    "#import PIL.Image\n",
    "import cv2\n",
    "import IPython.display\n",
    "import time\n",
    "from zumi.util.camera import Camera\n",
    "from zumi.util.vision import Vision\n",
    "from zumi.zumi import Zumi\n",
    "import os\n",
    "\n",
    "zumi = Zumi()\n",
    "camera = Camera(320,240)\n",
    "vision = Vision()\n",
    "camera.start_camera()\n",
    "\n",
    "try:\n",
    "    #will record video for 5 seconds, framerate will vary\n",
    "    camera.record_video(5,file_name=\"lab_test\")\n",
    "finally:\n",
    "    camera.close()\n",
    "    print(\"done\")"
   ]
  },
  {
   "cell_type": "code",
   "execution_count": null,
   "metadata": {},
   "outputs": [],
   "source": [
    "#you can display the video you recorded\n",
    "#the speed of the movie will be off since \n",
    "#recording on pi zero loses a lot of frames\n",
    "IPython.display.Video(\"lab_test.mp4\")"
   ]
  },
  {
   "cell_type": "code",
   "execution_count": null,
   "metadata": {},
   "outputs": [],
   "source": [
    "from zumi.zumi import Zumi\n",
    "import time\n",
    "from zumi.util.screen import Screen\n",
    "from zumi.util.maze import Maze\n",
    "from zumi.util.dice import Dice\n",
    "zumi = Zumi()\n",
    "screen = Screen()\n",
    "screen.stop_scroll()\n",
    "maze = Maze(screen)\n",
    "\n",
    "heart = [\n",
    "    [1, 1, 1, 1, 1, 1, 1, 1, 1, 1, 1, 1, 1],\n",
    "    [1, 1, 1, 0, 0, 1, 1, 1, 0, 0, 1, 1, 1],\n",
    "    [1, 1, 0, 1, 1, 0, 1, 0, 1, 1, 0, 1, 1],\n",
    "    [1, 1, 0, 1, 1, 1, 0, 1, 1, 1, 0, 1, 1],\n",
    "    [1, 1, 0, 1, 1, 1, 1, 1, 1, 1, 0, 1, 1],\n",
    "    [1, 1, 1, 0, 1, 1, 1, 1, 1, 0, 1, 1, 1],\n",
    "    [1, 1, 1, 1, 0, 1, 1, 1, 0, 1, 1, 1, 1],\n",
    "    [1, 1, 1, 1, 1, 0, 1, 0, 1, 1, 1, 1, 1],\n",
    "    [1, 1, 1, 1, 1, 1, 0, 1, 1, 1, 1, 1, 1]\n",
    "]\n",
    "\n",
    "#watch your zumi screen!\n",
    "\n",
    "maze.map_generator()\n",
    "\n",
    "maze.move_xy(1,0)\n",
    "time.sleep(0.5)\n",
    "\n",
    "maze.move_xy(1,1)\n",
    "time.sleep(0.5)\n",
    "\n",
    "maze.move_xy(1,2)\n",
    "time.sleep(0.5)\n",
    "\n",
    "maze.map_generator(heart)\n",
    "time.sleep(2)\n",
    "\n",
    "maze.map_generator(maze.random_map())"
   ]
  },
  {
   "cell_type": "code",
   "execution_count": null,
   "metadata": {},
   "outputs": [],
   "source": [
    "#will flicker text by turning oled on and off\n",
    "screen.flicker_text(\"hello\")\n",
    "\n",
    "#you can also change the number of times \n",
    "#it will do the flicker with count and \n",
    "#change the delay between each flicker\n",
    "screen.flicker_text(\"why\",count=5,delay=1)"
   ]
  },
  {
   "cell_type": "code",
   "execution_count": null,
   "metadata": {},
   "outputs": [],
   "source": [
    "screen.left_scroll()"
   ]
  },
  {
   "cell_type": "code",
   "execution_count": null,
   "metadata": {},
   "outputs": [],
   "source": [
    "screen.invert()\n",
    "time.sleep(2)\n",
    "screen.normal()\n",
    "time.sleep(1)\n",
    "screen.off()\n",
    "time.sleep(2)\n",
    "screen.on()\n"
   ]
  },
  {
   "cell_type": "code",
   "execution_count": null,
   "metadata": {},
   "outputs": [],
   "source": [
    "from zumi.zumi import Zumi\n",
    "import time\n",
    "from zumi.util.screen import Screen\n",
    "from zumi.util.maze import Maze\n",
    "from zumi.util.dice import Dice\n",
    "zumi = Zumi()\n",
    "screen = Screen()\n",
    "\n",
    "dice = Dice(zumi,screen)\n",
    "\n",
    "#shake your Zumi\n",
    "#no real dice image yet\n",
    "dice.roll_dice()"
   ]
  },
  {
   "cell_type": "code",
   "execution_count": null,
   "metadata": {},
   "outputs": [],
   "source": [
    "from zumi.zumi import Zumi\n",
    "import time\n",
    "from zumi.util.screen import Screen\n",
    "from zumi.util.gyro_draw import Gyro_Draw\n",
    "zumi = Zumi()\n",
    "screen = Screen()\n",
    "gyro_draw = Gyro_Draw(zumi,screen)\n",
    "gyro_draw.draw_crossline()\n",
    "\n",
    "#move your zumi \n",
    "try:\n",
    "    for i in range(100):\n",
    "        angle = gyro_draw.get_angle()\n",
    "        \n",
    "        # 자이로 스코프의 값을 Zumi 스크린 좌표 값으로 변환해 줍니다.\n",
    "        changeX = gyro_draw.scale_change(angle[0], -90, 90, 0, 128)\n",
    "        changeY = gyro_draw.scale_change(angle[1], -90, 90, 64, 0)\n",
    "\n",
    "        #IPython.display.clear_output(wait=True)\n",
    "        #print(angle[0], angle[1], changeX, changeY)\n",
    "        \n",
    "        # Zumi 스크린에 사각형 점을 표시합니다.\n",
    "        gyro_draw.draw_xy(changeX, changeY)\n",
    "\n",
    "except KeyboardInterrupt:\n",
    "        gyro_draw.clear_screen()\n",
    "finally:\n",
    "    print(\"done\")"
   ]
  },
  {
   "cell_type": "code",
   "execution_count": null,
   "metadata": {},
   "outputs": [],
   "source": [
    "from zumi.zumi import Zumi\n",
    "import time\n",
    "from zumi.util.screen import Screen\n",
    "from zumi.util.line_tracer import Line_Tracer\n",
    "zumi = Zumi()\n",
    "screen = Screen()\n",
    "line_tracer = Line_Tracer(zumi)\n",
    "#drive only for 4 lines crossed\n",
    "#line_tracer.crossing_line(4)\n",
    "\n",
    "#drive for 3 seconds while counting the lines\n",
    "line_tracer.counting_line(3)\n"
   ]
  },
  {
   "cell_type": "code",
   "execution_count": null,
   "metadata": {},
   "outputs": [],
   "source": [
    "from zumi.zumi import Zumi\n",
    "zumi = Zumi()\n",
    "print(zumi.read_IR(\"front_left\"))\n",
    "print(zumi.boolean_IR(\"front_left\"))"
   ]
  },
  {
   "cell_type": "code",
   "execution_count": null,
   "metadata": {},
   "outputs": [],
   "source": [
    "from zumi.zumi import Zumi\n",
    "import time\n",
    "from zumi.util.screen import Screen\n",
    "zumi = Zumi()\n",
    "screen = Screen()\n",
    "screen.moving_text(\"L\", \"why\")"
   ]
  },
  {
   "cell_type": "code",
   "execution_count": null,
   "metadata": {},
   "outputs": [],
   "source": [
    "from zumi.zumi import Zumi\n",
    "import time\n",
    "from zumi.util.screen import Screen\n",
    "from zumi.util.line_tracer import Line_Tracer\n",
    "zumi = Zumi()\n",
    "screen = Screen()\n",
    "screen.loop_text(\"L\", \"why\")\n",
    "time.sleep(2)\n",
    "screen.stop_scroll()"
   ]
  },
  {
   "cell_type": "code",
   "execution_count": null,
   "metadata": {},
   "outputs": [],
   "source": [
    "from zumi.zumi import Zumi\n",
    "import time\n",
    "from zumi.util.screen import Screen\n",
    "\n",
    "zumi = Zumi()\n",
    "screen = Screen()\n",
    "screen.clock(3,25,\"clock\")\n",
    "try:\n",
    "    for i in range(100):\n",
    "        screen.set_contrast(0)\n",
    "        screen.left_scroll()\n",
    "        time.sleep(4)\n",
    "        screen.set_contrast(255)\n",
    "        screen.right_scroll()\n",
    "        time.sleep(4)\n",
    "finally:\n",
    "    screen.stop_scroll()"
   ]
  },
  {
   "cell_type": "code",
   "execution_count": null,
   "metadata": {},
   "outputs": [],
   "source": [
    "from zumi.zumi import Zumi\n",
    "import time\n",
    "from zumi.util.screen import Screen\n",
    "\n",
    "zumi = Zumi()\n",
    "screen = Screen()\n",
    "\n",
    "zumi.get_all_IR_data()\n",
    "\n",
    "print(zumi.ir_list)\n",
    "print(\"Front left \",zumi.front_left_detect())\n",
    "print(\"Front right \",zumi.front_right_detect())\n",
    "print(\"Bottom left \",zumi.bottom_left_detect())\n",
    "print(\"Bottom Right \",zumi.bottom_right_detect())\n",
    "print(\"Back left \",zumi.back_left_detect())\n",
    "print(\"Back right \",zumi.back_right_detect())"
   ]
  },
  {
   "cell_type": "code",
   "execution_count": 1,
   "metadata": {},
   "outputs": [
    {
     "name": "stdout",
     "output_type": "stream",
     "text": [
      "Starting PiCamera\n",
      "Closing PiCamera\n",
      "done\n"
     ]
    }
   ],
   "source": [
    "from zumi.util.camera import Camera\n",
    "from zumi.util.screen import Screen\n",
    "import cv2\n",
    "import time\n",
    "\n",
    "screen = Screen()\n",
    "camera = Camera()\n",
    "\n",
    "try:\n",
    "    camera.start_camera()\n",
    "    for i in range(20):\n",
    "        image=camera.capture()\n",
    "        screen.show_image(image)\n",
    "finally:        \n",
    "    camera.close()\n",
    "    print(\"done\")"
   ]
  },
  {
   "cell_type": "code",
   "execution_count": 2,
   "metadata": {},
   "outputs": [
    {
     "name": "stdout",
     "output_type": "stream",
     "text": [
      "Closing PiCamera\n"
     ]
    }
   ],
   "source": [
    "from zumi.util.camera import Camera\n",
    "from zumi.util.screen import Screen\n",
    "import cv2\n",
    "import time\n",
    "\n",
    "camera = Camera()\n",
    "\n",
    "try:\n",
    "    camera.start_camera()\n",
    "    for i in range(20):\n",
    "        image=camera.capture()\n",
    "        camera.show_image(image)\n",
    "        camera.clear_output()\n",
    "finally:        \n",
    "    camera.close()"
   ]
  },
  {
   "cell_type": "code",
   "execution_count": null,
   "metadata": {},
   "outputs": [],
   "source": [
    "from zumi.zumi import Zumi\n",
    "import time\n",
    "\n",
    "zumi = Zumi()\n",
    "zumi.line_follower(10) "
   ]
  },
  {
   "cell_type": "code",
   "execution_count": null,
   "metadata": {},
   "outputs": [],
   "source": [
    "from zumi.zumi import Zumi\n",
    "import time\n",
    "\n",
    "zumi = Zumi()\n",
    "#you can also do this to use it in loops\n",
    "for i in range(100):\n",
    "    zumi.line_follow_step()\n",
    "zumi.stop()"
   ]
  },
  {
   "cell_type": "code",
   "execution_count": null,
   "metadata": {},
   "outputs": [],
   "source": []
  }
 ],
 "metadata": {
  "kernelspec": {
   "display_name": "Python 3",
   "language": "python",
   "name": "python3"
  },
  "language_info": {
   "codemirror_mode": {
    "name": "ipython",
    "version": 3
   },
   "file_extension": ".py",
   "mimetype": "text/x-python",
   "name": "python",
   "nbconvert_exporter": "python",
   "pygments_lexer": "ipython3",
   "version": "3.5.3"
  }
 },
 "nbformat": 4,
 "nbformat_minor": 2
}
