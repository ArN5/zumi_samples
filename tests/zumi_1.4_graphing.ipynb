{
 "cells": [
  {
   "cell_type": "code",
   "execution_count": 16,
   "metadata": {},
   "outputs": [
    {
     "name": "stdout",
     "output_type": "stream",
     "text": [
      "Starting Zumi \n",
      "Pi Zero I2C is available\n",
      "Verified Pi Zero is the same\n",
      "Gyroscope previously calibrated\n",
      "Zumi board detected\n",
      "Compass detected\n",
      "OLED Screen detected\n",
      "Gyroscope & Accelerometer detected\n"
     ]
    }
   ],
   "source": [
    "import PIL.Image\n",
    "import cv2\n",
    "import IPython.display\n",
    "import time\n",
    "from zumi.zumi import Zumi\n",
    "from zumi.util.screen import Screen\n",
    "\n",
    "import math\n",
    "import time\n",
    "\n",
    "zumi = Zumi()\n",
    "screen = Screen()\n",
    "#works on Zumi 1.4 and above"
   ]
  },
  {
   "cell_type": "code",
   "execution_count": 17,
   "metadata": {},
   "outputs": [
    {
     "data": {
      "image/png": "[encoded data removed]",
      "text/plain": [
       "<PIL.Image.Image image mode=1 size=128x64 at 0x679FBF50>"
      ]
     },
     "metadata": {},
     "output_type": "display_data"
    }
   ],
   "source": [
    "import math\n",
    "import time\n",
    "\n",
    "#graphing a cosine wave on screen\n",
    "#this is a pretty slow process\n",
    "\n",
    "screen.clear_drawing()\n",
    "\n",
    "#x will hold the x position it will go from 0 to 128 pixels\n",
    "#basically from the left of the screen to the right\n",
    "for x in range(128):\n",
    "    \n",
    "    #y is the pixel height it will be a cosine wave\n",
    "    y = int(64/2-math.cos(x/5)*30)\n",
    "    \n",
    "    #we draw the current point in the graph\n",
    "    #using a method from PIL  screen.draw.point instead of \n",
    "    #of zumi function screen.draw_point()\n",
    "    screen.draw.point((x,y),fill=1)\n",
    "    \n",
    "    #display the image on screen\n",
    "    screen.disp.image(screen.screen_image)\n",
    "    screen.disp.display()\n",
    "    \n",
    "    #display the image on jupyter\n",
    "    IPython.display.display(screen.screen_image)\n",
    "    IPython.display.clear_output(wait=True)\n"
   ]
  },
  {
   "cell_type": "code",
   "execution_count": 18,
   "metadata": {},
   "outputs": [
    {
     "data": {
      "image/png": "[encoded data removed]",
      "text/plain": [
       "<PIL.Image.Image image mode=1 size=128x64 at 0x679FB250>"
      ]
     },
     "metadata": {},
     "output_type": "display_data"
    }
   ],
   "source": [
    "#graphing a cosine wave on jupyter only\n",
    "#will be far faster\n",
    "\n",
    "screen.clear_drawing()\n",
    "\n",
    "for x in range(128):\n",
    "\n",
    "    y = int(64/2-math.cos(x/5)*30)\n",
    "    #draw the point\n",
    "    screen.draw.point((x,y),fill=1)\n",
    "        \n",
    "    #display the image on jupyter\n",
    "    IPython.display.display(screen.screen_image)\n",
    "    IPython.display.clear_output(wait=True)"
   ]
  },
  {
   "cell_type": "code",
   "execution_count": 21,
   "metadata": {},
   "outputs": [
    {
     "data": {
      "image/png": "[encoded data removed]",
      "text/plain": [
       "<PIL.Image.Image image mode=1 size=128x64 at 0x679FBF10>"
      ]
     },
     "metadata": {},
     "output_type": "display_data"
    }
   ],
   "source": [
    "#graphing a cosine wave on jupyter only\n",
    "#will be far faster\n",
    "\n",
    "screen.clear_drawing()\n",
    "\n",
    "for x in range(128):\n",
    "    #here we draw (x/12) ** 2\n",
    "    y = int(64-((x-60)/8)**2)\n",
    "    #draw the point\n",
    "    screen.draw.point((x,y),fill=1)\n",
    "        \n",
    "    #display the image on jupyter\n",
    "    IPython.display.display(screen.screen_image)\n",
    "    IPython.display.clear_output(wait=True)"
   ]
  },
  {
   "cell_type": "code",
   "execution_count": 24,
   "metadata": {},
   "outputs": [
    {
     "data": {
      "image/png": "[encoded data removed]",
      "text/plain": [
       "<PIL.Image.Image image mode=1 size=128x64 at 0x679FBEB0>"
      ]
     },
     "metadata": {},
     "output_type": "display_data"
    }
   ],
   "source": [
    "import math\n",
    "import time\n",
    "\n",
    "#graphing a cosine wave on jupyter only\n",
    "#will be far faster\n",
    "\n",
    "screen.clear_drawing()\n",
    "\n",
    "for x in range(128):\n",
    "    #here we draw e^(x/10)\n",
    "    y = int(64-math.exp((x-64)/10))\n",
    "    #draw the point\n",
    "    screen.draw.point((x,y),fill=1)\n",
    "        \n",
    "    #display the image on jupyter\n",
    "    IPython.display.display(screen.screen_image)\n",
    "    IPython.display.clear_output(wait=True)"
   ]
  },
  {
   "cell_type": "code",
   "execution_count": 25,
   "metadata": {},
   "outputs": [
    {
     "data": {
      "image/png": "[encoded data removed]",
      "text/plain": [
       "<PIL.Image.Image image mode=1 size=128x64 at 0x6797A3D0>"
      ]
     },
     "metadata": {},
     "output_type": "display_data"
    }
   ],
   "source": [
    "import math\n",
    "import time\n",
    "#plotting only on jupyter notebook\n",
    "#the battery data\n",
    "\n",
    "for j in range(2):\n",
    "    #wipe away the drawing\n",
    "    screen.clear_drawing()\n",
    "    \n",
    "    for i in range(128):\n",
    "        #convert to millivolts\n",
    "        millivolt = int(zumi.get_battery_voltage()*1000)\n",
    "        \n",
    "        #set the y axis to the battery voltage \n",
    "        #but scale it so it shows up on the graph\n",
    "        y = int(50-zumi.get_battery_voltage()*10)\n",
    "\n",
    "        #draw a rectangle for the battery data to show up\n",
    "        #and also to remove previous text behind it\n",
    "        screen.draw.rectangle((5, 50, 40, 50+10), outline=1, fill=0)\n",
    "        \n",
    "        #now draw the text of the voltage\n",
    "        screen.draw.text((10, 50), str(millivolt), fill=1)\n",
    "        screen.draw.point((i,y),fill=1)\n",
    "        \n",
    "        #display on jupyter\n",
    "        IPython.display.display(screen.screen_image)\n",
    "        IPython.display.clear_output(wait=True)\n"
   ]
  },
  {
   "cell_type": "code",
   "execution_count": 26,
   "metadata": {},
   "outputs": [
    {
     "name": "stdout",
     "output_type": "stream",
     "text": [
      "done\n"
     ]
    }
   ],
   "source": [
    "import math\n",
    "import time\n",
    "#plotting on jupyter notebook and screen\n",
    "#the battery data\n",
    "\n",
    "\n",
    "#wipe away the drawing\n",
    "screen.clear_drawing()\n",
    "    \n",
    "for i in range(128):\n",
    "    #convert to millivolts\n",
    "    millivolt = int(zumi.get_battery_voltage()*1000)\n",
    "        \n",
    "    #set the y axis to the battery voltage \n",
    "    #but scale it so it shows up on the graph\n",
    "    y = int(50-zumi.get_battery_voltage()*10)\n",
    "\n",
    "    #draw a rectangle for the battery data to show up\n",
    "    #and also to remove previous text behind it\n",
    "    screen.draw.rectangle((5, 50, 40, 50+10), outline=1, fill=0)\n",
    "        \n",
    "    #now draw the text of the voltage\n",
    "    screen.draw.text((10, 50), str(millivolt), fill=1)\n",
    "    screen.draw.point((i,y),fill=1)\n",
    "        \n",
    "    #display on the screen\n",
    "    screen.disp.image(screen.screen_image)\n",
    "    screen.disp.display()\n",
    "        \n",
    "    #display on jupyter\n",
    "    IPython.display.display(screen.screen_image)\n",
    "    IPython.display.clear_output(wait=True)\n",
    "print(\"done\")\n"
   ]
  },
  {
   "cell_type": "code",
   "execution_count": null,
   "metadata": {},
   "outputs": [],
   "source": []
  }
 ],
 "metadata": {
  "kernelspec": {
   "display_name": "Python 3",
   "language": "python",
   "name": "python3"
  },
  "language_info": {
   "codemirror_mode": {
    "name": "ipython",
    "version": 3
   },
   "file_extension": ".py",
   "mimetype": "text/x-python",
   "name": "python",
   "nbconvert_exporter": "python",
   "pygments_lexer": "ipython3",
   "version": "3.5.3"
  }
 },
 "nbformat": 4,
 "nbformat_minor": 2
}
