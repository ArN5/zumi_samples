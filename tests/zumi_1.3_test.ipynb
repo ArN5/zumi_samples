{
 "cells": [
  {
   "cell_type": "code",
   "execution_count": 2,
   "metadata": {},
   "outputs": [
    {
     "name": "stdout",
     "output_type": "stream",
     "text": [
      "Starting Zumi \n",
      "Pi Zero I2C is available\n",
      "Verified Pi Zero is the same\n",
      "Gyroscope previously calibrated\n",
      "Zumi board detected\n",
      "Compass detected\n",
      "OLED Screen detected\n",
      "Gyroscope & Accelerometer detected\n"
     ]
    }
   ],
   "source": [
    "import PIL.Image\n",
    "import cv2\n",
    "import IPython.display\n",
    "import time\n",
    "from zumi.zumi import Zumi\n",
    "from zumi.util.camera import Camera\n",
    "from zumi.util.vision import Vision\n",
    "from zumi.util.screen import Screen\n",
    "\n",
    "zumi = Zumi()\n",
    "screen = Screen()"
   ]
  },
  {
   "cell_type": "code",
   "execution_count": 12,
   "metadata": {},
   "outputs": [
    {
     "name": "stdout",
     "output_type": "stream",
     "text": [
      "Name: zumi\n",
      "Version: 1.2\n",
      "Summary: Python Library for Zumi. Only working on rasbian\n",
      "Home-page: UNKNOWN\n",
      "Author: Robolink\n",
      "Author-email: info@robolink.com\n",
      "License: UNKNOWN\n",
      "Location: /usr/local/lib/python3.5/dist-packages\n",
      "Requires: \n",
      "Required-by: zumidashboard\n",
      "\n"
     ]
    }
   ],
   "source": [
    "zumi.print_zumi_library_version()\n",
    "#this method takes forever"
   ]
  },
  {
   "cell_type": "code",
   "execution_count": null,
   "metadata": {},
   "outputs": [],
   "source": [
    "import math\n",
    "for i in range(50):\n",
    "    print(zumi.get_orientation_message())\n",
    "    #tilt angles with respect to gravity vector\n",
    "    print(\"x tilt ang: \",zumi.angle_list[7])\n",
    "    print(\"y tilt ang: \",zumi.angle_list[8])\n",
    "    print(\"z tilt ang: \",zumi.angle_list[9])\n",
    "    print(zumi.get_orientation())\n",
    "    \n",
    "    time.sleep(0.1)\n",
    "    IPython.display.clear_output(wait=True)\n",
    "print(\"done\")"
   ]
  },
  {
   "cell_type": "code",
   "execution_count": null,
   "metadata": {},
   "outputs": [],
   "source": [
    "for i in range(50):\n",
    "    #tilt angles with respect to gravity vector\n",
    "    print(\"x acc ang: \",zumi.angle_list[3])\n",
    "    print(\"y acc ang: \",zumi.angle_list[4])\n",
    "    print(zumi.get_orientation())\n",
    "    time.sleep(0.1)\n",
    "    IPython.display.clear_output(wait=True)\n",
    "print(\"done\")"
   ]
  },
  {
   "cell_type": "code",
   "execution_count": null,
   "metadata": {},
   "outputs": [],
   "source": [
    "zumi.reset_gyro()\n",
    "\n",
    "for i in range(100):\n",
    "    print(\"x gyro ang: \",int(zumi.angle_list[0]))\n",
    "    print(\"x acc ang: \",int(zumi.angle_list[3]))\n",
    "    print(\"x comp ang: \",int(zumi.angle_list[5]))\n",
    "    print(\"x rot ang: \",int(zumi.angle_list[7]))\n",
    "    print(\" --- \")\n",
    "    print(\"y gyro ang: \",int(zumi.angle_list[1]))\n",
    "    print(\"y acc ang: \",int(zumi.angle_list[4]))\n",
    "    print(\"y comp ang: \",int(zumi.angle_list[6]))\n",
    "    print(\"y rot ang: \",int(zumi.angle_list[8]))\n",
    "    print(zumi.get_orientation())\n",
    "    time.sleep(0.05)\n",
    "    IPython.display.clear_output(wait=True)\n",
    "print(\"done\")"
   ]
  },
  {
   "cell_type": "code",
   "execution_count": null,
   "metadata": {},
   "outputs": [],
   "source": [
    "for i in range(50):\n",
    "    #tilt angles with respect to gravity vector\n",
    "    print(\"x acc : \",zumi.mpu_list[0])\n",
    "    print(\"y acc : \",zumi.mpu_list[1])\n",
    "    print(\"z acc : \",zumi.mpu_list[2])\n",
    "    print(zumi.get_orientation())\n",
    "    time.sleep(0.1)\n",
    "    IPython.display.clear_output(wait=True)\n",
    "print(\"done\")"
   ]
  },
  {
   "cell_type": "code",
   "execution_count": 3,
   "metadata": {},
   "outputs": [
    {
     "name": "stdout",
     "output_type": "stream",
     "text": [
      "Closing PiCamera\n",
      "done\n"
     ]
    },
    {
     "ename": "KeyboardInterrupt",
     "evalue": "",
     "output_type": "error",
     "traceback": [
      "\u001b[0;31m---------------------------------------------------------------------------\u001b[0m",
      "\u001b[0;31mKeyboardInterrupt\u001b[0m                         Traceback (most recent call last)",
      "\u001b[0;32m<ipython-input-3-ddfe887559c0>\u001b[0m in \u001b[0;36m<module>\u001b[0;34m\u001b[0m\n\u001b[1;32m      8\u001b[0m         \u001b[0mtime_start\u001b[0m \u001b[0;34m=\u001b[0m \u001b[0mtime\u001b[0m\u001b[0;34m.\u001b[0m\u001b[0mtime\u001b[0m\u001b[0;34m(\u001b[0m\u001b[0;34m)\u001b[0m\u001b[0;34m\u001b[0m\u001b[0m\n\u001b[1;32m      9\u001b[0m         \u001b[0mimage\u001b[0m \u001b[0;34m=\u001b[0m \u001b[0mcamera\u001b[0m\u001b[0;34m.\u001b[0m\u001b[0mcapture\u001b[0m\u001b[0;34m(\u001b[0m\u001b[0;34m)\u001b[0m\u001b[0;34m\u001b[0m\u001b[0m\n\u001b[0;32m---> 10\u001b[0;31m         \u001b[0mvision\u001b[0m\u001b[0;34m.\u001b[0m\u001b[0mfind_QR_code\u001b[0m\u001b[0;34m(\u001b[0m\u001b[0mimage\u001b[0m\u001b[0;34m)\u001b[0m\u001b[0;34m\u001b[0m\u001b[0m\n\u001b[0m\u001b[1;32m     11\u001b[0m         \u001b[0mcamera\u001b[0m\u001b[0;34m.\u001b[0m\u001b[0mshow_image\u001b[0m\u001b[0;34m(\u001b[0m\u001b[0mimage\u001b[0m\u001b[0;34m)\u001b[0m\u001b[0;34m\u001b[0m\u001b[0m\n\u001b[1;32m     12\u001b[0m         \u001b[0mcamera\u001b[0m\u001b[0;34m.\u001b[0m\u001b[0mclear_output\u001b[0m\u001b[0;34m(\u001b[0m\u001b[0;34m)\u001b[0m\u001b[0;34m\u001b[0m\u001b[0m\n",
      "\u001b[0;32m/usr/local/lib/python3.5/dist-packages/zumi/util/vision.py\u001b[0m in \u001b[0;36mfind_QR_code\u001b[0;34m(self, frame, draw_color, draw_msg, bounding_box)\u001b[0m\n\u001b[1;32m     62\u001b[0m     \u001b[0;31m# will find the largest QR code and return its object\u001b[0m\u001b[0;34m\u001b[0m\u001b[0;34m\u001b[0m\u001b[0m\n\u001b[1;32m     63\u001b[0m     \u001b[0;32mdef\u001b[0m \u001b[0mfind_QR_code\u001b[0m\u001b[0;34m(\u001b[0m\u001b[0mself\u001b[0m\u001b[0;34m,\u001b[0m \u001b[0mframe\u001b[0m\u001b[0;34m,\u001b[0m \u001b[0mdraw_color\u001b[0m\u001b[0;34m=\u001b[0m\u001b[0;34m(\u001b[0m\u001b[0;36m255\u001b[0m\u001b[0;34m,\u001b[0m \u001b[0;36m85\u001b[0m\u001b[0;34m,\u001b[0m \u001b[0;36m255\u001b[0m\u001b[0;34m)\u001b[0m\u001b[0;34m,\u001b[0m \u001b[0mdraw_msg\u001b[0m\u001b[0;34m=\u001b[0m\u001b[0;32mTrue\u001b[0m\u001b[0;34m,\u001b[0m \u001b[0mbounding_box\u001b[0m\u001b[0;34m=\u001b[0m\u001b[0;32mTrue\u001b[0m\u001b[0;34m)\u001b[0m\u001b[0;34m:\u001b[0m\u001b[0;34m\u001b[0m\u001b[0m\n\u001b[0;32m---> 64\u001b[0;31m         \u001b[0mdecoded_objects\u001b[0m \u001b[0;34m=\u001b[0m \u001b[0mpyzbar\u001b[0m\u001b[0;34m.\u001b[0m\u001b[0mdecode\u001b[0m\u001b[0;34m(\u001b[0m\u001b[0mframe\u001b[0m\u001b[0;34m)\u001b[0m\u001b[0;34m\u001b[0m\u001b[0m\n\u001b[0m\u001b[1;32m     65\u001b[0m         \u001b[0;32mif\u001b[0m \u001b[0mlen\u001b[0m\u001b[0;34m(\u001b[0m\u001b[0mdecoded_objects\u001b[0m\u001b[0;34m)\u001b[0m \u001b[0;34m>\u001b[0m \u001b[0;36m0\u001b[0m\u001b[0;34m:\u001b[0m\u001b[0;34m\u001b[0m\u001b[0m\n\u001b[1;32m     66\u001b[0m             \u001b[0;32mif\u001b[0m \u001b[0mdraw_msg\u001b[0m\u001b[0;34m:\u001b[0m\u001b[0;34m\u001b[0m\u001b[0m\n",
      "\u001b[0;32m/usr/local/lib/python3.5/dist-packages/pyzbar/pyzbar.py\u001b[0m in \u001b[0;36mdecode\u001b[0;34m(image, symbols)\u001b[0m\n\u001b[1;32m    202\u001b[0m             \u001b[0mzbar_image_set_size\u001b[0m\u001b[0;34m(\u001b[0m\u001b[0mimg\u001b[0m\u001b[0;34m,\u001b[0m \u001b[0mwidth\u001b[0m\u001b[0;34m,\u001b[0m \u001b[0mheight\u001b[0m\u001b[0;34m)\u001b[0m\u001b[0;34m\u001b[0m\u001b[0m\n\u001b[1;32m    203\u001b[0m             \u001b[0mzbar_image_set_data\u001b[0m\u001b[0;34m(\u001b[0m\u001b[0mimg\u001b[0m\u001b[0;34m,\u001b[0m \u001b[0mcast\u001b[0m\u001b[0;34m(\u001b[0m\u001b[0mpixels\u001b[0m\u001b[0;34m,\u001b[0m \u001b[0mc_void_p\u001b[0m\u001b[0;34m)\u001b[0m\u001b[0;34m,\u001b[0m \u001b[0mlen\u001b[0m\u001b[0;34m(\u001b[0m\u001b[0mpixels\u001b[0m\u001b[0;34m)\u001b[0m\u001b[0;34m,\u001b[0m \u001b[0;32mNone\u001b[0m\u001b[0;34m)\u001b[0m\u001b[0;34m\u001b[0m\u001b[0m\n\u001b[0;32m--> 204\u001b[0;31m             \u001b[0mdecoded\u001b[0m \u001b[0;34m=\u001b[0m \u001b[0mzbar_scan_image\u001b[0m\u001b[0;34m(\u001b[0m\u001b[0mscanner\u001b[0m\u001b[0;34m,\u001b[0m \u001b[0mimg\u001b[0m\u001b[0;34m)\u001b[0m\u001b[0;34m\u001b[0m\u001b[0m\n\u001b[0m\u001b[1;32m    205\u001b[0m             \u001b[0;32mif\u001b[0m \u001b[0mdecoded\u001b[0m \u001b[0;34m<\u001b[0m \u001b[0;36m0\u001b[0m\u001b[0;34m:\u001b[0m\u001b[0;34m\u001b[0m\u001b[0m\n\u001b[1;32m    206\u001b[0m                 \u001b[0;32mraise\u001b[0m \u001b[0mPyZbarError\u001b[0m\u001b[0;34m(\u001b[0m\u001b[0;34m'Unsupported image format'\u001b[0m\u001b[0;34m)\u001b[0m\u001b[0;34m\u001b[0m\u001b[0m\n",
      "\u001b[0;31mKeyboardInterrupt\u001b[0m: "
     ]
    }
   ],
   "source": [
    "zumi = Zumi()\n",
    "camera = Camera()\n",
    "vision = Vision()\n",
    "camera.start_camera()\n",
    "\n",
    "try:\n",
    "    for i in range(100):#take 100 frames\n",
    "        time_start = time.time()\n",
    "        image = camera.capture()\n",
    "        vision.find_QR_code(image)\n",
    "        camera.show_image(image)\n",
    "        camera.clear_output()\n",
    "finally:\n",
    "    camera.close()\n",
    "    print(\"done\")"
   ]
  },
  {
   "cell_type": "code",
   "execution_count": null,
   "metadata": {},
   "outputs": [],
   "source": [
    "zumi = Zumi()\n",
    "camera = Camera()\n",
    "vision = Vision()\n",
    "camera.start_camera()\n",
    "\n",
    "try:\n",
    "    for i in range(50):\n",
    "        time_start = time.time()\n",
    "        image = camera.capture()\n",
    "        qr_code = vision.find_QR_code(image)\n",
    "        print(vision.get_QR_message(qr_code))\n",
    "        #camera.show_image(image)\n",
    "        camera.clear_output()\n",
    "finally:\n",
    "    camera.close()\n",
    "    print(\"done\")"
   ]
  },
  {
   "cell_type": "code",
   "execution_count": 4,
   "metadata": {},
   "outputs": [
    {
     "name": "stdout",
     "output_type": "stream",
     "text": [
      "Closing PiCamera\n",
      "done\n"
     ]
    }
   ],
   "source": [
    "zumi = Zumi()\n",
    "camera = Camera()\n",
    "vision = Vision()\n",
    "camera.start_camera()\n",
    "\n",
    "try:\n",
    "    for i in range(50):\n",
    "        time_start = time.time()\n",
    "        image = camera.capture()\n",
    "        vision.find_yellow_object(image)\n",
    "        camera.show_image(image)\n",
    "        camera.clear_output()\n",
    "finally:\n",
    "    camera.close()\n",
    "    print(\"done\")"
   ]
  },
  {
   "cell_type": "code",
   "execution_count": null,
   "metadata": {},
   "outputs": [],
   "source": [
    "#import PIL.Image\n",
    "import cv2\n",
    "import IPython.display\n",
    "import time\n",
    "from zumi.util.camera import Camera\n",
    "from zumi.util.vision import Vision\n",
    "from zumi.zumi import Zumi\n",
    "\n",
    "zumi = Zumi()\n",
    "camera = Camera()\n",
    "vision = Vision()\n",
    "camera.start_camera()\n",
    "\n",
    "try:\n",
    "    #test to see the camera save_photo working\n",
    "    camera.save_photo(\"test\")\n",
    "finally:\n",
    "    camera.close()\n",
    "    print(\"done\")\n",
    "IPython.display.Image(\"test.jpg\")"
   ]
  },
  {
   "cell_type": "code",
   "execution_count": null,
   "metadata": {},
   "outputs": [],
   "source": [
    "#import PIL.Image\n",
    "import cv2\n",
    "import IPython.display\n",
    "from PIL import Image\n",
    "import time\n",
    "from zumi.util.camera import Camera\n",
    "from zumi.util.vision import Vision\n",
    "from zumi.zumi import Zumi\n",
    "\n",
    "zumi = Zumi()\n",
    "camera = Camera()\n",
    "vision = Vision()\n",
    "camera.start_camera()\n",
    "\n",
    "try:\n",
    "    #take a picture\n",
    "    image = camera.capture()\n",
    "\n",
    "    #this is for saving images you have taken \n",
    "    camera.save_image(image,\"test2\")\n",
    "finally:\n",
    "    camera.close()\n",
    "    print(\"done\")\n",
    "IPython.display.Image(\"test2.jpg\")"
   ]
  },
  {
   "cell_type": "code",
   "execution_count": null,
   "metadata": {},
   "outputs": [],
   "source": [
    "#import PIL.Image\n",
    "import cv2\n",
    "import IPython.display\n",
    "import time\n",
    "from zumi.util.camera import Camera\n",
    "from zumi.util.vision import Vision\n",
    "from zumi.zumi import Zumi\n",
    "import os\n",
    "\n",
    "zumi = Zumi()\n",
    "camera = Camera(320,240)\n",
    "vision = Vision()\n",
    "camera.start_camera()\n",
    "\n",
    "try:\n",
    "    #will record video for 5 seconds, framerate will vary\n",
    "    camera.record_video(5,file_name=\"lab_test\")\n",
    "finally:\n",
    "    camera.close()\n",
    "    print(\"done\")"
   ]
  },
  {
   "cell_type": "code",
   "execution_count": null,
   "metadata": {},
   "outputs": [],
   "source": [
    "#you can display the video you recorded\n",
    "#the speed of the movie will be off since \n",
    "#recording on pi zero loses a lot of frames\n",
    "IPython.display.Video(\"lab_test.mp4\")"
   ]
  },
  {
   "cell_type": "code",
   "execution_count": 5,
   "metadata": {},
   "outputs": [
    {
     "name": "stdout",
     "output_type": "stream",
     "text": [
      "Starting Zumi \n",
      "Pi Zero I2C is available\n",
      "Verified Pi Zero is the same\n",
      "Gyroscope previously calibrated\n",
      "Zumi board detected\n",
      "Compass detected\n",
      "OLED Screen detected\n",
      "Gyroscope & Accelerometer detected\n"
     ]
    }
   ],
   "source": [
    "from zumi.zumi import Zumi\n",
    "import time\n",
    "from zumi.util.screen import Screen\n",
    "from zumi.util.maze import Maze\n",
    "from zumi.util.dice import Dice\n",
    "zumi = Zumi()\n",
    "screen = Screen()\n",
    "screen.stop_scroll()\n",
    "maze = Maze(screen)\n",
    "\n",
    "heart = [\n",
    "    [1, 1, 1, 1, 1, 1, 1, 1, 1, 1, 1, 1, 1],\n",
    "    [1, 1, 1, 0, 0, 1, 1, 1, 0, 0, 1, 1, 1],\n",
    "    [1, 1, 0, 1, 1, 0, 1, 0, 1, 1, 0, 1, 1],\n",
    "    [1, 1, 0, 1, 1, 1, 0, 1, 1, 1, 0, 1, 1],\n",
    "    [1, 1, 0, 1, 1, 1, 1, 1, 1, 1, 0, 1, 1],\n",
    "    [1, 1, 1, 0, 1, 1, 1, 1, 1, 0, 1, 1, 1],\n",
    "    [1, 1, 1, 1, 0, 1, 1, 1, 0, 1, 1, 1, 1],\n",
    "    [1, 1, 1, 1, 1, 0, 1, 0, 1, 1, 1, 1, 1],\n",
    "    [1, 1, 1, 1, 1, 1, 0, 1, 1, 1, 1, 1, 1]\n",
    "]\n",
    "\n",
    "#watch your zumi screen!\n",
    "\n",
    "maze.map_generator()\n",
    "\n",
    "maze.move_xy(1,0)\n",
    "time.sleep(0.5)\n",
    "\n",
    "maze.move_xy(1,1)\n",
    "time.sleep(0.5)\n",
    "\n",
    "maze.move_xy(1,2)\n",
    "time.sleep(0.5)\n",
    "\n",
    "maze.map_generator(heart)\n",
    "time.sleep(2)\n",
    "\n",
    "maze.map_generator(maze.random_map())"
   ]
  },
  {
   "cell_type": "code",
   "execution_count": 6,
   "metadata": {},
   "outputs": [
    {
     "ename": "KeyboardInterrupt",
     "evalue": "",
     "output_type": "error",
     "traceback": [
      "\u001b[0;31m---------------------------------------------------------------------------\u001b[0m",
      "\u001b[0;31mKeyboardInterrupt\u001b[0m                         Traceback (most recent call last)",
      "\u001b[0;32m<ipython-input-6-945252e675f8>\u001b[0m in \u001b[0;36m<module>\u001b[0;34m\u001b[0m\n\u001b[1;32m      5\u001b[0m \u001b[0;31m#it will do the flicker with count and\u001b[0m\u001b[0;34m\u001b[0m\u001b[0;34m\u001b[0m\u001b[0m\n\u001b[1;32m      6\u001b[0m \u001b[0;31m#change the delay between each flicker\u001b[0m\u001b[0;34m\u001b[0m\u001b[0;34m\u001b[0m\u001b[0m\n\u001b[0;32m----> 7\u001b[0;31m \u001b[0mscreen\u001b[0m\u001b[0;34m.\u001b[0m\u001b[0mflicker_text\u001b[0m\u001b[0;34m(\u001b[0m\u001b[0;34m\"why\"\u001b[0m\u001b[0;34m,\u001b[0m\u001b[0mcount\u001b[0m\u001b[0;34m=\u001b[0m\u001b[0;36m5\u001b[0m\u001b[0;34m,\u001b[0m\u001b[0mdelay\u001b[0m\u001b[0;34m=\u001b[0m\u001b[0;36m1\u001b[0m\u001b[0;34m)\u001b[0m\u001b[0;34m\u001b[0m\u001b[0m\n\u001b[0m",
      "\u001b[0;32m/usr/local/lib/python3.5/dist-packages/zumi/util/screen.py\u001b[0m in \u001b[0;36mflicker_text\u001b[0;34m(self, string, count, delay)\u001b[0m\n\u001b[1;32m    365\u001b[0m                 \u001b[0mtime\u001b[0m\u001b[0;34m.\u001b[0m\u001b[0msleep\u001b[0m\u001b[0;34m(\u001b[0m\u001b[0mdelay\u001b[0m \u001b[0;34m+\u001b[0m \u001b[0;36m0.01\u001b[0m\u001b[0;34m)\u001b[0m\u001b[0;34m\u001b[0m\u001b[0m\n\u001b[1;32m    366\u001b[0m                 \u001b[0mself\u001b[0m\u001b[0;34m.\u001b[0m\u001b[0moff\u001b[0m\u001b[0;34m(\u001b[0m\u001b[0;34m)\u001b[0m\u001b[0;34m\u001b[0m\u001b[0m\n\u001b[0;32m--> 367\u001b[0;31m                 \u001b[0mtime\u001b[0m\u001b[0;34m.\u001b[0m\u001b[0msleep\u001b[0m\u001b[0;34m(\u001b[0m\u001b[0mdelay\u001b[0m \u001b[0;34m+\u001b[0m \u001b[0;36m0.01\u001b[0m\u001b[0;34m)\u001b[0m\u001b[0;34m\u001b[0m\u001b[0m\n\u001b[0m\u001b[1;32m    368\u001b[0m             \u001b[0;31m# make sure to turn display back on\u001b[0m\u001b[0;34m\u001b[0m\u001b[0;34m\u001b[0m\u001b[0m\n\u001b[1;32m    369\u001b[0m             \u001b[0mself\u001b[0m\u001b[0;34m.\u001b[0m\u001b[0mon\u001b[0m\u001b[0;34m(\u001b[0m\u001b[0;34m)\u001b[0m\u001b[0;34m\u001b[0m\u001b[0m\n",
      "\u001b[0;31mKeyboardInterrupt\u001b[0m: "
     ]
    }
   ],
   "source": [
    "#will flicker text by turning oled on and off\n",
    "screen.flicker_text(\"hello\")\n",
    "\n",
    "#you can also change the number of times \n",
    "#it will do the flicker with count and \n",
    "#change the delay between each flicker\n",
    "screen.flicker_text(\"why\",count=5,delay=1)"
   ]
  },
  {
   "cell_type": "code",
   "execution_count": null,
   "metadata": {},
   "outputs": [],
   "source": [
    "screen.left_scroll()"
   ]
  },
  {
   "cell_type": "code",
   "execution_count": 7,
   "metadata": {},
   "outputs": [],
   "source": [
    "screen.invert()\n",
    "time.sleep(2)\n",
    "screen.normal()\n",
    "time.sleep(1)\n",
    "screen.off()\n",
    "time.sleep(2)\n",
    "screen.on()\n"
   ]
  },
  {
   "cell_type": "code",
   "execution_count": null,
   "metadata": {},
   "outputs": [],
   "source": [
    "from zumi.zumi import Zumi\n",
    "import time\n",
    "from zumi.util.screen import Screen\n",
    "from zumi.util.maze import Maze\n",
    "from zumi.util.dice import Dice\n",
    "zumi = Zumi()\n",
    "screen = Screen()\n",
    "\n",
    "dice = Dice(zumi,screen)\n",
    "\n",
    "#shake your Zumi\n",
    "#no real dice image yet\n",
    "dice.roll_dice()"
   ]
  },
  {
   "cell_type": "code",
   "execution_count": null,
   "metadata": {},
   "outputs": [],
   "source": [
    "from zumi.zumi import Zumi\n",
    "import time\n",
    "from zumi.util.screen import Screen\n",
    "from zumi.util.gyro_draw import Gyro_Draw\n",
    "zumi = Zumi()\n",
    "screen = Screen()\n",
    "gyro_draw = Gyro_Draw(zumi,screen)\n",
    "gyro_draw.draw_crossline()\n",
    "\n",
    "#move your zumi \n",
    "try:\n",
    "    for i in range(100):\n",
    "        angle = gyro_draw.get_angle()\n",
    "        \n",
    "        # 자이로 스코프의 값을 Zumi 스크린 좌표 값으로 변환해 줍니다.\n",
    "        changeX = gyro_draw.scale_change(angle[0], -90, 90, 0, 128)\n",
    "        changeY = gyro_draw.scale_change(angle[1], -90, 90, 64, 0)\n",
    "\n",
    "        #IPython.display.clear_output(wait=True)\n",
    "        #print(angle[0], angle[1], changeX, changeY)\n",
    "        \n",
    "        # Zumi 스크린에 사각형 점을 표시합니다.\n",
    "        gyro_draw.draw_xy(changeX, changeY)\n",
    "\n",
    "except KeyboardInterrupt:\n",
    "        gyro_draw.clear_screen()\n",
    "finally:\n",
    "    print(\"done\")"
   ]
  },
  {
   "cell_type": "code",
   "execution_count": null,
   "metadata": {},
   "outputs": [],
   "source": [
    "from zumi.zumi import Zumi\n",
    "import time\n",
    "from zumi.util.screen import Screen\n",
    "from zumi.util.line_tracer import Line_Tracer\n",
    "zumi = Zumi()\n",
    "screen = Screen()\n",
    "line_tracer = Line_Tracer(zumi)\n",
    "#drive only for 4 lines crossed\n",
    "#line_tracer.crossing_line(4)\n",
    "\n",
    "#drive for 3 seconds while counting the lines\n",
    "line_tracer.counting_line(3)\n"
   ]
  },
  {
   "cell_type": "code",
   "execution_count": 8,
   "metadata": {},
   "outputs": [
    {
     "name": "stdout",
     "output_type": "stream",
     "text": [
      "Starting Zumi \n",
      "Pi Zero I2C is available\n",
      "Verified Pi Zero is the same\n",
      "Gyroscope previously calibrated\n",
      "Zumi board detected\n",
      "Compass detected\n",
      "OLED Screen detected\n",
      "Gyroscope & Accelerometer detected\n",
      "243\n",
      "False\n"
     ]
    }
   ],
   "source": [
    "from zumi.zumi import Zumi\n",
    "zumi = Zumi()\n",
    "print(zumi.read_IR(\"front_left\"))\n",
    "print(zumi.boolean_IR(\"front_left\"))"
   ]
  },
  {
   "cell_type": "code",
   "execution_count": null,
   "metadata": {},
   "outputs": [],
   "source": [
    "from zumi.zumi import Zumi\n",
    "import time\n",
    "from zumi.util.screen import Screen\n",
    "zumi = Zumi()\n",
    "screen = Screen()\n",
    "screen.moving_text(\"L\", \"why\")"
   ]
  },
  {
   "cell_type": "code",
   "execution_count": null,
   "metadata": {},
   "outputs": [],
   "source": [
    "from zumi.zumi import Zumi\n",
    "import time\n",
    "from zumi.util.screen import Screen\n",
    "from zumi.util.line_tracer import Line_Tracer\n",
    "zumi = Zumi()\n",
    "screen = Screen()\n",
    "screen.loop_text(\"L\", \"why\")\n",
    "time.sleep(2)\n",
    "screen.stop_scroll()"
   ]
  },
  {
   "cell_type": "code",
   "execution_count": 10,
   "metadata": {},
   "outputs": [
    {
     "name": "stdout",
     "output_type": "stream",
     "text": [
      "Starting Zumi \n",
      "Pi Zero I2C is available\n",
      "Verified Pi Zero is the same\n",
      "Gyroscope previously calibrated\n",
      "Zumi board detected\n",
      "Compass detected\n",
      "OLED Screen detected\n",
      "Gyroscope & Accelerometer detected\n",
      "Please enter 8 characters or fewer than 8 characters.\n"
     ]
    },
    {
     "ename": "KeyboardInterrupt",
     "evalue": "",
     "output_type": "error",
     "traceback": [
      "\u001b[0;31m---------------------------------------------------------------------------\u001b[0m",
      "\u001b[0;31mKeyboardInterrupt\u001b[0m                         Traceback (most recent call last)",
      "\u001b[0;32m<ipython-input-10-bd171af98c7e>\u001b[0m in \u001b[0;36m<module>\u001b[0;34m\u001b[0m\n\u001b[1;32m     13\u001b[0m         \u001b[0mscreen\u001b[0m\u001b[0;34m.\u001b[0m\u001b[0mset_contrast\u001b[0m\u001b[0;34m(\u001b[0m\u001b[0;36m255\u001b[0m\u001b[0;34m)\u001b[0m\u001b[0;34m\u001b[0m\u001b[0m\n\u001b[1;32m     14\u001b[0m         \u001b[0mscreen\u001b[0m\u001b[0;34m.\u001b[0m\u001b[0mright_scroll\u001b[0m\u001b[0;34m(\u001b[0m\u001b[0;34m)\u001b[0m\u001b[0;34m\u001b[0m\u001b[0m\n\u001b[0;32m---> 15\u001b[0;31m         \u001b[0mtime\u001b[0m\u001b[0;34m.\u001b[0m\u001b[0msleep\u001b[0m\u001b[0;34m(\u001b[0m\u001b[0;36m4\u001b[0m\u001b[0;34m)\u001b[0m\u001b[0;34m\u001b[0m\u001b[0m\n\u001b[0m\u001b[1;32m     16\u001b[0m \u001b[0;32mfinally\u001b[0m\u001b[0;34m:\u001b[0m\u001b[0;34m\u001b[0m\u001b[0m\n\u001b[1;32m     17\u001b[0m     \u001b[0mscreen\u001b[0m\u001b[0;34m.\u001b[0m\u001b[0mstop_scroll\u001b[0m\u001b[0;34m(\u001b[0m\u001b[0;34m)\u001b[0m\u001b[0;34m\u001b[0m\u001b[0m\n",
      "\u001b[0;31mKeyboardInterrupt\u001b[0m: "
     ]
    }
   ],
   "source": [
    "from zumi.zumi import Zumi\n",
    "import time\n",
    "from zumi.util.screen import Screen\n",
    "\n",
    "zumi = Zumi()\n",
    "screen = Screen()\n",
    "screen.clock(3,25,\"clock\")\n",
    "try:\n",
    "    for i in range(100):\n",
    "        screen.set_contrast(0)\n",
    "        screen.left_scroll()\n",
    "        time.sleep(4)\n",
    "        screen.set_contrast(255)\n",
    "        screen.right_scroll()\n",
    "        time.sleep(4)\n",
    "finally:\n",
    "    screen.stop_scroll()"
   ]
  },
  {
   "cell_type": "code",
   "execution_count": 11,
   "metadata": {},
   "outputs": [
    {
     "name": "stdout",
     "output_type": "stream",
     "text": [
      "Starting Zumi \n",
      "Pi Zero I2C is available\n",
      "Verified Pi Zero is the same\n",
      "Gyroscope previously calibrated\n",
      "Zumi board detected\n",
      "Compass detected\n",
      "OLED Screen detected\n",
      "Gyroscope & Accelerometer detected\n",
      "[242, 194, 227, 203, 239, 243]\n",
      "Front left  False\n",
      "Front right  False\n",
      "Bottom left  False\n",
      "Bottom Right  False\n",
      "Back left  False\n",
      "Back right  False\n"
     ]
    }
   ],
   "source": [
    "from zumi.zumi import Zumi\n",
    "import time\n",
    "from zumi.util.screen import Screen\n",
    "\n",
    "zumi = Zumi()\n",
    "screen = Screen()\n",
    "\n",
    "zumi.get_all_IR_data()\n",
    "\n",
    "print(zumi.ir_list)\n",
    "print(\"Front left \",zumi.front_left_detect())\n",
    "print(\"Front right \",zumi.front_right_detect())\n",
    "print(\"Bottom left \",zumi.bottom_left_detect())\n",
    "print(\"Bottom Right \",zumi.bottom_right_detect())\n",
    "print(\"Back left \",zumi.back_left_detect())\n",
    "print(\"Back right \",zumi.back_right_detect())"
   ]
  },
  {
   "cell_type": "code",
   "execution_count": 1,
   "metadata": {},
   "outputs": [
    {
     "name": "stdout",
     "output_type": "stream",
     "text": [
      "Starting PiCamera\n",
      "Closing PiCamera\n",
      "done\n"
     ]
    }
   ],
   "source": [
    "from zumi.util.camera import Camera\n",
    "from zumi.util.screen import Screen\n",
    "import cv2\n",
    "import time\n",
    "\n",
    "screen = Screen()\n",
    "camera = Camera()\n",
    "\n",
    "try:\n",
    "    camera.start_camera()\n",
    "    for i in range(20):\n",
    "        image=camera.capture()\n",
    "        screen.show_image(image)\n",
    "finally:        \n",
    "    camera.close()\n",
    "    print(\"done\")"
   ]
  },
  {
   "cell_type": "code",
   "execution_count": 2,
   "metadata": {},
   "outputs": [
    {
     "name": "stdout",
     "output_type": "stream",
     "text": [
      "Closing PiCamera\n"
     ]
    }
   ],
   "source": [
    "from zumi.util.camera import Camera\n",
    "from zumi.util.screen import Screen\n",
    "import cv2\n",
    "import time\n",
    "\n",
    "camera = Camera()\n",
    "\n",
    "try:\n",
    "    camera.start_camera()\n",
    "    for i in range(20):\n",
    "        image=camera.capture()\n",
    "        camera.show_image(image)\n",
    "        camera.clear_output()\n",
    "finally:        \n",
    "    camera.close()"
   ]
  },
  {
   "cell_type": "code",
   "execution_count": null,
   "metadata": {},
   "outputs": [],
   "source": [
    "from zumi.zumi import Zumi\n",
    "import time\n",
    "\n",
    "zumi = Zumi()\n",
    "zumi.line_follower(10) "
   ]
  },
  {
   "cell_type": "code",
   "execution_count": null,
   "metadata": {},
   "outputs": [],
   "source": [
    "from zumi.zumi import Zumi\n",
    "import time\n",
    "\n",
    "zumi = Zumi()\n",
    "#you can also do this to use it in loops\n",
    "for i in range(100):\n",
    "    zumi.line_follow_step()\n",
    "zumi.stop()"
   ]
  },
  {
   "cell_type": "code",
   "execution_count": null,
   "metadata": {},
   "outputs": [],
   "source": []
  }
 ],
 "metadata": {
  "kernelspec": {
   "display_name": "Python 3",
   "language": "python",
   "name": "python3"
  },
  "language_info": {
   "codemirror_mode": {
    "name": "ipython",
    "version": 3
   },
   "file_extension": ".py",
   "mimetype": "text/x-python",
   "name": "python",
   "nbconvert_exporter": "python",
   "pygments_lexer": "ipython3",
   "version": "3.5.3"
  }
 },
 "nbformat": 4,
 "nbformat_minor": 2
}
