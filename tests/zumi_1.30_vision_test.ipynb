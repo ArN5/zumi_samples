{
 "cells": [
  {
   "cell_type": "code",
   "execution_count": null,
   "metadata": {},
   "outputs": [],
   "source": [
    "import PIL.Image\n",
    "import cv2\n",
    "import IPython.display\n",
    "import time\n",
    "from zumi.zumi import Zumi\n",
    "from zumi.util.camera import Camera\n",
    "from zumi.util.vision import Vision\n",
    "from zumi.util.screen import Screen\n",
    "\n",
    "zumi = Zumi()\n",
    "screen = Screen()\n",
    "vision = Vision()"
   ]
  },
  {
   "cell_type": "code",
   "execution_count": null,
   "metadata": {},
   "outputs": [],
   "source": [
    "camera = Camera()\n",
    "\n",
    "try:\n",
    "    camera.start_camera()\n",
    "    for i in range(20):\n",
    "        image=camera.capture()\n",
    "        #you can display images in jupyter with the following commands\n",
    "        camera.show_image(image)\n",
    "        #clear the previous image to make room for next image\n",
    "        camera.clear_output()\n",
    "finally:        \n",
    "    camera.close()"
   ]
  },
  {
   "cell_type": "code",
   "execution_count": null,
   "metadata": {},
   "outputs": [],
   "source": [
    "camera = Camera()\n",
    "try:\n",
    "    camera.start_camera()\n",
    "    for i in range(50):\n",
    "        image=camera.capture()\n",
    "        gray = vision.convert_to_gray(image)\n",
    "        #show image in grayscale\n",
    "        camera.show_image(gray)\n",
    "        camera.clear_output()\n",
    "finally:        \n",
    "    camera.close()\n",
    "    print(\"done\")"
   ]
  },
  {
   "cell_type": "code",
   "execution_count": null,
   "metadata": {},
   "outputs": [],
   "source": [
    "camera = Camera()\n",
    "try:\n",
    "    camera.start_camera()\n",
    "    for i in range(20):\n",
    "        image=camera.capture()\n",
    "        #display on the screen of zumi\n",
    "        screen.show_image(image)\n",
    "finally:        \n",
    "    camera.close()\n",
    "    print(\"done\")"
   ]
  },
  {
   "cell_type": "code",
   "execution_count": null,
   "metadata": {},
   "outputs": [],
   "source": [
    "camera = Camera()\n",
    "\n",
    "try:\n",
    "    camera.start_camera()\n",
    "    for i in range(20):\n",
    "        image=camera.capture()\n",
    "        gray = vision.convert_to_gray(image)\n",
    "        #find a face on gray image\n",
    "        vision.find_face(gray)\n",
    "        camera.show_image(gray)\n",
    "        camera.clear_output()\n",
    "finally:        \n",
    "    camera.close()\n",
    "    print(\"done\")"
   ]
  },
  {
   "cell_type": "code",
   "execution_count": null,
   "metadata": {},
   "outputs": [],
   "source": [
    "camera = Camera()\n",
    "\n",
    "try:\n",
    "    camera.start_camera()\n",
    "    for i in range(50):\n",
    "        image=camera.capture()\n",
    "        gray = vision.convert_to_gray(image)\n",
    "        #attempt to find a smile\n",
    "        vision.find_smile(gray, min_size=(25,25))\n",
    "        camera.show_image(image)\n",
    "        camera.clear_output()\n",
    "finally:        \n",
    "    camera.close()\n",
    "    print(\"done\")"
   ]
  },
  {
   "cell_type": "code",
   "execution_count": null,
   "metadata": {},
   "outputs": [],
   "source": [
    "camera = Camera()\n",
    "try:\n",
    "    camera.start_camera()\n",
    "    for i in range(20):\n",
    "        image=camera.capture()\n",
    "        hsv = vision.convert_to_hsv(image)\n",
    "        camera.show_image(hsv)\n",
    "        camera.clear_output()\n",
    "finally:        \n",
    "    camera.close()\n",
    "    print(\"done\")"
   ]
  },
  {
   "cell_type": "code",
   "execution_count": null,
   "metadata": {},
   "outputs": [],
   "source": [
    "zumi = Zumi()\n",
    "camera = Camera()\n",
    "vision = Vision()\n",
    "camera.start_camera()\n",
    "\n",
    "try:\n",
    "    for i in range(100):#take 100 frames\n",
    "        time_start = time.time()\n",
    "        image = camera.capture()\n",
    "        vision.find_QR_code(image)\n",
    "        camera.show_image(image)\n",
    "        camera.clear_output()\n",
    "finally:\n",
    "    camera.close()\n",
    "    print(\"done\")"
   ]
  },
  {
   "cell_type": "code",
   "execution_count": null,
   "metadata": {},
   "outputs": [],
   "source": [
    "zumi = Zumi()\n",
    "camera = Camera()\n",
    "vision = Vision()\n",
    "camera.start_camera()\n",
    "\n",
    "try:\n",
    "    for i in range(50):\n",
    "        time_start = time.time()\n",
    "        image = camera.capture()\n",
    "        \n",
    "        #find the QR code\n",
    "        qr_code = vision.find_QR_code(image)\n",
    "        \n",
    "        #print if any QR code is detected\n",
    "        print(vision.get_QR_message(qr_code))\n",
    "        \n",
    "        #this will also clear any print output in jupyter\n",
    "        camera.clear_output()\n",
    "finally:\n",
    "    camera.close()\n",
    "    print(\"done\")"
   ]
  },
  {
   "cell_type": "code",
   "execution_count": null,
   "metadata": {},
   "outputs": [],
   "source": [
    "zumi = Zumi()\n",
    "camera = Camera()\n",
    "vision = Vision()\n",
    "camera.start_camera()\n",
    "\n",
    "try:\n",
    "    for i in range(50):\n",
    "        time_start = time.time()\n",
    "        image = camera.capture()\n",
    "        \n",
    "        #find a yellow object\n",
    "        vision.find_yellow_object(image)\n",
    "        camera.show_image(image)\n",
    "        camera.clear_output()\n",
    "finally:\n",
    "    camera.close()\n",
    "    print(\"done\")"
   ]
  },
  {
   "cell_type": "code",
   "execution_count": null,
   "metadata": {},
   "outputs": [],
   "source": [
    "#import PIL.Image\n",
    "import cv2\n",
    "import IPython.display\n",
    "import time\n",
    "from zumi.util.camera import Camera\n",
    "from zumi.util.vision import Vision\n",
    "from zumi.zumi import Zumi\n",
    "\n",
    "zumi = Zumi()\n",
    "camera = Camera()\n",
    "vision = Vision()\n",
    "camera.start_camera()\n",
    "\n",
    "try:\n",
    "    #test to see the camera save_photo working\n",
    "    camera.save_photo(\"test\")\n",
    "finally:\n",
    "    camera.close()\n",
    "    print(\"done\")\n",
    "IPython.display.Image(\"test.jpg\")"
   ]
  },
  {
   "cell_type": "code",
   "execution_count": null,
   "metadata": {},
   "outputs": [],
   "source": [
    "#import PIL.Image\n",
    "import cv2\n",
    "import IPython.display\n",
    "from PIL import Image\n",
    "import time\n",
    "from zumi.util.camera import Camera\n",
    "from zumi.util.vision import Vision\n",
    "from zumi.zumi import Zumi\n",
    "\n",
    "zumi = Zumi()\n",
    "camera = Camera()\n",
    "vision = Vision()\n",
    "camera.start_camera()\n",
    "\n",
    "try:\n",
    "    #take a picture\n",
    "    image = camera.capture()\n",
    "\n",
    "    #this is for saving images you have taken \n",
    "    camera.save_image(image,\"test2\")\n",
    "finally:\n",
    "    camera.close()\n",
    "    print(\"done\")\n",
    "IPython.display.Image(\"test2.jpg\")"
   ]
  },
  {
   "cell_type": "code",
   "execution_count": null,
   "metadata": {},
   "outputs": [],
   "source": [
    "#import PIL.Image\n",
    "import cv2\n",
    "import IPython.display\n",
    "import time\n",
    "from zumi.util.camera import Camera\n",
    "from zumi.util.vision import Vision\n",
    "from zumi.zumi import Zumi\n",
    "import os\n",
    "\n",
    "zumi = Zumi()\n",
    "camera = Camera(320,240)\n",
    "vision = Vision()\n",
    "camera.start_camera()\n",
    "\n",
    "try:\n",
    "    #will record video for 5 seconds, framerate will vary\n",
    "    #so playback of video will be choppy\n",
    "    camera.record_video(5,file_name=\"lab_test\")\n",
    "finally:\n",
    "    camera.close()\n",
    "    print(\"done\")"
   ]
  },
  {
   "cell_type": "code",
   "execution_count": null,
   "metadata": {},
   "outputs": [],
   "source": [
    "#you can display the video you recorded\n",
    "#the speed of the movie will be off since \n",
    "#recording on pi zero loses a lot of frames\n",
    "IPython.display.Video(\"lab_test.mp4\")"
   ]
  },
  {
   "cell_type": "code",
   "execution_count": null,
   "metadata": {},
   "outputs": [],
   "source": []
  }
 ],
 "metadata": {
  "kernelspec": {
   "display_name": "Python 3",
   "language": "python",
   "name": "python3"
  },
  "language_info": {
   "codemirror_mode": {
    "name": "ipython",
    "version": 3
   },
   "file_extension": ".py",
   "mimetype": "text/x-python",
   "name": "python",
   "nbconvert_exporter": "python",
   "pygments_lexer": "ipython3",
   "version": "3.5.3"
  }
 },
 "nbformat": 4,
 "nbformat_minor": 2
}
