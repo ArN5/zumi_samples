{
 "cells": [
  {
   "cell_type": "code",
   "execution_count": null,
   "metadata": {},
   "outputs": [],
   "source": [
    "from zumi.zumi import Zumi\n",
    "import time\n",
    "\n",
    "time_start=time.time()\n",
    "zumi = Zumi()\n",
    "print(\"time taken \",time.time()-time_start)"
   ]
  },
  {
   "cell_type": "code",
   "execution_count": null,
   "metadata": {},
   "outputs": [],
   "source": [
    "#grab all the sensor data from the zumi board\n",
    "sensor_data = zumi.get_all_sensor_data()\n",
    "\n",
    "#prints all the zumi sensors in a list with a time stamp\n",
    "print(sensor_data)\n",
    "\n",
    "#grabs the current zumi board firmware version\n",
    "print(\"zumi board firmware version \",sensor_data[9])\n",
    "\n",
    "#checks if the zumi board has the compass i2c address\n",
    "print(\"zumi has compass =\", zumi.has_compass)"
   ]
  },
  {
   "cell_type": "code",
   "execution_count": null,
   "metadata": {},
   "outputs": [],
   "source": [
    "#the current coordinate zumi predicts \n",
    "#to be using the best fit line speed prediction\n",
    "print(zumi.coordinate) #x and y coordinates\n",
    "#this only works if zumi drives itself and is not moved around\n",
    "\n",
    "#what i2c addresses are found and what sensor\n",
    "print(zumi.sensors_found)"
   ]
  },
  {
   "cell_type": "code",
   "execution_count": null,
   "metadata": {},
   "outputs": [],
   "source": [
    "#tries to drive forward with \n",
    "#a gradual speed increase\n",
    "zumi.smooth_forward(duration=1)\n",
    "zumi.smooth_reverse(duration=1)"
   ]
  },
  {
   "cell_type": "code",
   "execution_count": null,
   "metadata": {},
   "outputs": [],
   "source": [
    "zumi.reset_gyro()\n",
    "\n",
    "zumi.smooth_turn_left(90)\n",
    "zumi.smooth_turn_right(90,speed=30,step=1)"
   ]
  },
  {
   "cell_type": "code",
   "execution_count": null,
   "metadata": {},
   "outputs": [],
   "source": [
    "zumi.reset_gyro()\n",
    "inches= 12\n",
    "degree=0\n",
    "\n",
    "print(\"predicted speed in inches per second\", zumi.PRED_SPEED_INCHES_SEC)\n",
    "print(\"slope intercept of predicted best fit line\",zumi.PRED_SLOPE_INT_INCH)\n",
    "\n",
    "zumi.move_inches(inches,degree)\n",
    "print(\"done\")"
   ]
  },
  {
   "cell_type": "code",
   "execution_count": null,
   "metadata": {},
   "outputs": [],
   "source": [
    "from zumi.zumi import Zumi\n",
    "import time\n",
    "\n",
    "zumi = Zumi()\n",
    "\n",
    "zumi.reset_coordinate()\n",
    "zumi.reset_gyro()\n",
    "#zumi.mpu.calibrate_MPU(400)\n",
    "# zumi.mpu.print_offsets()\n",
    "\n",
    "zumi.PRED_SPEED_INCHES_SEC = 6 \n",
    "zumi.PRED_SLOPE_INT_INCH = -1\n",
    "distance_in_inches = 6\n",
    "\n",
    "\n",
    "zumi.move_to_coordinate(3,0)\n",
    "zumi.move_to_coordinate(3,-6)\n",
    "zumi.move_to_coordinate(-13,-6)\n",
    "zumi.move_to_coordinate(-13,7)\n",
    "zumi.turn_left(90)\n",
    "\n",
    "\n",
    "# zumi.move_to_coordinate(distance_in_inches,0)\n",
    "# zumi.move_to_coordinate(distance_in_inches,distance_in_inches)\n",
    "# zumi.move_to_coordinate(0,distance_in_inches)\n",
    "# zumi.move_to_coordinate(0,0)\n",
    "# zumi.move_to_coordinate(distance_in_inches,0)\n",
    "# zumi.move_to_coordinate(distance_in_inches,distance_in_inches)"
   ]
  },
  {
   "cell_type": "code",
   "execution_count": null,
   "metadata": {},
   "outputs": [],
   "source": [
    "zumi.reset_gyro()\n",
    "inches= 12\n",
    "degree=0\n",
    "#can adjust PID parameters.\n",
    "zumi.move_inches(inches,degree,k_p=10,k_i=20,k_d=0.2)\n",
    "print(\"done\")"
   ]
  },
  {
   "cell_type": "code",
   "execution_count": null,
   "metadata": {},
   "outputs": [],
   "source": [
    "print(zumi.get_board_firmware_version())"
   ]
  },
  {
   "cell_type": "code",
   "execution_count": null,
   "metadata": {},
   "outputs": [],
   "source": []
  }
 ],
 "metadata": {
  "kernelspec": {
   "display_name": "Python 3",
   "language": "python",
   "name": "python3"
  },
  "language_info": {
   "codemirror_mode": {
    "name": "ipython",
    "version": 3
   },
   "file_extension": ".py",
   "mimetype": "text/x-python",
   "name": "python",
   "nbconvert_exporter": "python",
   "pygments_lexer": "ipython3",
   "version": "3.5.3"
  }
 },
 "nbformat": 4,
 "nbformat_minor": 2
}
