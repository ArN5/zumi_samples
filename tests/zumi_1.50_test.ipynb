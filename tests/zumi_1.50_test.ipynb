{
 "cells": [
  {
   "cell_type": "code",
   "execution_count": null,
   "metadata": {},
   "outputs": [],
   "source": [
    "import time\n",
    "from zumi.zumi import Zumi\n",
    "from zumi.util.screen import Screen\n",
    "\n",
    "zumi = Zumi()\n",
    "screen = Screen()"
   ]
  },
  {
   "cell_type": "code",
   "execution_count": null,
   "metadata": {},
   "outputs": [],
   "source": [
    "#new list containing current motors speeds \n",
    "#and at what time they were set\n",
    "print(zumi.motor_speeds)"
   ]
  },
  {
   "cell_type": "code",
   "execution_count": null,
   "metadata": {},
   "outputs": [],
   "source": [
    "#there is now a way to track what zumi sets its motors\n",
    "print(zumi.motor_speeds)\n",
    "for i in range(100):\n",
    "    zumi.forward_step(20,0)\n",
    "    print(zumi.motor_speeds)\n",
    "zumi.stop()"
   ]
  },
  {
   "cell_type": "code",
   "execution_count": null,
   "metadata": {},
   "outputs": [],
   "source": [
    "#run this command \n",
    "#and then click the stop on jupyter before 4 seconds pass.\n",
    "#you should be able to stop Zumi \n",
    "zumi.forward(40,4)"
   ]
  },
  {
   "cell_type": "code",
   "execution_count": null,
   "metadata": {},
   "outputs": [],
   "source": [
    "#run this command and \n",
    "#then click the stop on jupyter before 4 seconds pass.\n",
    "#you should be able to stop Zumi \n",
    "zumi.reverse(40,4)"
   ]
  },
  {
   "cell_type": "code",
   "execution_count": null,
   "metadata": {},
   "outputs": [],
   "source": [
    "#run this command and \n",
    "#then click the stop on jupyter before 2 seconds pass.\n",
    "#you should be able to stop Zumi \n",
    "zumi.move_inches(distance=10,angle=0)"
   ]
  },
  {
   "cell_type": "code",
   "execution_count": null,
   "metadata": {},
   "outputs": [],
   "source": [
    "#run this command and \n",
    "#then click the stop on jupyter before 2 seconds pass.\n",
    "#you should be able to stop Zumi \n",
    "zumi.figure_8()"
   ]
  },
  {
   "cell_type": "code",
   "execution_count": null,
   "metadata": {},
   "outputs": [],
   "source": [
    "#run this command and \n",
    "#then click the stop on jupyter before 2 seconds pass.\n",
    "#you should be able to stop Zumi \n",
    "zumi.j_turn()"
   ]
  },
  {
   "cell_type": "code",
   "execution_count": null,
   "metadata": {},
   "outputs": [],
   "source": [
    "#run this command and \n",
    "#then click the stop on jupyter before 2 seconds pass.\n",
    "#you should be able to stop Zumi \n",
    "zumi.turn(180,duration=5)"
   ]
  },
  {
   "cell_type": "code",
   "execution_count": null,
   "metadata": {},
   "outputs": [],
   "source": [
    "#move only left motor\n",
    "zumi.control_motors(right=0,left=10)\n",
    "time.sleep(1)\n",
    "zumi.stop()"
   ]
  },
  {
   "cell_type": "code",
   "execution_count": null,
   "metadata": {},
   "outputs": [],
   "source": [
    "#move only right motor\n",
    "zumi.control_motors(right=10,left=0)\n",
    "time.sleep(1)\n",
    "zumi.stop()"
   ]
  },
  {
   "cell_type": "code",
   "execution_count": null,
   "metadata": {},
   "outputs": [],
   "source": [
    "#you can now adjust the angle of parallel park\n",
    "zumi.parallel_park(angle=60)"
   ]
  },
  {
   "cell_type": "code",
   "execution_count": null,
   "metadata": {},
   "outputs": [],
   "source": []
  }
 ],
 "metadata": {
  "kernelspec": {
   "display_name": "Python 3",
   "language": "python",
   "name": "python3"
  },
  "language_info": {
   "codemirror_mode": {
    "name": "ipython",
    "version": 3
   },
   "file_extension": ".py",
   "mimetype": "text/x-python",
   "name": "python",
   "nbconvert_exporter": "python",
   "pygments_lexer": "ipython3",
   "version": "3.5.3"
  }
 },
 "nbformat": 4,
 "nbformat_minor": 2
}
