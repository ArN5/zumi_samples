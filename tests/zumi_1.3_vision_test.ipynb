{
 "cells": [
  {
   "cell_type": "code",
   "execution_count": 1,
   "metadata": {},
   "outputs": [
    {
     "name": "stdout",
     "output_type": "stream",
     "text": [
      "Starting Zumi \n",
      "Pi Zero I2C is available\n",
      "Verified Pi Zero is the same\n",
      "Gyroscope previously calibrated\n",
      "Zumi board detected\n",
      "Compass detected\n",
      "OLED Screen detected\n",
      "Gyroscope & Accelerometer detected\n"
     ]
    }
   ],
   "source": [
    "import PIL.Image\n",
    "import cv2\n",
    "import IPython.display\n",
    "import time\n",
    "from zumi.zumi import Zumi\n",
    "from zumi.util.camera import Camera\n",
    "from zumi.util.vision import Vision\n",
    "from zumi.util.screen import Screen\n",
    "\n",
    "zumi = Zumi()\n",
    "screen = Screen()\n",
    "vision = Vision()"
   ]
  },
  {
   "cell_type": "code",
   "execution_count": 2,
   "metadata": {},
   "outputs": [
    {
     "name": "stdout",
     "output_type": "stream",
     "text": [
      "Closing PiCamera\n",
      "done\n"
     ]
    }
   ],
   "source": [
    "camera = Camera()\n",
    "\n",
    "try:\n",
    "    camera.start_camera()\n",
    "    for i in range(20):\n",
    "        image=camera.capture()\n",
    "        gray = vision.convert_to_gray(image)\n",
    "        vision.find_face(gray)\n",
    "        camera.show_image(gray)\n",
    "        camera.clear_output()\n",
    "finally:        \n",
    "    camera.close()\n",
    "    print(\"done\")"
   ]
  },
  {
   "cell_type": "code",
   "execution_count": 3,
   "metadata": {},
   "outputs": [
    {
     "name": "stdout",
     "output_type": "stream",
     "text": [
      "Closing PiCamera\n",
      "done\n"
     ]
    }
   ],
   "source": [
    "camera = Camera()\n",
    "\n",
    "try:\n",
    "    camera.start_camera()\n",
    "    for i in range(20):\n",
    "        image=camera.capture()\n",
    "        #vision.find_face(image)\n",
    "        gray = vision.convert_to_gray(image)\n",
    "        vision.find_smile(gray, min_size=(25,25))\n",
    "        camera.show_image(image)\n",
    "        camera.clear_output()\n",
    "finally:        \n",
    "    camera.close()\n",
    "    print(\"done\")"
   ]
  },
  {
   "cell_type": "code",
   "execution_count": 4,
   "metadata": {},
   "outputs": [
    {
     "name": "stdout",
     "output_type": "stream",
     "text": [
      "Closing PiCamera\n",
      "done\n"
     ]
    }
   ],
   "source": [
    "camera = Camera()\n",
    "try:\n",
    "    camera.start_camera()\n",
    "    for i in range(20):\n",
    "        image=camera.capture()\n",
    "        gray = vision.convert_to_gray(image)\n",
    "        camera.show_image(gray)\n",
    "        camera.clear_output()\n",
    "finally:        \n",
    "    camera.close()\n",
    "    print(\"done\")"
   ]
  },
  {
   "cell_type": "code",
   "execution_count": 5,
   "metadata": {},
   "outputs": [
    {
     "name": "stdout",
     "output_type": "stream",
     "text": [
      "Closing PiCamera\n",
      "done\n"
     ]
    }
   ],
   "source": [
    "camera = Camera()\n",
    "try:\n",
    "    camera.start_camera()\n",
    "    for i in range(20):\n",
    "        image=camera.capture()\n",
    "        hsv = vision.convert_to_hsv(image)\n",
    "        camera.show_image(hsv)\n",
    "        camera.clear_output()\n",
    "finally:        \n",
    "    camera.close()\n",
    "    print(\"done\")"
   ]
  },
  {
   "cell_type": "code",
   "execution_count": null,
   "metadata": {},
   "outputs": [],
   "source": []
  }
 ],
 "metadata": {
  "kernelspec": {
   "display_name": "Python 3",
   "language": "python",
   "name": "python3"
  },
  "language_info": {
   "codemirror_mode": {
    "name": "ipython",
    "version": 3
   },
   "file_extension": ".py",
   "mimetype": "text/x-python",
   "name": "python",
   "nbconvert_exporter": "python",
   "pygments_lexer": "ipython3",
   "version": "3.5.3"
  }
 },
 "nbformat": 4,
 "nbformat_minor": 2
}
