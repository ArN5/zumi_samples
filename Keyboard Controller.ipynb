{
 "cells": [
  {
   "cell_type": "code",
   "execution_count": null,
   "metadata": {},
   "outputs": [],
   "source": [
    "from zumi.zumi import Zumi\n",
    "import time\n",
    "from zumi.util.screen import Screen\n",
    "zumi = Zumi()\n",
    "screen = Screen()\n",
    "\n",
    "#draw some happy eyes on zumi\n",
    "screen.hello()"
   ]
  },
  {
   "cell_type": "code",
   "execution_count": null,
   "metadata": {},
   "outputs": [],
   "source": [
    "#type in WASD keyboard commands\n",
    "#to quit correctly type q\n",
    "turn_time = 0.5 \n",
    "# 0.5 seconds\n",
    "turn_speed = 30\n",
    "# 20 out of 80 speed\n",
    "try:\n",
    "    while 1:\n",
    "\n",
    "        current_angle = zumi.read_z_angle()\n",
    "\n",
    "        command = input(\"Command = \")\n",
    "        if command == \"w\":\n",
    "            zumi.forward()\n",
    "        elif command == \"s\":\n",
    "            zumi.reverse()\n",
    "        elif command == \"a\":\n",
    "            #left turn\n",
    "            zumi.turn(current_angle+10,turn_time,turn_speed)\n",
    "        elif command == \"d\":\n",
    "            #right turn\n",
    "            zumi.turn(current_angle-10,turn_time,turn_speed)\n",
    "\n",
    "        elif command == \"q\":\n",
    "            print(\" quitting \")\n",
    "            zumi.control_motors(0, 0, 0)\n",
    "            break\n",
    "        else:\n",
    "            zumi.stop(0)\n",
    "            time.sleep(0.05)\n",
    "        zumi.stop()\n",
    "finally:    \n",
    "    print(\"done\")\n",
    "    zumi.stop()\n"
   ]
  },
  {
   "cell_type": "code",
   "execution_count": null,
   "metadata": {},
   "outputs": [],
   "source": []
  }
 ],
 "metadata": {
  "kernelspec": {
   "display_name": "Python 3",
   "language": "python",
   "name": "python3"
  },
  "language_info": {
   "codemirror_mode": {
    "name": "ipython",
    "version": 3
   },
   "file_extension": ".py",
   "mimetype": "text/x-python",
   "name": "python",
   "nbconvert_exporter": "python",
   "pygments_lexer": "ipython3",
   "version": "3.5.3"
  }
 },
 "nbformat": 4,
 "nbformat_minor": 2
}
