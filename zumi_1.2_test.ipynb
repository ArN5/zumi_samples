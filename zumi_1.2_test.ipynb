{
 "cells": [
  {
   "cell_type": "code",
   "execution_count": 1,
   "metadata": {},
   "outputs": [
    {
     "name": "stdout",
     "output_type": "stream",
     "text": [
      " Starting Zumi \n",
      "Pi Zero I2C is available\n",
      "Verified Pi Zero is the same\n",
      "Gyroscope previously calibrated\n",
      "Zumi board detected\n",
      "Compass detected\n",
      "OLED Screen detected\n",
      "Gyroscope & Accelerometer detected\n",
      "time taken  0.1601698398590088\n",
      "time taken  0.06801652908325195\n",
      "[1582598164.2528243, 244, 11, 223, 11, 231, 247, 4.224137931034482, 5.083333333333334, 1.2, 0, 0.10693359375, 0.003173828125, 0.9931640625, 0.03936329927752702, 0.02142412758017259, -0.11921094245974839, 33.47117647058823, 0.005139410028518958, 0.002797209028681959, -0.015564597592982005, 0.18309798381292486, -6.145340453404023, 0.008698581504207076, -0.12016554421997215, 1.3131364581762068, 0.0011568241683254912, 89.33904134988043, 5, -1820, 878, 3862, 892, 157.8406660217363]\n",
      "zumi board version  1.2\n",
      "True\n",
      "[0, 0]\n",
      "[4, 13, 60, 104]\n"
     ]
    }
   ],
   "source": [
    "from zumi.zumi import Zumi\n",
    "import time\n",
    "\n",
    "time_start=time.time()\n",
    "zumi = Zumi()\n",
    "print(\"time taken \",time.time()-time_start)\n",
    "time_start=time.time()\n",
    "sensor_data = zumi.get_all_sensor_data()\n",
    "print(\"time taken \",time.time()-time_start)\n",
    "\n",
    "print(sensor_data)\n",
    "print(\"zumi board version \",sensor_data[9])\n",
    "print(zumi.has_compass)\n",
    "print(zumi.coordinate)\n",
    "print(zumi.sensors_found)"
   ]
  },
  {
   "cell_type": "code",
   "execution_count": 2,
   "metadata": {},
   "outputs": [],
   "source": [
    "zumi.smooth_forward(duration=3)\n",
    "zumi.smooth_reverse(duration=2)"
   ]
  },
  {
   "cell_type": "code",
   "execution_count": 3,
   "metadata": {},
   "outputs": [],
   "source": [
    "zumi.reset_gyro()\n",
    "\n",
    "zumi.smooth_turn_left(90)\n",
    "zumi.smooth_turn_right(90,speed=30,step=1)"
   ]
  },
  {
   "cell_type": "code",
   "execution_count": 10,
   "metadata": {},
   "outputs": [
    {
     "data": {
      "image/png": "[encoded data removed]",
      "text/plain": [
       "<Figure size 432x288 with 1 Axes>"
      ]
     },
     "metadata": {
      "needs_background": "light"
     },
     "output_type": "display_data"
    }
   ],
   "source": [
    "import matplotlib\n",
    "import matplotlib.pyplot as plt\n",
    "\n",
    "zumi.reset_gyro()\n",
    "inches= 12\n",
    "degree=0\n",
    "err_l, time_l = zumi.move_inches(inches,degree)\n",
    "\n",
    "plt.plot(time_l,err_l,'bo')\n",
    "plt.ylabel('error')\n",
    "plt.xlabel('time')\n",
    "plt.show()"
   ]
  },
  {
   "cell_type": "code",
   "execution_count": 5,
   "metadata": {},
   "outputs": [
    {
     "data": {
      "image/png": "[encoded data removed]",
      "text/plain": [
       "<Figure size 432x288 with 1 Axes>"
      ]
     },
     "metadata": {
      "needs_background": "light"
     },
     "output_type": "display_data"
    }
   ],
   "source": [
    "plt.plot(time_l,err_l,'bo')\n",
    "plt.ylabel('error')\n",
    "plt.xlabel('time')\n",
    "plt.show()"
   ]
  },
  {
   "cell_type": "code",
   "execution_count": 7,
   "metadata": {},
   "outputs": [],
   "source": [
    "zumi.reset_coordinates()\n",
    "zumi.reset_gyro()\n",
    "# zumi.mpu.calibrate_MPU(400)\n",
    "# zumi.mpu.print_offsets()\n",
    "\n",
    "zumi.PRED_SPEED_INCHES_SEC = 6 \n",
    "zumi.PRED_SLOPE_INT_INCH = -1\n",
    "distance_in_inches = 7\n",
    "\n",
    "zumi.move_to_coordinate(distance_in_inches,0)\n",
    "zumi.move_to_coordinate(distance_in_inches,distance_in_inches)\n",
    "zumi.move_to_coordinate(0,distance_in_inches)\n",
    "zumi.move_to_coordinate(0,0)\n",
    "zumi.move_to_coordinate(distance_in_inches,0)\n",
    "zumi.move_to_coordinate(distance_in_inches,distance_in_inches)"
   ]
  },
  {
   "cell_type": "code",
   "execution_count": 8,
   "metadata": {},
   "outputs": [
    {
     "data": {
      "text/plain": [
       "([0.029235185976228442,\n",
       "  0.02421746527158807,\n",
       "  -0.4555966873142893,\n",
       "  -0.8921547879016563,\n",
       "  -1.1253374270934358,\n",
       "  -1.0681032916230573,\n",
       "  -0.9643195236307563,\n",
       "  -1.0834259742562493,\n",
       "  -1.109462454823924,\n",
       "  -1.0626398380848048,\n",
       "  -0.9380594792976795,\n",
       "  -0.8509759036872411,\n",
       "  -0.8668130288887056,\n",
       "  -0.803142611694689,\n",
       "  -0.8054465021397474,\n",
       "  -0.8991534675152437,\n",
       "  -0.8178159348171327,\n",
       "  -0.6282167824811828,\n",
       "  -0.8162105587314517,\n",
       "  -0.8484145349373908,\n",
       "  -0.960901993952346,\n",
       "  -0.8978621839399049,\n",
       "  -0.940238929542891,\n",
       "  -0.8630487596084853,\n",
       "  -0.70289511492592,\n",
       "  -0.613942011798092,\n",
       "  -0.6077487567538576,\n",
       "  -0.5773443386552516,\n",
       "  -0.4699910662201005,\n",
       "  -0.36770346429708056,\n",
       "  -0.37851341360168383,\n",
       "  -0.30407513408583753,\n",
       "  -0.3497678191279707,\n",
       "  -0.2922366347684264,\n",
       "  -0.14273393912093899,\n",
       "  -0.27875372508015467,\n",
       "  -0.16919992283060653,\n",
       "  -0.08826128684457821,\n",
       "  -0.11372138943719856,\n",
       "  -0.23447831583804657,\n",
       "  -0.3405469696122746,\n",
       "  -0.3686814180488271,\n",
       "  -0.3846171628608365,\n",
       "  -0.39371802232266906,\n",
       "  -0.2784374252386971,\n",
       "  -0.15201583929402127,\n",
       "  -0.18823461546638298,\n",
       "  -0.12065061804954864,\n",
       "  -0.01978073801301851,\n",
       "  0.07046521273512021,\n",
       "  -0.028820991998835824,\n",
       "  0.09804564640670592,\n",
       "  0.036416874719959115,\n",
       "  -0.03964884694124351,\n",
       "  -0.017652423207740665,\n",
       "  0.07524508205449798,\n",
       "  -0.1236838970814865,\n",
       "  -0.06058307765241833,\n",
       "  -0.04315589732045043,\n",
       "  -0.19606385465780285,\n",
       "  -0.416819876013372,\n",
       "  -0.4763482143457706,\n",
       "  -0.4008932515979756,\n",
       "  -0.39141657575661953,\n",
       "  -0.2985742110817775,\n",
       "  -0.13757292922599296,\n",
       "  -0.22547116601328152,\n",
       "  -0.06452975659506871,\n",
       "  0.06817702076590704,\n",
       "  0.1034528696759534,\n",
       "  0.019167948770662704,\n",
       "  -0.030356414907142075,\n",
       "  -0.012347572624240855,\n",
       "  0.048109611349212156,\n",
       "  -0.010212723339451502,\n",
       "  0.056642316763439976,\n",
       "  0.0008155997057174638,\n",
       "  -0.1412856400775856,\n",
       "  -0.07254009090899981,\n",
       "  0.007372124650695755,\n",
       "  -0.05000526613573981,\n",
       "  0.07610057101365739,\n",
       "  0.14144837578234148,\n",
       "  -0.004222055722715917,\n",
       "  -0.0020060411558887005,\n",
       "  0.1794406613023653,\n",
       "  0.13429341119519633,\n",
       "  0.03726132303800023,\n",
       "  -0.055305440788359195,\n",
       "  -0.18200606968609678,\n",
       "  -0.09354898843803588,\n",
       "  -0.2458902131526839,\n",
       "  -0.18784686285946572,\n",
       "  -0.09743120694892066,\n",
       "  -0.08172302294530173,\n",
       "  0.023123297458559178,\n",
       "  0.12734100702496745,\n",
       "  -0.012463985136001166,\n",
       "  0.1121767180544017,\n",
       "  0.10143268053650349,\n",
       "  0.3716191928807904],\n",
       " [2.6941299438476562e-05,\n",
       "  0.01820993423461914,\n",
       "  0.03629565238952637,\n",
       "  0.0544278621673584,\n",
       "  0.07253742218017578,\n",
       "  0.09067606925964355,\n",
       "  0.10918474197387695,\n",
       "  0.12768864631652832,\n",
       "  0.1461505889892578,\n",
       "  0.16463565826416016,\n",
       "  0.18315482139587402,\n",
       "  0.20173358917236328,\n",
       "  0.22028851509094238,\n",
       "  0.23880338668823242,\n",
       "  0.2572760581970215,\n",
       "  0.2757425308227539,\n",
       "  0.2942512035369873,\n",
       "  0.3129394054412842,\n",
       "  0.3314375877380371,\n",
       "  0.3498983383178711,\n",
       "  0.36839914321899414,\n",
       "  0.38692665100097656,\n",
       "  0.40541696548461914,\n",
       "  0.42392492294311523,\n",
       "  0.44240617752075195,\n",
       "  0.46091604232788086,\n",
       "  0.4793977737426758,\n",
       "  0.49802350997924805,\n",
       "  0.516582727432251,\n",
       "  0.5350511074066162,\n",
       "  0.5537712574005127,\n",
       "  0.5722789764404297,\n",
       "  0.5907812118530273,\n",
       "  0.6092681884765625,\n",
       "  0.6277837753295898,\n",
       "  0.6461901664733887,\n",
       "  0.664682149887085,\n",
       "  0.6832077503204346,\n",
       "  0.7017803192138672,\n",
       "  0.7203049659729004,\n",
       "  0.7389400005340576,\n",
       "  0.7573916912078857,\n",
       "  0.775813102722168,\n",
       "  0.7944166660308838,\n",
       "  0.8129928112030029,\n",
       "  0.8315343856811523,\n",
       "  0.8500242233276367,\n",
       "  0.8686163425445557,\n",
       "  0.8876345157623291,\n",
       "  0.9061424732208252,\n",
       "  0.9246876239776611,\n",
       "  0.9436876773834229,\n",
       "  0.96246337890625,\n",
       "  0.9809420108795166,\n",
       "  0.9993975162506104,\n",
       "  1.017928123474121,\n",
       "  1.0364000797271729,\n",
       "  1.054875373840332,\n",
       "  1.073371410369873,\n",
       "  1.091865062713623,\n",
       "  1.110363245010376,\n",
       "  1.1288280487060547,\n",
       "  1.1472384929656982,\n",
       "  1.165712594985962,\n",
       "  1.1840863227844238,\n",
       "  1.202580451965332,\n",
       "  1.2210326194763184,\n",
       "  1.2395083904266357,\n",
       "  1.258039951324463,\n",
       "  1.2770748138427734,\n",
       "  1.2955176830291748,\n",
       "  1.3139252662658691,\n",
       "  1.332352876663208,\n",
       "  1.3509068489074707,\n",
       "  1.3694283962249756,\n",
       "  1.3879637718200684,\n",
       "  1.4064280986785889,\n",
       "  1.4248907566070557,\n",
       "  1.4433927536010742,\n",
       "  1.4618737697601318,\n",
       "  1.4803309440612793,\n",
       "  1.4987759590148926,\n",
       "  1.5172438621520996,\n",
       "  1.5357365608215332,\n",
       "  1.5541925430297852,\n",
       "  1.5727829933166504,\n",
       "  1.5912675857543945,\n",
       "  1.6097440719604492,\n",
       "  1.6282415390014648,\n",
       "  1.6467242240905762,\n",
       "  1.6652100086212158,\n",
       "  1.6836819648742676,\n",
       "  1.7022407054901123,\n",
       "  1.7207608222961426,\n",
       "  1.7393443584442139,\n",
       "  1.7577621936798096,\n",
       "  1.7761549949645996,\n",
       "  1.7946414947509766,\n",
       "  1.8131093978881836,\n",
       "  1.8315351009368896,\n",
       "  1.849992275238037])"
      ]
     },
     "execution_count": 8,
     "metadata": {},
     "output_type": "execute_result"
    }
   ],
   "source": [
    "zumi.reset_gyro()\n",
    "inches= 12\n",
    "degree=0\n",
    "zumi.move_inches(inches,degree,k_p=10,k_i=20,k_d=0.2)"
   ]
  },
  {
   "cell_type": "code",
   "execution_count": 13,
   "metadata": {},
   "outputs": [
    {
     "name": "stdout",
     "output_type": "stream",
     "text": [
      "None\n"
     ]
    }
   ],
   "source": [
    "print(zumi.get_board_firmware_version())"
   ]
  },
  {
   "cell_type": "code",
   "execution_count": null,
   "metadata": {},
   "outputs": [],
   "source": []
  }
 ],
 "metadata": {
  "kernelspec": {
   "display_name": "Python 3",
   "language": "python",
   "name": "python3"
  },
  "language_info": {
   "codemirror_mode": {
    "name": "ipython",
    "version": 3
   },
   "file_extension": ".py",
   "mimetype": "text/x-python",
   "name": "python",
   "nbconvert_exporter": "python",
   "pygments_lexer": "ipython3",
   "version": "3.5.3"
  }
 },
 "nbformat": 4,
 "nbformat_minor": 2
}
