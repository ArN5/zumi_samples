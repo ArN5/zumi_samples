{
 "cells": [
  {
   "cell_type": "code",
   "execution_count": 3,
   "metadata": {},
   "outputs": [
    {
     "name": "stdout",
     "output_type": "stream",
     "text": [
      " Starting Zumi \n",
      "Pi Zero I2C is available\n",
      "Gyro offset file already exists.\n",
      "Verified Pi Zero is the same\n",
      "Gyroscope previously calibrated\n",
      "Zumi board detected\n",
      "Compass detected\n",
      "OLED Screen detected\n",
      "Gyroscope & Accelerometer detected\n"
     ]
    }
   ],
   "source": [
    "from zumi.zumi import Zumi\n",
    "from zumi.util.screen import Screen\n",
    "import matplotlib.pyplot as plt\n",
    "import numpy as np\n",
    "import time\n",
    "\n",
    "zumi = Zumi()"
   ]
  },
  {
   "cell_type": "code",
   "execution_count": 4,
   "metadata": {},
   "outputs": [],
   "source": [
    "zumi = Zumi()\n",
    "\n",
    "#this is how to use drive_at_angle it is the \n",
    "#method all other methods turn and go straight are made with\n",
    "max_speed = 127 # this is the max speed the motors will ever reach\n",
    "forward_speed = 40 #this is speed Zumi tries to drive forward with\n",
    "desired_heading = 0 #the angle we want to go towards\n",
    "p_gain = 10 #the proportional error gain\n",
    "d_gain = 0.4 # the derivative error gain\n",
    "i_gain = 20 #the integral error gain\n",
    "min_error_allowed = 0 #this is lowest amount of error before the PID activates to correct\n",
    "\n",
    "for i in range(30):\n",
    "    zumi.drive_at_angle(max_speed, forward_speed,desired_heading,\n",
    "                        p_gain, d_gain, i_gain, min_error_allowed)\n",
    "    \n",
    "#ALWAYS have a STOP at the END of the code after drive_at_angle    \n",
    "zumi.stop()"
   ]
  },
  {
   "cell_type": "code",
   "execution_count": 10,
   "metadata": {},
   "outputs": [
    {
     "name": "stdout",
     "output_type": "stream",
     "text": [
      "-0.000811516184600942\n",
      "-0.7436147877335586\n",
      "-0.7328906226773836\n",
      "-0.7909668768138506\n",
      "-0.8409759163299324\n",
      "-0.7162026094827216\n",
      "-0.9240570035812021\n",
      "-0.8467162420129495\n",
      "-1.0348639378104114\n",
      "-0.9674632897854135\n",
      "-0.8382300183453173\n",
      "-0.700888714147969\n",
      "-0.7691320944666763\n",
      "-0.6278991315211037\n",
      "-0.8150614238188778\n",
      "-0.6119087271090667\n",
      "-0.705907087368574\n",
      "-0.7787169644454028\n",
      "-0.5962186976449415\n",
      "-0.5679758306427342\n",
      "-0.5087754211190245\n",
      "-0.6739261508764567\n",
      "-0.4813364481970479\n",
      "-0.6088997873215048\n",
      "-0.9038350023817268\n",
      "-0.15711027119845544\n",
      "-0.044171634484133485\n",
      "0.030919597787780737\n",
      "-0.23156846196748665\n",
      "-0.7394217034665895\n"
     ]
    }
   ],
   "source": [
    "#The value that is returned from the drive_at_angle method is the error\n",
    "\n",
    "#Since drive at angle uses PID their is\n",
    "#a variable that measures the accumulated error\n",
    "#we must reset it otherwise we get random jerky motions\n",
    "zumi.reset_gyro()\n",
    "zumi.reset_PID()\n",
    "\n",
    "#the method returns the error from the desired heading\n",
    "for i in range(30):\n",
    "    #the method error is saved to a variable and printed\n",
    "    error = zumi.drive_at_angle(127, 40,0,10, 0.4, 20, 0)\n",
    "    print(error)\n",
    "    \n",
    "zumi.stop()"
   ]
  },
  {
   "cell_type": "code",
   "execution_count": 19,
   "metadata": {},
   "outputs": [
    {
     "name": "stdout",
     "output_type": "stream",
     "text": [
      "-52.56918259029511\n"
     ]
    }
   ],
   "source": [
    "#the reason we use\n",
    "#zumi.reset_gyro()\n",
    "#zumi.reset_PID()\n",
    "#is because the error is being accumulated\n",
    "print(zumi.error_sum)"
   ]
  },
  {
   "cell_type": "code",
   "execution_count": 20,
   "metadata": {},
   "outputs": [
    {
     "name": "stdout",
     "output_type": "stream",
     "text": [
      "0\n"
     ]
    }
   ],
   "source": [
    "#now when we reset this value \n",
    "zumi.reset_gyro()\n",
    "zumi.reset_PID()\n",
    "print(zumi.error_sum)\n",
    "#should be zero now\n",
    "#you should use these each time we move to a new direction\n",
    "#we only want to record the error for whatever current movement we are doing"
   ]
  },
  {
   "cell_type": "code",
   "execution_count": 11,
   "metadata": {
    "scrolled": true
   },
   "outputs": [
    {
     "data": {
      "image/png": "[encoded data removed]",
      "text/plain": [
       "<Figure size 432x288 with 1 Axes>"
      ]
     },
     "metadata": {
      "needs_background": "light"
     },
     "output_type": "display_data"
    }
   ],
   "source": [
    "#we can graph this error as well to see how it varies\n",
    "\n",
    "#reset Cumulative error\n",
    "zumi.reset_gyro()\n",
    "zumi.reset_PID()\n",
    "\n",
    "#make an empty list for the error and time\n",
    "error_list = []\n",
    "time_list = []\n",
    "\n",
    "for i in range(100):\n",
    "    #the method error is saved to a variable and printed\n",
    "    error = zumi.drive_at_angle(127, 40,0,10, 0.4, 20, 0)\n",
    "    \n",
    "    #add the error value to the list\n",
    "    error_list.append(error)\n",
    "    time_list.append(time.time())\n",
    "    \n",
    "zumi.stop()\n",
    "\n",
    "#now we will plot the amount of error.\n",
    "#we want the points to be as close to 0 as possible.\n",
    "plt.plot(time_list,error_list,'bo')\n",
    "plt.ylabel('error angle')\n",
    "plt.xlabel('time')\n",
    "plt.show()"
   ]
  },
  {
   "cell_type": "code",
   "execution_count": 23,
   "metadata": {
    "scrolled": true
   },
   "outputs": [
    {
     "data": {
      "image/png": "[encoded data removed]",
      "text/plain": [
       "<Figure size 432x288 with 1 Axes>"
      ]
     },
     "metadata": {
      "needs_background": "light"
     },
     "output_type": "display_data"
    }
   ],
   "source": [
    "#now we can play with the PID values\n",
    "#try setting some to 0 or some different value\n",
    "\n",
    "p_gain = 20\n",
    "#P is zumi response to current error\n",
    "#so if the measure angle is 10 degrees \n",
    "#and the desired is 0 then this error =10-0 will be multiplied by the P gain\n",
    "#if only p_gain is used it will work but be very very sensitive by abrupt changes\n",
    "#such as a push will cause it to oscillate like crazy\n",
    "\n",
    "d_gain = 0\n",
    "#the D gain is \"intertia\" or resistance to change \n",
    "#if only this value is being set Zumi will try not move\n",
    "\n",
    "i_gain = 0\n",
    "#i gain is error accumulated example say the Zumi \n",
    "#is driving off by 1 degree over time this error will add up\n",
    "#if only p = 0 d = 0 and i = (something) the zumi will oscillate like crazy\n",
    "\n",
    "#reset Cumulative error\n",
    "zumi.reset_gyro()\n",
    "zumi.reset_PID()\n",
    "\n",
    "#make an empty list for the error and time\n",
    "error_list = []\n",
    "time_list = []\n",
    "\n",
    "for i in range(150):\n",
    "    #the method error is saved to a variable and printed\n",
    "    error = zumi.drive_at_angle(127, 40,0,p_gain, d_gain, i_gain, 0)\n",
    "    \n",
    "    #add the error value to the list\n",
    "    error_list.append(error)\n",
    "    time_list.append(time.time())\n",
    "    \n",
    "zumi.stop()\n",
    "\n",
    "#now we will plot the amount of error.\n",
    "#we want the points to be as close to 0 as possible.\n",
    "plt.plot(time_list,error_list,'bo')\n",
    "plt.ylabel('error angle')\n",
    "plt.xlabel('time')\n",
    "plt.show()"
   ]
  },
  {
   "cell_type": "code",
   "execution_count": 30,
   "metadata": {},
   "outputs": [
    {
     "data": {
      "image/png": "[encoded data removed]",
      "text/plain": [
       "<Figure size 432x288 with 1 Axes>"
      ]
     },
     "metadata": {
      "needs_background": "light"
     },
     "output_type": "display_data"
    }
   ],
   "source": [
    "p_gain = 10\n",
    "d_gain = 0.1\n",
    "i_gain = 20\n",
    "#you can find the values that best fit your Zumi\n",
    "#some hints if your Zumi has a constant error of like +-10 in the graph then increase the I gain\n",
    "#if your Zumi corrects but way to slowly increase the P gain.\n",
    "#if your Zumi corrects to fast increase the d gain. increase its resistance to change\n",
    "\n",
    "#reset Cumulative error\n",
    "zumi.reset_gyro()\n",
    "zumi.reset_PID()\n",
    "\n",
    "#make an empty list for the error and time\n",
    "error_list = []\n",
    "time_list = []\n",
    "\n",
    "for i in range(150):\n",
    "    #the method error is saved to a variable and printed\n",
    "    error = zumi.drive_at_angle(127, 40,0,p_gain, d_gain, i_gain, 0)\n",
    "    \n",
    "    #add the error value to the list\n",
    "    error_list.append(error)\n",
    "    time_list.append(time.time())\n",
    "    \n",
    "zumi.stop()\n",
    "\n",
    "#now we will plot the amount of error.\n",
    "#we want the points to be as close to 0 as possible.\n",
    "plt.plot(time_list,error_list,'bo')\n",
    "plt.ylabel('error angle')\n",
    "plt.xlabel('time')\n",
    "plt.show()"
   ]
  },
  {
   "cell_type": "code",
   "execution_count": 18,
   "metadata": {},
   "outputs": [
    {
     "name": "stdout",
     "output_type": "stream",
     "text": [
      " Starting Zumi \n",
      "Pi Zero I2C is available\n",
      "Gyro offset file already exists.\n",
      "Verified Pi Zero is the same\n",
      "Gyroscope previously calibrated\n",
      "Zumi board detected\n",
      "Compass detected\n",
      "OLED Screen detected\n",
      "Gyroscope & Accelerometer detected\n",
      "4.103448275862069  volts\n",
      "Creating new offset file...\n",
      ".\n",
      "266\n"
     ]
    },
    {
     "data": {
      "image/png": "[encoded data removed]",
      "text/plain": [
       "<Figure size 432x288 with 1 Axes>"
      ]
     },
     "metadata": {
      "needs_background": "light"
     },
     "output_type": "display_data"
    },
    {
     "name": "stdout",
     "output_type": "stream",
     "text": [
      "pred error deg/s  21.123767479496973\n",
      "slope int  23.217136584512797\n"
     ]
    },
    {
     "data": {
      "image/png": "[encoded data removed]",
      "text/plain": [
       "<Figure size 432x288 with 1 Axes>"
      ]
     },
     "metadata": {
      "needs_background": "light"
     },
     "output_type": "display_data"
    },
    {
     "data": {
      "image/png": "[encoded data removed]",
      "text/plain": [
       "<Figure size 432x288 with 1 Axes>"
      ]
     },
     "metadata": {
      "needs_background": "light"
     },
     "output_type": "display_data"
    },
    {
     "data": {
      "image/png": "[encoded data removed]",
      "text/plain": [
       "<Figure size 432x288 with 1 Axes>"
      ]
     },
     "metadata": {
      "needs_background": "light"
     },
     "output_type": "display_data"
    },
    {
     "data": {
      "image/png": "[encoded data removed]",
      "text/plain": [
       "<Figure size 432x288 with 1 Axes>"
      ]
     },
     "metadata": {
      "needs_background": "light"
     },
     "output_type": "display_data"
    }
   ],
   "source": [
    "motor_speed = 40\n",
    "time_out = 3\n",
    "\n",
    "zumi = Zumi()\n",
    "zumi.MIN_I2C_DELAY = 0.0\n",
    "print(zumi.get_battery_voltage(),\" volts\")\n",
    "zumi.reset_gyro()\n",
    "zumi.mpu.calibrate_MPU(50)\n",
    "\n",
    "\n",
    "#create list for the readings to be graphed\n",
    "time_list = []\n",
    "\n",
    "\n",
    "ang_z_list = []\n",
    "error_list = []\n",
    "error_plus = []\n",
    "error_minus = []\n",
    "err_sum_list = []\n",
    "error_sum = 0\n",
    "error_sum_p = 0\n",
    "error_sum_n = 0\n",
    "\n",
    "time_passed = 0\n",
    "\n",
    "heading = 0\n",
    "\n",
    "\n",
    "init_time = time.time()  \n",
    "       \n",
    "while(True):\n",
    "    #zumi.go_straight(motor_speed,heading,accuracy=0.0)\n",
    "    zumi.drive_at_angle(127, motor_speed, heading, 10, 0.4, 20, 0)\n",
    "\n",
    "    time_passed = time.time()-init_time\n",
    "\n",
    "    #add data to lists\n",
    "    time_list.append(time_passed)\n",
    "    \n",
    "    #record the z angle\n",
    "    ang_z_list.append(zumi.angle_list[2])\n",
    "    \n",
    "    #find the amount of error from desired heading\n",
    "    error = heading - zumi.angle_list[2]\n",
    "    if error > 0:\n",
    "        error_sum_p = abs(error) + error_sum_p\n",
    "\n",
    "    elif error < 0:\n",
    "        error_sum_n = error + error_sum_n\n",
    "        \n",
    "    error_plus.append(error_sum_p)        \n",
    "    error_minus.append(error_sum_n)\n",
    "    error_sum = abs(error)+error_sum\n",
    "    error_list.append(error_sum)   \n",
    "    err_sum_list.append(zumi.error_sum)\n",
    "    #program should end if timeout or number of bricks\n",
    "    if time_passed > time_out:\n",
    "        break\n",
    "print(len(time_list))\n",
    "zumi.hard_brake()\n",
    "\n",
    "plt.plot(time_list,ang_z_list,'bo')\n",
    "plt.ylabel('gyro angle')\n",
    "plt.xlabel('time')\n",
    "plt.show()\n",
    "\n",
    "m, b = np.polyfit(time_list, error_list, 1)\n",
    "print(\"pred error deg/s \", m)\n",
    "print(\"slope int \",b)\n",
    "\n",
    "plt.plot(time_list,error_list,'co')\n",
    "plt.ylabel('abs error sum')\n",
    "plt.xlabel('time')\n",
    "plt.show()\n",
    "\n",
    "plt.plot(time_list,err_sum_list,'ro')\n",
    "plt.ylabel('error sum')\n",
    "plt.xlabel('time')\n",
    "plt.show()\n",
    "\n",
    "plt.plot(time_list,error_plus,'go')\n",
    "plt.ylabel('pos error sum')\n",
    "plt.xlabel('time')\n",
    "plt.show()\n",
    "\n",
    "plt.plot(time_list,error_minus,'ro')\n",
    "plt.ylabel('negative error sum')\n",
    "plt.xlabel('time')\n",
    "plt.show()\n"
   ]
  },
  {
   "cell_type": "code",
   "execution_count": null,
   "metadata": {},
   "outputs": [],
   "source": []
  }
 ],
 "metadata": {
  "kernelspec": {
   "display_name": "Python 3",
   "language": "python",
   "name": "python3"
  },
  "language_info": {
   "codemirror_mode": {
    "name": "ipython",
    "version": 3
   },
   "file_extension": ".py",
   "mimetype": "text/x-python",
   "name": "python",
   "nbconvert_exporter": "python",
   "pygments_lexer": "ipython3",
   "version": "3.5.3"
  }
 },
 "nbformat": 4,
 "nbformat_minor": 2
}
