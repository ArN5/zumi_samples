{
 "cells": [
  {
   "cell_type": "code",
   "execution_count": null,
   "metadata": {},
   "outputs": [],
   "source": [
    "#how to save data with pickle\n",
    "import pickle\n",
    "\n",
    "my_list = [[1,22,4,5,6,7],[1,2,14,5,6,7],[11,2,4,5,6,7]]\n",
    "\n",
    "file = open(\"test.data\", \"wb\")\n",
    "#you can save any objects or datatype\n",
    "pickle.dump(my_list,file)\n",
    "file.close()"
   ]
  },
  {
   "cell_type": "code",
   "execution_count": null,
   "metadata": {},
   "outputs": [],
   "source": [
    "#opening data with pickle\n",
    "file = open(\"test.data\", \"rb\")\n",
    "new_list = pickle.load(file)\n",
    "file.close()\n",
    "print(new_list)"
   ]
  },
  {
   "cell_type": "code",
   "execution_count": null,
   "metadata": {},
   "outputs": [],
   "source": [
    "import pickle\n",
    "from zumi.zumi import Zumi\n",
    "\n",
    "file = open(\"zumi.data\", \"wb\")\n",
    "z = Zumi()\n",
    "pickle.dump(z,file)\n",
    "file.close()"
   ]
  },
  {
   "cell_type": "code",
   "execution_count": null,
   "metadata": {},
   "outputs": [],
   "source": [
    "#opening data with pickle\n",
    "file = open(\"zumi.data\", \"rb\")\n",
    "z = pickle.load(file)\n",
    "file.close()\n",
    "print(z)\n",
    "z.play_note(30,200)"
   ]
  },
  {
   "cell_type": "code",
   "execution_count": null,
   "metadata": {},
   "outputs": [],
   "source": []
  }
 ],
 "metadata": {
  "kernelspec": {
   "display_name": "Python 3",
   "language": "python",
   "name": "python3"
  },
  "language_info": {
   "codemirror_mode": {
    "name": "ipython",
    "version": 3
   },
   "file_extension": ".py",
   "mimetype": "text/x-python",
   "name": "python",
   "nbconvert_exporter": "python",
   "pygments_lexer": "ipython3",
   "version": "3.5.3"
  }
 },
 "nbformat": 4,
 "nbformat_minor": 2
}
