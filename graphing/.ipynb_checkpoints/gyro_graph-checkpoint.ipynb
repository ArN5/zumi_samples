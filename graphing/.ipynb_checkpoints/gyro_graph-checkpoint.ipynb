{
 "cells": [
  {
   "cell_type": "code",
   "execution_count": null,
   "metadata": {},
   "outputs": [],
   "source": [
    "from zumi.zumi import Zumi\n",
    "from zumi.util.screen import Screen\n",
    "import matplotlib.pyplot as plt\n",
    "import numpy as np\n",
    "import time\n",
    "\n",
    "zumi = Zumi()\n",
    "zumi.mpu.calibrate_MPU(100)\n",
    "zumi.reset_gyro()\n",
    "time_list = []\n",
    "ang_z_list = []\n",
    "ang_z_speed_list = []\n",
    "\n",
    "time_out = 10\n",
    "time_passed = 0\n",
    "init_time = time.time()  \n",
    "print(\"start\")       \n",
    "while(True):\n",
    "    time_passed = time.time()-init_time\n",
    "    #add data to lists\n",
    "    time_list.append(time_passed)\n",
    "    zumi.update_angles()\n",
    "    #record the z angle\n",
    "    ang_z_list.append(zumi.angle_list[2])\n",
    "    ang_z_speed_list.append(zumi.mpu_list[5])\n",
    "\n",
    "    #program should end if timeout or number of bricks\n",
    "    if time_passed > time_out:\n",
    "        break\n",
    "print(\"done\")  \n",
    "print(len(time_list))\n",
    "zumi.hard_brake()\n",
    "\n",
    "\n",
    "plt.plot(time_list,ang_z_speed_list,'ro')\n",
    "plt.ylabel('gyro angular speed')\n",
    "plt.xlabel('time')\n",
    "plt.show()\n",
    "\n",
    "plt.plot(time_list,ang_z_list,'bo')\n",
    "plt.ylabel('gyro angle')\n",
    "plt.xlabel('time')\n",
    "plt.show()\n",
    "\n",
    "m, b = np.polyfit(time_list, ang_z_list, 1)\n",
    "print(\"pred deg \", m)\n",
    "print(\"slope int \",b)"
   ]
  },
  {
   "cell_type": "code",
   "execution_count": null,
   "metadata": {},
   "outputs": [],
   "source": [
    "plt.plot(time_list,ang_z_speed_list,'ro')\n",
    "plt.ylabel('gyro angle')\n",
    "plt.xlabel('time')\n",
    "plt.show()\n",
    "\n",
    "plt.plot(time_list,ang_z_list,'bo')\n",
    "plt.ylabel('gyro angle')\n",
    "plt.xlabel('time')\n",
    "plt.show()"
   ]
  }
 ],
 "metadata": {
  "kernelspec": {
   "display_name": "Python 3",
   "language": "python",
   "name": "python3"
  },
  "language_info": {
   "codemirror_mode": {
    "name": "ipython",
    "version": 3
   },
   "file_extension": ".py",
   "mimetype": "text/x-python",
   "name": "python",
   "nbconvert_exporter": "python",
   "pygments_lexer": "ipython3",
   "version": "3.5.3"
  }
 },
 "nbformat": 4,
 "nbformat_minor": 2
}
