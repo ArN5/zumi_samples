{
 "cells": [
  {
   "cell_type": "code",
   "execution_count": 64,
   "metadata": {},
   "outputs": [
    {
     "name": "stdout",
     "output_type": "stream",
     "text": [
      "[[1, 22, 4, 5, 6, 7], [1, 2, 14, 5, 6, 7], [11, 2, 4, 5, 6, 7]]\n"
     ]
    }
   ],
   "source": [
    "import pickle\n",
    "my_list = [[1,22,4,5,6,7],[1,2,14,5,6,7],[11,2,4,5,6,7]]\n",
    "\n",
    "file = open(\"test.data\", \"wb\")\n",
    "pickle.dump(my_list,file)\n",
    "file.close()"
   ]
  },
  {
   "cell_type": "code",
   "execution_count": 65,
   "metadata": {},
   "outputs": [
    {
     "name": "stdout",
     "output_type": "stream",
     "text": [
      "[[1, 22, 4, 5, 6, 7], [1, 2, 14, 5, 6, 7], [11, 2, 4, 5, 6, 7]]\n"
     ]
    }
   ],
   "source": [
    "file = open(\"test.data\", \"rb\")\n",
    "new_list = pickle.load(file)\n",
    "file.close()\n",
    "print(new_list)"
   ]
  },
  {
   "cell_type": "code",
   "execution_count": null,
   "metadata": {},
   "outputs": [],
   "source": []
  }
 ],
 "metadata": {
  "kernelspec": {
   "display_name": "Python 3",
   "language": "python",
   "name": "python3"
  },
  "language_info": {
   "codemirror_mode": {
    "name": "ipython",
    "version": 3
   },
   "file_extension": ".py",
   "mimetype": "text/x-python",
   "name": "python",
   "nbconvert_exporter": "python",
   "pygments_lexer": "ipython3",
   "version": "3.5.3"
  }
 },
 "nbformat": 4,
 "nbformat_minor": 2
}
