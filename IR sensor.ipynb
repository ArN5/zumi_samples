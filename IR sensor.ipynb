{
 "cells": [
  {
   "cell_type": "code",
   "execution_count": null,
   "metadata": {},
   "outputs": [],
   "source": [
    "from zumi.zumi import Zumi\n",
    "import time\n",
    "from zumi.util.screen import Screen\n",
    "zumi = Zumi()"
   ]
  },
  {
   "cell_type": "code",
   "execution_count": null,
   "metadata": {},
   "outputs": [],
   "source": [
    "for i in range(0,100):\n",
    "    ir_readings = zumi.get_all_IR_data()\n",
    "    print(ir_readings)\n",
    "    # get_all_IR_data() returns a list of 6 elements\n",
    "    # this list contains the readings\n",
    "    # of the 6 IR sensors\n",
    "    # ir_readings[0] = front right\n",
    "    # ir_readings[1] = bottom right\n",
    "    # ir_readings[2] = back right\n",
    "    # ir_readings[3] = bottom left\n",
    "    # ir_readings[4] = back left\n",
    "    # ir_readings[5] = front left\n",
    "\n",
    "    # Make sure to pause\n",
    "    time.sleep(0.5)\n",
    "    #set the sleep to 0.5 seconds you can make faster readings\n",
    "    #0.05 seconds is shortest delay you can use for reading the IR\n",
    "    #this is because on the Zumi board the arduino \n",
    "    #updates the sensor every 0.05s"
   ]
  },
  {
   "cell_type": "code",
   "execution_count": null,
   "metadata": {},
   "outputs": [],
   "source": [
    "#you can also combine the buzzer and the IR sensor \n",
    "#to make music / proximity sensor\n",
    "#place you hand in front of zumi's right IR sensor\n",
    "for i in range(0,100):\n",
    "    # note can be a number between 0-60\n",
    "    ir_readings = zumi.get_all_IR_data()\n",
    "    zumi.play_note(int(ir_readings[0]/4),20)\n",
    "    # ir_readings[0] = front right\n",
    "    # Make sure to pause\n",
    "    time.sleep(0.05)"
   ]
  },
  {
   "cell_type": "code",
   "execution_count": null,
   "metadata": {},
   "outputs": [],
   "source": [
    "\n",
    "#you can also avoid crashing into walls\n",
    "\n",
    "#this is the angle zumi will try to drive to\n",
    "#it will constantly change depending on what zumi see's\n",
    "heading = 0\n",
    "\n",
    "time_start = time.time()\n",
    "time_elapsed = 0\n",
    "\n",
    "#the sensitivity of the ir sensors\n",
    "min_ir_threshold = 100\n",
    "\n",
    "#how much you want zumi to turn each \n",
    "#time it detects something\n",
    "turn_degrees = 10\n",
    "\n",
    "# repeat for 10 seconds\n",
    "while time_elapsed < 10:\n",
    "\n",
    "    time_elapsed = time.time()-time_start\n",
    "    ir_readings = zumi.get_all_IR_data()\n",
    "    front_right_ir = ir_readings[0]\n",
    "    front_left_ir = ir_readings[5]\n",
    "\n",
    "    if front_left_ir < min_ir_threshold and front_right_ir < min_ir_threshold:\n",
    "        print(\"something ahead\")\n",
    "        zumi.stop(0)\n",
    "        time.sleep(0.5)\n",
    "        zumi.reverse(40, 0.5, heading)\n",
    "        zumi.stop(0)\n",
    "        time.sleep(0.5)\n",
    "        for i in range (0,180):\n",
    "            zumi.go_straight(0, heading-i, 100)\n",
    "        heading = heading - 180\n",
    "    elif front_right_ir < min_ir_threshold:\n",
    "        print(\"something on right\")\n",
    "        heading = heading + turn_degrees\n",
    "\n",
    "    elif front_left_ir < min_ir_threshold:\n",
    "        print(\"something on left\")\n",
    "        heading = heading - turn_degrees\n",
    "\n",
    "    zumi.go_straight(30, heading, 60)\n",
    "    time.sleep(0.05)\n",
    "zumi.stop(0)\n"
   ]
  },
  {
   "cell_type": "code",
   "execution_count": null,
   "metadata": {},
   "outputs": [],
   "source": []
  }
 ],
 "metadata": {
  "kernelspec": {
   "display_name": "Python 3",
   "language": "python",
   "name": "python3"
  },
  "language_info": {
   "codemirror_mode": {
    "name": "ipython",
    "version": 3
   },
   "file_extension": ".py",
   "mimetype": "text/x-python",
   "name": "python",
   "nbconvert_exporter": "python",
   "pygments_lexer": "ipython3",
   "version": "3.5.3"
  }
 },
 "nbformat": 4,
 "nbformat_minor": 2
}
