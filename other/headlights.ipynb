{
 "cells": [
  {
   "cell_type": "code",
   "execution_count": null,
   "metadata": {},
   "outputs": [],
   "source": [
    "from zumi.zumi import Zumi\n",
    "from time import sleep\n",
    "from zumi.util.screen import Screen\n",
    "z = Zumi()"
   ]
  },
  {
   "cell_type": "code",
   "execution_count": null,
   "metadata": {},
   "outputs": [],
   "source": [
    "duration = 1\n",
    "print(\"all lights on\")\n",
    "z.all_lights_on()\n",
    "sleep(duration)\n",
    "\n",
    "print(\"all lights off\")\n",
    "z.all_lights_off()\n",
    "sleep(duration)\n",
    "\n",
    "print(\"headlights on\")\n",
    "z.headlights_on()\n",
    "sleep(duration)\n",
    "\n",
    "print(\"headlights off\")\n",
    "z.headlights_off()\n",
    "sleep(duration)\n",
    "\n",
    "print(\"brake lights on\")\n",
    "z.brake_lights_on()\n",
    "sleep(duration)\n",
    "\n",
    "print(\"brake lights off\")\n",
    "z.brake_lights_off()\n",
    "sleep(duration)\n",
    "\n",
    "print(\"hazards lights on\")\n",
    "z.hazard_lights_on()\n",
    "sleep(duration)\n",
    "\n",
    "print(\"hazard lights off\")\n",
    "z.hazard_lights_off()\n",
    "sleep(duration)\n",
    "\n",
    "print(\"signal left on\")\n",
    "z.signal_left_on()\n",
    "sleep(duration)\n",
    "\n",
    "print(\"signal left off\")\n",
    "z.signal_left_off()\n",
    "sleep(duration)\n",
    "\n",
    "print(\"signal right on\")\n",
    "z.signal_right_on()\n",
    "sleep(duration)\n",
    "\n",
    "print(\"signal right off\")\n",
    "z.signal_right_off()\n",
    "sleep(duration)\n",
    "\n",
    "print(\"brake lights on\")\n",
    "z.brake_lights_on()\n",
    "sleep(duration)\n",
    "\n",
    "print(\"brake lights off\")\n",
    "z.brake_lights_off()\n",
    "sleep(duration)\n",
    "\n",
    "z.all_lights_off()\n",
    "print(\"ending test\")"
   ]
  },
  {
   "cell_type": "code",
   "execution_count": null,
   "metadata": {},
   "outputs": [],
   "source": []
  }
 ],
 "metadata": {
  "kernelspec": {
   "display_name": "Python 3",
   "language": "python",
   "name": "python3"
  },
  "language_info": {
   "codemirror_mode": {
    "name": "ipython",
    "version": 3
   },
   "file_extension": ".py",
   "mimetype": "text/x-python",
   "name": "python",
   "nbconvert_exporter": "python",
   "pygments_lexer": "ipython3",
   "version": "3.5.3"
  }
 },
 "nbformat": 4,
 "nbformat_minor": 2
}
