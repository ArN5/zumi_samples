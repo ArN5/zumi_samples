{
 "cells": [
  {
   "cell_type": "code",
   "execution_count": null,
   "metadata": {},
   "outputs": [],
   "source": [
    "from zumi.zumi import Zumi\n",
    "from time import sleep\n",
    "from zumi.util.screen import Screen\n",
    "zumi = Zumi()\n",
    "\n",
    "for i in range(0,61):\n",
    "    # note can be a number between 0-60\n",
    "    # play_note(note,duration)\n",
    "    zumi.play_note(i,1)\n",
    "for k in range (0,4,1):\n",
    "    for i in range(0,61):\n",
    "        zumi.play_note(i,40-k*10)\n",
    "        \n",
    "#stop buzzing\n",
    "zumi.play_note(0,0)"
   ]
  }
 ],
 "metadata": {
  "kernelspec": {
   "display_name": "Python 3",
   "language": "python",
   "name": "python3"
  },
  "language_info": {
   "codemirror_mode": {
    "name": "ipython",
    "version": 3
   },
   "file_extension": ".py",
   "mimetype": "text/x-python",
   "name": "python",
   "nbconvert_exporter": "python",
   "pygments_lexer": "ipython3",
   "version": "3.5.3"
  }
 },
 "nbformat": 4,
 "nbformat_minor": 2
}
