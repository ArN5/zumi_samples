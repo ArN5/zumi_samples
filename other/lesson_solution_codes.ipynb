{
 "cells": [
  {
   "cell_type": "code",
   "execution_count": null,
   "metadata": {},
   "outputs": [],
   "source": [
    "from zumi.zumi import Zumi\n",
    "import time\n",
    "\n",
    "zumi = Zumi()"
   ]
  },
  {
   "cell_type": "markdown",
   "metadata": {},
   "source": [
    "# 1.2 Remote control"
   ]
  },
  {
   "cell_type": "code",
   "execution_count": null,
   "metadata": {},
   "outputs": [],
   "source": [
    "#1.2 Remote control\n",
    "while True:\n",
    "    direction = input(\"Please enter a command: \")\n",
    "    \n",
    "    if direction == \"w\":\n",
    "        print(\"Go forward\")\n",
    "        zumi.forward()\n",
    "    elif direction == \"s\":\n",
    "        print(\"Go backwards\")\n",
    "        zumi.reverse()\n",
    "    elif direction == \"a\":\n",
    "        print(\"turn left\")\n",
    "        zumi.turn_left()\n",
    "    elif direction == \"d\":\n",
    "        print(\"turn right\")\n",
    "        zumi.turn_right()\n",
    "    elif direction ==\"q\":\n",
    "        print(\"ending program\")\n",
    "        break\n"
   ]
  },
  {
   "cell_type": "markdown",
   "metadata": {},
   "source": [
    "# 1.4 Functions"
   ]
  },
  {
   "cell_type": "code",
   "execution_count": null,
   "metadata": {},
   "outputs": [],
   "source": [
    "#1.4 Functions\n",
    "\n",
    "def my_square(): # Function definition          -------------------------\n",
    "    zumi.forward() \n",
    "    zumi.turn_left()\n",
    "    zumi.forward()\n",
    "    zumi.turn_left()\n",
    "    zumi.forward()\n",
    "    zumi.turn_left()\n",
    "    zumi.forward()\n",
    "    zumi.turn_left()\n",
    "    \n",
    "my_square() # Call the function with the parameter to change the square size\n"
   ]
  },
  {
   "cell_type": "markdown",
   "metadata": {},
   "source": [
    "# 2.2 Gyroscope"
   ]
  },
  {
   "cell_type": "code",
   "execution_count": null,
   "metadata": {},
   "outputs": [],
   "source": [
    "\n",
    "#2.2 Gyroscope\n",
    "\n",
    "#make sure to reset the gyro\n",
    "zumi.reset_gyro() \n",
    "\n",
    "# Write Code here\n",
    "zumi.forward(20,0.6)\n",
    "zumi.turn(90)\n",
    "zumi.forward(20,0.6)\n",
    "zumi.turn(180)\n",
    "zumi.forward(20,0.6)\n",
    "zumi.turn(270)\n",
    "zumi.forward(20,0.6)\n",
    "zumi.turn(0)\n"
   ]
  },
  {
   "cell_type": "markdown",
   "metadata": {},
   "source": [
    "# 2.3 Shapes"
   ]
  },
  {
   "cell_type": "code",
   "execution_count": null,
   "metadata": {},
   "outputs": [],
   "source": [
    "\n",
    "#2.3 Shapes\n",
    "\n",
    "# Write a square code here.     -------------------------\n",
    "zumi.reset_gyro()\n",
    "zumi.forward(20,0.6)\n",
    "zumi.turn(90)\n",
    "zumi.forward(20,0.6)\n",
    "zumi.turn(180)\n",
    "zumi.forward(20,0.6)\n",
    "zumi.turn(270)\n",
    "zumi.forward(20,0.6)\n",
    "zumi.turn(0)\n"
   ]
  },
  {
   "cell_type": "code",
   "execution_count": null,
   "metadata": {},
   "outputs": [],
   "source": [
    "# Write your triangle code here! -------------------------\n",
    "zumi.reset_gyro()\n",
    "zumi.forward()\n",
    "zumi.turn(120)\n",
    "zumi.forward()\n",
    "zumi.turn(240)\n",
    "zumi.forward()\n",
    "zumi.turn(360)"
   ]
  },
  {
   "cell_type": "code",
   "execution_count": null,
   "metadata": {},
   "outputs": [],
   "source": [
    "#here is a different way of doing a triangle\n",
    "zumi.reset_gyro()\n",
    "angle  = 0 # this is the starting angle\n",
    "corners = 3 # number of corners on the shape triangle has 3\n",
    "corner_angle = 360/corners\n",
    "for i in range(corners):\n",
    "    zumi.forward()\n",
    "    angle = angle + corner_angle\n",
    "    #every loop the angle variable will increase\n",
    "    # i = 0 , angle = 0 + 120\n",
    "    # i = 1 , angle = 120 + 120\n",
    "    # i = 2 , angle = 240 + 120\n",
    "    zumi.turn(angle)"
   ]
  },
  {
   "cell_type": "code",
   "execution_count": null,
   "metadata": {},
   "outputs": [],
   "source": [
    "\n",
    "# Code a pentagon               -------------------------\n",
    "zumi.reset_gyro()\n",
    "angle  = 0\n",
    "corners = 5\n",
    "corner_angle = 360/corners\n",
    "for i in range(corners):\n",
    "    zumi.forward()\n",
    "    angle = angle + corner_angle\n",
    "    zumi.turn(angle)"
   ]
  },
  {
   "cell_type": "code",
   "execution_count": null,
   "metadata": {},
   "outputs": [],
   "source": [
    "# Code a hexagon                -------------------------\n",
    "zumi.reset_gyro()\n",
    "angle  = 0\n",
    "corners = 6\n",
    "corner_angle = 360/corners\n",
    "for i in range(corners):\n",
    "    zumi.forward()\n",
    "    angle = angle + corner_angle\n",
    "    zumi.turn(angle)"
   ]
  },
  {
   "cell_type": "code",
   "execution_count": null,
   "metadata": {},
   "outputs": [],
   "source": [
    "# Code an octagon               -------------------------\n",
    "zumi.reset_gyro()\n",
    "angle  = 0\n",
    "corners = 8\n",
    "corner_angle = 360/corners\n",
    "for i in range(corners):\n",
    "    zumi.forward()\n",
    "    angle = angle + corner_angle\n",
    "    zumi.turn(angle)"
   ]
  },
  {
   "cell_type": "markdown",
   "metadata": {},
   "source": [
    "# 2.4 Driving decisions"
   ]
  },
  {
   "cell_type": "code",
   "execution_count": null,
   "metadata": {},
   "outputs": [],
   "source": [
    "#2.4 Driving decisions          ------------------------ \n",
    "\n",
    "# TODO: Reset angles to zero\n",
    "zumi.reset_gyro()\n",
    "\n",
    "for x in range(0,100):\n",
    "    zumi.update_angles()\n",
    "    zumi.go_straight(30,0)\n",
    "    orientation = zumi.get_orientation() \n",
    "    print(orientation)\n",
    "    if orientation == \"5\":\n",
    "        zumi.stop()\n",
    "        break\n",
    "    # TODO Check if orientation is equal to 5 and go straight if true\n",
    "    # TODO Else, stop."
   ]
  },
  {
   "cell_type": "markdown",
   "metadata": {},
   "source": [
    "# 3.1 IR Sensors"
   ]
  },
  {
   "cell_type": "code",
   "execution_count": null,
   "metadata": {},
   "outputs": [],
   "source": [
    "#3.1 Ir sensors\n",
    "\n",
    "# 225 is the max for the right ir sensor of this Zumi\n",
    "# 12 is the min for the right ir sensor of this Zumi\n",
    "# so pick a threshold between those 2 values \n",
    "# 140 seems to work for most Zumis\n",
    "threshold = 140\n",
    "\n",
    "for i in range(0,50):\n",
    "    ir_readings = zumi.get_all_IR_data()\n",
    "    front_right_ir = ir_readings[0]\n",
    "    if front_right_ir < threshold:\n",
    "        print(\"front right detected something\")\n",
    "    time.sleep(0.1)\n",
    "print(\"done\")"
   ]
  },
  {
   "cell_type": "markdown",
   "metadata": {},
   "source": [
    "# 3.2 Obstacle Avoidance"
   ]
  },
  {
   "cell_type": "code",
   "execution_count": null,
   "metadata": {},
   "outputs": [],
   "source": [
    "\n",
    "#3.2 Obstacle avoidance\n",
    "\n",
    "# stop for pedestrians                                         ----------------------\n",
    "# this code will stop if something \n",
    "# is detected by the front right IR sensor\n",
    "zumi.reset_gyro()\n",
    "\n",
    "threshold = 140\n",
    "for i in range(0,100):\n",
    "    zumi.go_straight(30,0)\n",
    "    ir_readings = zumi.get_all_IR_data()\n",
    "    front_right_ir = ir_readings[0]\n",
    "    front_left_ir = ir_readings[5]\n",
    "    if front_right_ir < threshold:\n",
    "        print(\"detected something\")\n",
    "        zumi.stop()\n",
    "        break\n",
    "\n",
    "zumi.stop() # Don't forget to stop at the end!\n",
    "print(\"Done!\")\n"
   ]
  },
  {
   "cell_type": "code",
   "execution_count": null,
   "metadata": {},
   "outputs": [],
   "source": [
    "# this is works like the program above but uses both IR sensors ----------------------\n",
    "zumi.reset_gyro()\n",
    "\n",
    "threshold = 140\n",
    "for i in range(0,100):\n",
    "    zumi.go_straight(30,0)\n",
    "    ir_readings = zumi.get_all_IR_data()\n",
    "    front_right_ir = ir_readings[0]\n",
    "    front_left_ir = ir_readings[5]\n",
    "    if front_right_ir <threshold or front_left_ir <threshold :\n",
    "        print(\"detected something ahead\")\n",
    "        zumi.stop()\n",
    "        break\n",
    "\n",
    "zumi.stop() # Don't forget to stop at the end!\n",
    "print(\"Done!\")\n"
   ]
  },
  {
   "cell_type": "code",
   "execution_count": null,
   "metadata": {},
   "outputs": [],
   "source": [
    "#this does it for both back sensors                         ---------------\n",
    "zumi.reset_gyro()\n",
    "\n",
    "threshold = 140\n",
    "for i in range(0,100):\n",
    "    zumi.go_reverse(30,0)\n",
    "    ir_readings = zumi.get_all_IR_data()\n",
    "    back_right_ir = ir_readings[2]\n",
    "    back_left_ir = ir_readings[4]\n",
    "    if back_right_ir <threshold or back_left_ir <threshold :\n",
    "        print(\"detected something behind\")\n",
    "        zumi.stop()\n",
    "        break\n",
    "\n",
    "zumi.stop() # Don't forget to stop at the end!\n",
    "print(\"Done!\")"
   ]
  }
 ],
 "metadata": {
  "kernelspec": {
   "display_name": "Python 3",
   "language": "python",
   "name": "python3"
  },
  "language_info": {
   "codemirror_mode": {
    "name": "ipython",
    "version": 3
   },
   "file_extension": ".py",
   "mimetype": "text/x-python",
   "name": "python",
   "nbconvert_exporter": "python",
   "pygments_lexer": "ipython3",
   "version": "3.5.3"
  }
 },
 "nbformat": 4,
 "nbformat_minor": 2
}
