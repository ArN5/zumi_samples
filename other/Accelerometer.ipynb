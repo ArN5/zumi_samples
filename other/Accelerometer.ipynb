{
 "cells": [
  {
   "cell_type": "code",
   "execution_count": null,
   "metadata": {},
   "outputs": [],
   "source": [
    "from zumi.zumi import Zumi\n",
    "from time import sleep\n",
    "from zumi.util.screen import Screen\n",
    "zumi = Zumi()"
   ]
  },
  {
   "cell_type": "code",
   "execution_count": null,
   "metadata": {},
   "outputs": [],
   "source": [
    "for i in range (0,20):\n",
    "\n",
    "    mpu_list = zumi.mpu.read_all_MPU_data()\n",
    "    #convert into m/s**2\n",
    "    #sensor may be a little bit off of 9.8m/s^2\n",
    "    x_acc = mpu_list[0]*9.8\n",
    "    y_acc = mpu_list[1]*9.8\n",
    "    z_acc = mpu_list[2]*9.8\n",
    "    print(x_acc,y_acc,z_acc,sep=\" , \")\n",
    "    sleep(0.5)\n",
    "    #remember gravity will always be accelerating Zumi\n",
    "    #so if you see the Z axis with 9.8 then that acc\n",
    "    #is gravity right below zumi's z axis"
   ]
  },
  {
   "cell_type": "code",
   "execution_count": null,
   "metadata": {},
   "outputs": [],
   "source": [
    "#you can also determine what orientation of zumi\n",
    "#take a couple of samples\n",
    "for i in range (0,20):\n",
    "\n",
    "    #update the acc values by reading them\n",
    "    mpu_list = zumi.mpu.read_all_MPU_data()\n",
    "    \n",
    "    # tilt[0] is the orientation state\n",
    "    tilt = zumi.get_tilt(mpu_list[0], mpu_list[1], mpu_list[2])\n",
    "    print(tilt[0])\n",
    "    sleep(0.1)\n",
    "    #if you treat zumi like a cube she will have 6 faces or states\n",
    "    #5 happens to be the one that occurs when zumi is flat on a table\n",
    "    #or gravity is pulling right below"
   ]
  },
  {
   "cell_type": "code",
   "execution_count": null,
   "metadata": {},
   "outputs": [],
   "source": [
    "#this will be the threshold which zumi will detect a tap\n",
    "#using the accelerometer\n",
    "tap_threshold = 0.2\n",
    "\n",
    "#take a couple of samples\n",
    "for i in range (0,2000):\n",
    "    #read the whole mpu list\n",
    "    mpu_list = zumi.mpu.read_all_MPU_data()\n",
    "    \n",
    "    x_acc = mpu_list[0]\n",
    "\n",
    "    # tilt[0] is the orientation state\n",
    "    tilt = zumi.get_tilt(mpu_list[0], mpu_list[1], mpu_list[2])\n",
    "    if(tilt[0]== 5):\n",
    "        if(abs(x_acc) > tap_threshold):\n",
    "            print(\"tapped \", tilt[0], \",\", x_acc)\n",
    "            #zumi will buzz when tapped\n",
    "            zumi.play_note(60,30)"
   ]
  },
  {
   "cell_type": "code",
   "execution_count": null,
   "metadata": {},
   "outputs": [],
   "source": []
  }
 ],
 "metadata": {
  "kernelspec": {
   "display_name": "Python 3",
   "language": "python",
   "name": "python3"
  },
  "language_info": {
   "codemirror_mode": {
    "name": "ipython",
    "version": 3
   },
   "file_extension": ".py",
   "mimetype": "text/x-python",
   "name": "python",
   "nbconvert_exporter": "python",
   "pygments_lexer": "ipython3",
   "version": "3.5.3"
  }
 },
 "nbformat": 4,
 "nbformat_minor": 2
}
