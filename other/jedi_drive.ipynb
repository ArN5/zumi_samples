{
 "cells": [
  {
   "cell_type": "code",
   "execution_count": null,
   "metadata": {},
   "outputs": [],
   "source": [
    "from zumi.zumi import Zumi\n",
    "import time\n",
    "\n",
    "zumi = Zumi()\n",
    "th1 = 100\n",
    "th2 = 100\n",
    "\n",
    "for i in range(0,100):\n",
    "    ir_readings = zumi.get_all_IR_data()\n",
    "    front_right_ir = ir_readings[0]\n",
    "    front_left_ir = ir_readings[5]\n",
    "    \n",
    "    \n",
    "    if front_right_ir<180 or front_left_ir<180:\n",
    "        zumi.reverse_step(20,0)\n",
    "        print(\"backing up \")\n",
    "    if front_right_ir<130 or front_left_ir<130:\n",
    "        zumi.stop()\n",
    "        print(\"something ahead\")\n",
    "        while(front_right_ir<130 or front_left_ir<130):\n",
    "            ir_readings = zumi.get_all_IR_data()\n",
    "            front_right_ir = ir_readings[0]\n",
    "            front_left_ir = ir_readings[5]\n",
    "            zumi.stop()   \n",
    "    else:\n",
    "        zumi.forward_step(20,0)\n",
    "print(\"stopping\")\n",
    "zumi.stop()"
   ]
  },
  {
   "cell_type": "code",
   "execution_count": null,
   "metadata": {},
   "outputs": [],
   "source": [
    "zumi.stop()"
   ]
  },
  {
   "cell_type": "code",
   "execution_count": null,
   "metadata": {},
   "outputs": [],
   "source": []
  }
 ],
 "metadata": {
  "kernelspec": {
   "display_name": "Python 3",
   "language": "python",
   "name": "python3"
  },
  "language_info": {
   "codemirror_mode": {
    "name": "ipython",
    "version": 3
   },
   "file_extension": ".py",
   "mimetype": "text/x-python",
   "name": "python",
   "nbconvert_exporter": "python",
   "pygments_lexer": "ipython3",
   "version": "3.5.3"
  }
 },
 "nbformat": 4,
 "nbformat_minor": 2
}
