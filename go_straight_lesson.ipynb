{
 "cells": [
  {
   "cell_type": "code",
   "execution_count": 16,
   "metadata": {},
   "outputs": [
    {
     "name": "stdout",
     "output_type": "stream",
     "text": [
      " Starting Zumi \n",
      "Pi Zero I2C is available\n",
      "Gyro offset file already exists.\n",
      "Verified Pi Zero is the same\n",
      "Gyroscope previously calibrated\n",
      "Zumi board detected\n",
      "Compass detected\n",
      "OLED Screen detected\n",
      "Gyroscope & Accelerometer detected\n"
     ]
    }
   ],
   "source": [
    "from zumi.zumi import Zumi\n",
    "import time\n",
    "\n",
    "zumi = Zumi()\n",
    "\n",
    "#this is how you can use go straight\n",
    "heading = 0\n",
    "for i in range(40):\n",
    "    #go_straight must be used in a loop!!!\n",
    "    #first parameter is the motor speed\n",
    "    #second is the heading or angle you want to go at\n",
    "    #there is a third parameter which is the speed the motors \n",
    "    #can reach in order to compensate for something pushing it out of the way\n",
    "    zumi.go_straight(20, heading)\n",
    "\n",
    "#YOU MUST USE A STOP with go_straight\n",
    "#in order for the motors to stop moving!\n",
    "zumi.stop()"
   ]
  },
  {
   "cell_type": "code",
   "execution_count": 57,
   "metadata": {},
   "outputs": [],
   "source": [
    "zumi.reset_gyro()\n",
    "#this is an example of what NOT TO DO!\n",
    "zumi.go_straight(20, heading)\n",
    "time.sleep(2)\n",
    "#im putting a stop to avoid you chasing you Zumi\n",
    "zumi.stop()\n",
    "\n",
    "#you should see Zumi NOT driving in a straight line\n",
    "#think of each go_straight() as a \"step in the right direction\"\n",
    "#to go straight you need to take multiple steps in the \"right direction\""
   ]
  },
  {
   "cell_type": "code",
   "execution_count": 58,
   "metadata": {},
   "outputs": [
    {
     "name": "stdout",
     "output_type": "stream",
     "text": [
      "LEFT  238  ,RIGHT  241\n",
      "LEFT  235  ,RIGHT  232\n",
      "LEFT  238  ,RIGHT  232\n",
      "LEFT  235  ,RIGHT  233\n",
      "LEFT  235  ,RIGHT  232\n",
      "LEFT  235  ,RIGHT  232\n",
      "LEFT  235  ,RIGHT  233\n",
      "LEFT  236  ,RIGHT  233\n",
      "LEFT  235  ,RIGHT  233\n",
      "LEFT  235  ,RIGHT  238\n",
      "LEFT  235  ,RIGHT  233\n",
      "LEFT  236  ,RIGHT  232\n",
      "LEFT  237  ,RIGHT  231\n",
      "LEFT  236  ,RIGHT  234\n",
      "LEFT  235  ,RIGHT  235\n",
      "LEFT  236  ,RIGHT  232\n",
      "LEFT  236  ,RIGHT  233\n",
      "LEFT  235  ,RIGHT  232\n",
      "LEFT  235  ,RIGHT  235\n",
      "LEFT  237  ,RIGHT  232\n",
      "LEFT  237  ,RIGHT  232\n",
      "LEFT  235  ,RIGHT  232\n",
      "LEFT  235  ,RIGHT  233\n",
      "LEFT  236  ,RIGHT  232\n",
      "LEFT  235  ,RIGHT  231\n",
      "LEFT  235  ,RIGHT  233\n",
      "LEFT  234  ,RIGHT  233\n",
      "LEFT  235  ,RIGHT  232\n",
      "LEFT  236  ,RIGHT  233\n",
      "LEFT  237  ,RIGHT  234\n",
      "LEFT  239  ,RIGHT  232\n",
      "LEFT  234  ,RIGHT  231\n",
      "LEFT  230  ,RIGHT  236\n",
      "LEFT  226  ,RIGHT  229\n",
      "LEFT  222  ,RIGHT  233\n",
      "LEFT  228  ,RIGHT  222\n",
      "LEFT  228  ,RIGHT  225\n",
      "LEFT  226  ,RIGHT  224\n",
      "LEFT  218  ,RIGHT  222\n",
      "LEFT  212  ,RIGHT  223\n"
     ]
    }
   ],
   "source": [
    "#using go straight you can make a step \n",
    "#in driving straight and also read some sensors\n",
    "\n",
    "heading = 0\n",
    "\n",
    "for i in range(40):\n",
    "    zumi.go_straight(20, heading)\n",
    "    ir_readings = zumi.get_all_IR_data()\n",
    "    front_right_ir = ir_readings[0]\n",
    "    front_left_ir = ir_readings[5]\n",
    "    print(\"LEFT \",front_left_ir, \" ,RIGHT \", front_right_ir)\n",
    "\n",
    "zumi.stop()"
   ]
  },
  {
   "cell_type": "code",
   "execution_count": 27,
   "metadata": {},
   "outputs": [],
   "source": [
    "def smooth_turn_left(angle_des,speed = 20,step=2):\n",
    "    init_ang_z = zumi.read_z_angle()\n",
    "    for i in range(0, angle_des, step):\n",
    "        zumi.go_straight(speed, init_ang_z+i)\n",
    "    zumi.stop()\n",
    " \n",
    "def smooth_turn_right(angle_des,speed = 20,step=2):\n",
    "    init_ang_z = zumi.read_z_angle()\n",
    "    for i in range(0, angle_des, step):\n",
    "        zumi.go_straight(speed, init_ang_z-i)\n",
    "    zumi.stop()\n",
    " \n",
    "smooth_turn_right(90,20)\n",
    "smooth_turn_left(90,20)"
   ]
  },
  {
   "cell_type": "code",
   "execution_count": 37,
   "metadata": {},
   "outputs": [],
   "source": [
    "init_ang_z = zumi.read_z_angle()\n",
    "\n",
    "for i in range(40):\n",
    "    zumi.go_straight(i, init_ang_z)\n",
    "\n",
    "for i in range(40):\n",
    "    zumi.go_straight(40-i, init_ang_z)\n",
    "    \n",
    "zumi.stop()   "
   ]
  },
  {
   "cell_type": "code",
   "execution_count": 52,
   "metadata": {},
   "outputs": [],
   "source": [
    "def smooth_forward(duration,rate = 1):\n",
    "    init_ang_z = zumi.read_z_angle()\n",
    "    time_start = time.time()\n",
    "    time_passed = 0\n",
    "    speed = 0\n",
    "    \n",
    "    while(duration/2 > time_passed):\n",
    "        time_passed = time.time()-time_start\n",
    "        zumi.go_straight(speed, init_ang_z)\n",
    "        if(speed<126):\n",
    "            speed = speed + rate\n",
    "        else:\n",
    "            speed = 126\n",
    "\n",
    "    while(duration > time_passed):\n",
    "        time_passed = time.time()-time_start\n",
    "        zumi.go_straight(speed, init_ang_z)\n",
    "        if(speed>-126):\n",
    "            speed = speed - rate\n",
    "        else:\n",
    "            speed = -126\n",
    "    zumi.stop()\n",
    "        \n",
    "smooth_forward(1.5,3)        "
   ]
  },
  {
   "cell_type": "code",
   "execution_count": 48,
   "metadata": {},
   "outputs": [],
   "source": [
    "#there is also go_reverse which works exactly\n",
    "#as go_straight but main diff is that its reverse\n",
    "heading = 0\n",
    "for i in range(40):\n",
    "    #go_straight must be used in a loop!!!\n",
    "    #first parameter is the motor speed\n",
    "    #second is the heading or angle you want to go at\n",
    "    #there is a third parameter which is the speed the motors \n",
    "    #can reach in order to compensate for something pushing it out of the way\n",
    "    zumi.go_reverse(20, heading)\n",
    "zumi.stop()"
   ]
  },
  {
   "cell_type": "code",
   "execution_count": 51,
   "metadata": {},
   "outputs": [],
   "source": [
    "def smooth_reverse(duration,rate=1):\n",
    "    init_ang_z = zumi.read_z_angle()\n",
    "    time_start = time.time()\n",
    "    time_passed = 0\n",
    "    speed = 0\n",
    "    \n",
    "    while(duration/2 > time_passed):\n",
    "        time_passed = time.time()-time_start\n",
    "        zumi.go_reverse(speed, init_ang_z)\n",
    "        if(speed<126):\n",
    "            speed = speed + rate\n",
    "        else:\n",
    "            speed = 126\n",
    "\n",
    "    while(duration > time_passed):\n",
    "        time_passed = time.time()-time_start\n",
    "        zumi.go_reverse(speed, init_ang_z)\n",
    "        if(speed>-126):\n",
    "            speed = speed - rate\n",
    "        else:\n",
    "            speed = -126\n",
    "    zumi.stop()\n",
    "        \n",
    "smooth_reverse(1.5,3)   "
   ]
  },
  {
   "cell_type": "code",
   "execution_count": null,
   "metadata": {},
   "outputs": [],
   "source": []
  }
 ],
 "metadata": {
  "kernelspec": {
   "display_name": "Python 3",
   "language": "python",
   "name": "python3"
  },
  "language_info": {
   "codemirror_mode": {
    "name": "ipython",
    "version": 3
   },
   "file_extension": ".py",
   "mimetype": "text/x-python",
   "name": "python",
   "nbconvert_exporter": "python",
   "pygments_lexer": "ipython3",
   "version": "3.5.3"
  }
 },
 "nbformat": 4,
 "nbformat_minor": 2
}
