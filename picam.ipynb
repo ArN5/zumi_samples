{
 "cells": [
  {
   "cell_type": "code",
   "execution_count": 12,
   "metadata": {},
   "outputs": [],
   "source": [
    "import picamera\n",
    "from time import sleep\n",
    "\n",
    "camera = picamera.PiCamera()\n",
    "#camera.capture('image.jpg')\n",
    "\n",
    "# camera.start_preview()\n",
    "# camera.vflip = True\n",
    "# camera.hflip = True\n",
    "# camera.brightness = 60\n",
    "# camera.stop_preview()\n",
    "\n",
    "\n",
    "\"\"\"\n",
    "        * ``'h264'`` - Write an H.264 video stream\n",
    "        * ``'mjpeg'`` - Write an M-JPEG video stream\n",
    "        * ``'yuv'`` - Write the raw video data to a file in YUV420 format\n",
    "        * ``'rgb'`` - Write the raw video data to a file in 24-bit RGB format\n",
    "        * ``'rgba'`` - Write the raw video data to a file in 32-bit RGBA format\n",
    "        * ``'bgr'`` - Write the raw video data to a file in 24-bit BGR format\n",
    "        * ``'bgra'`` - Write the raw video data to a file in 32-bit BGRA format\n",
    "\"\"\"\n",
    "camera.start_recording('video.mjpeg')\n",
    "sleep(5)\n",
    "camera.stop_recording()\n",
    "camera.close()"
   ]
  },
  {
   "cell_type": "code",
   "execution_count": 13,
   "metadata": {},
   "outputs": [
    {
     "data": {
      "text/html": [
       "<video src=\"video.mjpeg\" controls>\n",
       "      Your browser does not support the <code>video</code> element.\n",
       "    </video>"
      ],
      "text/plain": [
       "<IPython.core.display.Video object>"
      ]
     },
     "execution_count": 13,
     "metadata": {},
     "output_type": "execute_result"
    }
   ],
   "source": [
    "import IPython.display\n",
    "\n",
    "IPython.display.Video(\"video.mjpeg\")"
   ]
  },
  {
   "cell_type": "code",
   "execution_count": null,
   "metadata": {},
   "outputs": [],
   "source": [
    "camera.stop_recording()"
   ]
  },
  {
   "cell_type": "code",
   "execution_count": 11,
   "metadata": {},
   "outputs": [],
   "source": [
    "import IPython.display\n",
    "import picamera\n",
    "from time import sleep\n",
    "\n",
    "camera = picamera.PiCamera()\n",
    "\n",
    "#for i in range(2):\n",
    "name = \"image\"+str(1)\n",
    "name = name + \".jpg\"\n",
    "camera.capture(name)\n",
    "sleep(1)\n",
    "IPython.display.Image(name)\n",
    "sleep(1)\n",
    "    #IPython.display.clear_output(wait=True)\n",
    "\n",
    "camera.close()"
   ]
  },
  {
   "cell_type": "code",
   "execution_count": 9,
   "metadata": {},
   "outputs": [],
   "source": [
    "camera.close()"
   ]
  },
  {
   "cell_type": "code",
   "execution_count": null,
   "metadata": {},
   "outputs": [],
   "source": []
  }
 ],
 "metadata": {
  "kernelspec": {
   "display_name": "Python 3",
   "language": "python",
   "name": "python3"
  },
  "language_info": {
   "codemirror_mode": {
    "name": "ipython",
    "version": 3
   },
   "file_extension": ".py",
   "mimetype": "text/x-python",
   "name": "python",
   "nbconvert_exporter": "python",
   "pygments_lexer": "ipython3",
   "version": "3.5.3"
  }
 },
 "nbformat": 4,
 "nbformat_minor": 2
}
