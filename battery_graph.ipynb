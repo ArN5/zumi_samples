{
 "cells": [
  {
   "cell_type": "code",
   "execution_count": 4,
   "metadata": {},
   "outputs": [
    {
     "name": "stdout",
     "output_type": "stream",
     "text": [
      " Starting Zumi \n",
      "Pi Zero I2C is available\n",
      "Verified Pi Zero is the same\n",
      "Gyroscope previously calibrated\n",
      "Zumi board detected\n",
      "Compass detected\n",
      "OLED Screen detected\n",
      "Gyroscope & Accelerometer detected\n",
      "Creating new offset file...\n",
      ".\n",
      ".\n",
      "done\n",
      "samples per second\n",
      "86.65624528020516\n"
     ]
    }
   ],
   "source": [
    "from zumi.zumi import Zumi\n",
    "from zumi.util.screen import Screen\n",
    "import matplotlib\n",
    "import matplotlib.pyplot as plt\n",
    "import numpy as np\n",
    "import time\n",
    "\n",
    "time_out = 10\n",
    "#60 seconds\n",
    "\n",
    "zumi = Zumi()\n",
    "zumi.reset_gyro()\n",
    "zumi.mpu.calibrate_MPU()\n",
    "\n",
    "zumi.MIN_I2C_DELAY = 0.01\n",
    "#create list for the readings to be graphed\n",
    "time_list = []\n",
    "batt_list = []\n",
    "vcc_list = []\n",
    "\n",
    "time_passed = 0\n",
    "init_time = time.time()\n",
    "\n",
    "while(time_passed <= time_out):\n",
    "    data = zumi.get_all_arduino_data()\n",
    "    \n",
    "\n",
    "    #these only work on the firmware version 1.2\n",
    "    batt= data[6]/58+1\n",
    "    #if the version is 1.0 use\n",
    "    #batt = data[6]/15\n",
    "    \n",
    "    vcc = data[7]/48+3\n",
    "    \n",
    "    time_passed = time.time()-init_time\n",
    "    #print(batt)\n",
    "    \n",
    "    #add data to lists\n",
    "    time_list.append(time_passed)\n",
    "    batt_list.append(batt)\n",
    "    vcc_list.append(vcc)\n",
    "\n",
    "print(\"done\")\n",
    "print(\"samples per second\")\n",
    "print(len(time_list)/time_passed)"
   ]
  },
  {
   "cell_type": "code",
   "execution_count": 5,
   "metadata": {},
   "outputs": [
    {
     "data": {
      "image/png": "[encoded data removed]",
      "text/plain": [
       "<Figure size 432x288 with 1 Axes>"
      ]
     },
     "metadata": {
      "needs_background": "light"
     },
     "output_type": "display_data"
    }
   ],
   "source": [
    "plt.plot(time_list,batt_list,'go',time_list,vcc_list,'ro')\n",
    "plt.ylabel('batt')\n",
    "plt.xlabel('time')\n",
    "plt.show()"
   ]
  },
  {
   "cell_type": "code",
   "execution_count": null,
   "metadata": {},
   "outputs": [],
   "source": []
  }
 ],
 "metadata": {
  "kernelspec": {
   "display_name": "Python 3",
   "language": "python",
   "name": "python3"
  },
  "language_info": {
   "codemirror_mode": {
    "name": "ipython",
    "version": 3
   },
   "file_extension": ".py",
   "mimetype": "text/x-python",
   "name": "python",
   "nbconvert_exporter": "python",
   "pygments_lexer": "ipython3",
   "version": "3.5.3"
  }
 },
 "nbformat": 4,
 "nbformat_minor": 2
}
