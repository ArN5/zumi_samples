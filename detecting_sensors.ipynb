{
 "cells": [
  {
   "cell_type": "code",
   "execution_count": 13,
   "metadata": {},
   "outputs": [
    {
     "name": "stdout",
     "output_type": "stream",
     "text": [
      " Arduino detected\n",
      " Compass detected\n",
      " OLED Screen detected\n",
      " Gyroscope & Accelerometer detected\n"
     ]
    }
   ],
   "source": [
    "import smbus2\n",
    "\n",
    "#use this to read all the I2C \n",
    "#devices of the sensors connected\n",
    "\n",
    "bus = smbus2.SMBus(1) # 1 indicates /dev/i2c-1\n",
    "\n",
    "for device in range(128):\n",
    "    try:\n",
    "        bus.read_byte(device)\n",
    "        #print(hex(device))\n",
    "        if(device == 0x3c):\n",
    "            print(\" OLED Screen detected\")\n",
    "        if(device == 0x68):\n",
    "            print(\" Gyroscope & Accelerometer detected\")\n",
    "        if(device == 0xd):\n",
    "            print(\" Compass detected\")\n",
    "        if(device == 0x4):\n",
    "            print(\" Arduino detected\")\n",
    "    except: # exception if read_byte fails\n",
    "        pass\n"
   ]
  },
  {
   "cell_type": "code",
   "execution_count": 14,
   "metadata": {},
   "outputs": [
    {
     "name": "stdout",
     "output_type": "stream",
     "text": [
      "\n",
      "\"raspistill\" Camera App (commit 7cbfbd38d982 Tainted)\n",
      "\n",
      "Camera Name imx219\n",
      "Width 3280, Height 2464, filename cam.jpg\n",
      "Using camera 0, sensor mode 0\n",
      "\n",
      "GPS output Disabled\n",
      "\n",
      "Quality 85, Raw no\n",
      "Thumbnail enabled Yes, width 64, height 48, quality 35\n",
      "Time delay 5000, Timelapse 0\n",
      "Link to latest frame enabled  no\n",
      "Full resolution preview No\n",
      "Capture method : Single capture\n",
      "\n",
      "Preview Yes, Full screen Yes\n",
      "Preview window 0,0,1024,768\n",
      "Opacity 255\n",
      "Sharpness 0, Contrast 0, Brightness 50\n",
      "Saturation 0, ISO 0, Video Stabilisation No, Exposure compensation 0\n",
      "Exposure Mode 'auto', AWB Mode 'auto', Image Effect 'none'\n",
      "Flicker Avoid Mode 'off'\n",
      "Metering Mode 'average', Colour Effect Enabled No with U = 128, V = 128\n",
      "Rotation 0, hflip No, vflip No\n",
      "ROI x 0.000000, y 0.000000, w 1.000000 h 1.000000\n",
      "Camera component done\n",
      "Encoder component done\n",
      "Starting component connection stage\n",
      "Connecting camera preview port to video render.\n",
      "Connecting camera stills port to encoder input port\n",
      "Opening output file cam.jpg\n",
      "Enabling encoder output port\n",
      "Starting capture -1\n",
      "Finished capture -1\n",
      "Closing down\n",
      "Close down completed, all components disconnected, disabled and destroyed\n",
      "\n"
     ]
    }
   ],
   "source": [
    "#to detect the camera run this\n",
    "def check_cam():\n",
    "    !raspistill -v -o cam.jpg\n",
    "    \n",
    "check_cam()"
   ]
  },
  {
   "cell_type": "code",
   "execution_count": null,
   "metadata": {},
   "outputs": [],
   "source": []
  }
 ],
 "metadata": {
  "kernelspec": {
   "display_name": "Python 3",
   "language": "python",
   "name": "python3"
  },
  "language_info": {
   "codemirror_mode": {
    "name": "ipython",
    "version": 3
   },
   "file_extension": ".py",
   "mimetype": "text/x-python",
   "name": "python",
   "nbconvert_exporter": "python",
   "pygments_lexer": "ipython3",
   "version": "3.5.3"
  }
 },
 "nbformat": 4,
 "nbformat_minor": 2
}
