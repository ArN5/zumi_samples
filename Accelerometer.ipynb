{
 "cells": [
  {
   "cell_type": "code",
   "execution_count": null,
   "metadata": {},
   "outputs": [
    {
     "name": "stdout",
     "output_type": "stream",
     "text": [
      " Starting Zumi \n",
      "Pi Zero I2C is available\n",
      "Verified Pi Zero is the same\n",
      "Gyroscope previously calibrated\n",
      "Zumi board detected\n",
      "Compass detected\n",
      "OLED Screen detected\n",
      "Gyroscope & Accelerometer detected\n"
     ]
    }
   ],
   "source": [
    "from zumi.zumi import Zumi\n",
    "from time import sleep\n",
    "from zumi.util.screen import Screen\n",
    "zumi = Zumi()"
   ]
  },
  {
   "cell_type": "code",
   "execution_count": 2,
   "metadata": {},
   "outputs": [
    {
     "name": "stdout",
     "output_type": "stream",
     "text": [
      "0.370849609375 , 0.14594726562500002 , 9.9435546875\n",
      "0.18183593750000002 , 0.10048828125 , 9.754541015625001\n",
      "0.25600585937500003 , 0.02392578125 , 9.7330078125\n",
      "0.28232421875 , -0.00478515625 , 9.654052734375\n",
      "0.172265625 , 0.06220703125 , 9.77607421875\n",
      "0.27753906250000004 , 0.13398437500000002 , 9.749755859375\n",
      "0.260791015625 , -0.026318359375000003 , 9.72822265625\n",
      "0.29189453125000003 , 0.05981445312500001 , 9.670800781250001\n",
      "0.284716796875 , 0.0071777343750000005 , 9.721044921875\n",
      "0.440234375 , 0.057421875000000004 , 9.754541015625001\n",
      "0.23447265625000002 , 0.002392578125 , 9.795214843750001\n",
      "0.22250976562500002 , 0.045458984375000004 , 9.907666015625\n",
      "0.25600585937500003 , 0.028710937500000002 , 9.749755859375\n",
      "0.29189453125000003 , -0.03828125 , 9.845458984375\n",
      "0.32060546875 , 0.045458984375000004 , 9.759326171875001\n",
      "0.184228515625 , 0.055029296875 , 9.78564453125\n",
      "0.270361328125 , 0.064599609375 , 9.771289062500001\n",
      "0.21533203125000003 , -0.011962890625 , 9.764111328125\n",
      "0.28950195312500004 , -0.028710937500000002 , 9.706689453125001\n",
      "0.275146484375 , 0.08134765625000001 , 9.910058593750001\n"
     ]
    }
   ],
   "source": [
    "for i in range (0,20):\n",
    "\n",
    "    mpu_list = zumi.mpu.read_all_MPU_data()\n",
    "    #convert into m/s**2\n",
    "    #sensor may be a little bit off of 9.8m/s^2\n",
    "    x_acc = mpu_list[0]*9.8\n",
    "    y_acc = mpu_list[1]*9.8\n",
    "    z_acc = mpu_list[2]*9.8\n",
    "    print(x_acc,y_acc,z_acc,sep=\" , \")\n",
    "    sleep(0.5)\n",
    "    #remember gravity will always be accelerating Zumi\n",
    "    #so if you see the Z axis with 9.8 then that acc\n",
    "    #is gravity right below zumi's z axis"
   ]
  },
  {
   "cell_type": "code",
   "execution_count": 4,
   "metadata": {},
   "outputs": [
    {
     "name": "stdout",
     "output_type": "stream",
     "text": [
      "5\n",
      "5\n",
      "5\n",
      "5\n",
      "5\n",
      "5\n",
      "5\n",
      "5\n",
      "5\n",
      "5\n",
      "5\n",
      "5\n",
      "5\n",
      "5\n",
      "5\n",
      "5\n",
      "5\n",
      "5\n",
      "5\n",
      "5\n"
     ]
    }
   ],
   "source": [
    "#you can also determine what orientation of zumi\n",
    "#take a couple of samples\n",
    "for i in range (0,20):\n",
    "\n",
    "    #update the acc values by reading them\n",
    "    mpu_list = zumi.mpu.read_all_MPU_data()\n",
    "    \n",
    "    # tilt[0] is the orientation state\n",
    "    tilt = zumi.get_tilt(mpu_list[0], mpu_list[1], mpu_list[2])\n",
    "    print(tilt[0])\n",
    "    sleep(0.1)\n",
    "    #if you treat zumi like a cube she will have 6 faces or states\n",
    "    #5 happens to be the one that occurs when zumi is flat on a table\n",
    "    #or gravity is pulling right below"
   ]
  },
  {
   "cell_type": "code",
   "execution_count": 5,
   "metadata": {},
   "outputs": [
    {
     "name": "stdout",
     "output_type": "stream",
     "text": [
      "tapped  5 , 0.219970703125\n",
      "tapped  5 , -0.256103515625\n",
      "tapped  5 , -0.271484375\n",
      "tapped  5 , -0.3740234375\n",
      "tapped  5 , -0.29296875\n",
      "tapped  5 , 0.226806640625\n",
      "tapped  5 , 0.211181640625\n",
      "tapped  5 , 0.535400390625\n",
      "tapped  5 , -0.365234375\n",
      "tapped  5 , 0.22314453125\n",
      "tapped  5 , -0.2607421875\n",
      "tapped  5 , -0.209228515625\n",
      "tapped  5 , -0.325439453125\n",
      "tapped  5 , -0.38623046875\n",
      "tapped  5 , -0.471435546875\n",
      "tapped  5 , -0.470947265625\n",
      "tapped  5 , -0.5615234375\n",
      "tapped  5 , -0.577880859375\n",
      "tapped  5 , -0.627197265625\n",
      "tapped  5 , -0.616943359375\n",
      "tapped  5 , -0.625\n",
      "tapped  5 , -0.5859375\n",
      "tapped  5 , -0.58642578125\n",
      "tapped  5 , -0.415771484375\n",
      "tapped  5 , -0.4208984375\n",
      "tapped  5 , -0.271240234375\n",
      "tapped  5 , -0.35107421875\n",
      "tapped  5 , 0.23681640625\n"
     ]
    }
   ],
   "source": [
    "#this will be the threshold which zumi will detect a tap\n",
    "#using the accelerometer\n",
    "tap_threshold = 0.2\n",
    "\n",
    "#take a couple of samples\n",
    "for i in range (0,2000):\n",
    "    #read the whole mpu list\n",
    "    mpu_list = zumi.mpu.read_all_MPU_data()\n",
    "    \n",
    "    x_acc = mpu_list[0]\n",
    "\n",
    "    # tilt[0] is the orientation state\n",
    "    tilt = zumi.get_tilt(mpu_list[0], mpu_list[1], mpu_list[2])\n",
    "    if(tilt[0]== 5):\n",
    "        if(abs(x_acc) > tap_threshold):\n",
    "            print(\"tapped \", tilt[0], \",\", x_acc)\n",
    "            #zumi will buzz when tapped\n",
    "            zumi.play_note(60,30)"
   ]
  },
  {
   "cell_type": "code",
   "execution_count": null,
   "metadata": {},
   "outputs": [],
   "source": []
  }
 ],
 "metadata": {
  "kernelspec": {
   "display_name": "Python 3",
   "language": "python",
   "name": "python3"
  },
  "language_info": {
   "codemirror_mode": {
    "name": "ipython",
    "version": 3
   },
   "file_extension": ".py",
   "mimetype": "text/x-python",
   "name": "python",
   "nbconvert_exporter": "python",
   "pygments_lexer": "ipython3",
   "version": "3.5.3"
  }
 },
 "nbformat": 4,
 "nbformat_minor": 2
}
