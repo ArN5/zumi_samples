{
 "cells": [
  {
   "cell_type": "code",
   "execution_count": 8,
   "metadata": {},
   "outputs": [
    {
     "name": "stdout",
     "output_type": "stream",
     "text": [
      " Starting Zumi \n",
      "Pi Zero I2C is available\n",
      "Gyro offset file already exists.\n",
      "Verified Pi Zero is the same\n",
      "Gyroscope previously calibrated\n",
      "Creating new offset file...\n",
      ".\n",
      ".\n"
     ]
    },
    {
     "ename": "KeyboardInterrupt",
     "evalue": "",
     "output_type": "error",
     "traceback": [
      "\u001b[0;31m---------------------------------------------------------------------------\u001b[0m",
      "\u001b[0;31mKeyboardInterrupt\u001b[0m                         Traceback (most recent call last)",
      "\u001b[0;32m<ipython-input-8-e1553803290f>\u001b[0m in \u001b[0;36m<module>\u001b[0;34m\u001b[0m\n\u001b[1;32m     51\u001b[0m     \u001b[0mzumi\u001b[0m\u001b[0;34m.\u001b[0m\u001b[0mgo_straight\u001b[0m\u001b[0;34m(\u001b[0m\u001b[0;36m40\u001b[0m\u001b[0;34m,\u001b[0m\u001b[0;36m0\u001b[0m\u001b[0;34m)\u001b[0m\u001b[0;34m\u001b[0m\u001b[0m\n\u001b[1;32m     52\u001b[0m \u001b[0;34m\u001b[0m\u001b[0m\n\u001b[0;32m---> 53\u001b[0;31m     \u001b[0mir_readings\u001b[0m \u001b[0;34m=\u001b[0m \u001b[0mzumi\u001b[0m\u001b[0;34m.\u001b[0m\u001b[0mget_all_IR_data\u001b[0m\u001b[0;34m(\u001b[0m\u001b[0;34m)\u001b[0m\u001b[0;34m\u001b[0m\u001b[0m\n\u001b[0m\u001b[1;32m     54\u001b[0m     \u001b[0mbottom_right_ir\u001b[0m \u001b[0;34m=\u001b[0m \u001b[0mir_readings\u001b[0m\u001b[0;34m[\u001b[0m\u001b[0;36m1\u001b[0m\u001b[0;34m]\u001b[0m\u001b[0;34m\u001b[0m\u001b[0m\n\u001b[1;32m     55\u001b[0m     \u001b[0mbottom_left_ir\u001b[0m \u001b[0;34m=\u001b[0m \u001b[0mir_readings\u001b[0m\u001b[0;34m[\u001b[0m\u001b[0;36m3\u001b[0m\u001b[0;34m]\u001b[0m\u001b[0;34m\u001b[0m\u001b[0m\n",
      "\u001b[0;32m/usr/local/lib/python3.5/dist-packages/zumi/zumi.py\u001b[0m in \u001b[0;36mget_all_IR_data\u001b[0;34m(self)\u001b[0m\n\u001b[1;32m   1034\u001b[0m         \u001b[0;32mtry\u001b[0m\u001b[0;34m:\u001b[0m\u001b[0;34m\u001b[0m\u001b[0m\n\u001b[1;32m   1035\u001b[0m             \u001b[0mdata\u001b[0m \u001b[0;34m=\u001b[0m \u001b[0mself\u001b[0m\u001b[0;34m.\u001b[0m\u001b[0mbus\u001b[0m\u001b[0;34m.\u001b[0m\u001b[0mread_i2c_block_data\u001b[0m\u001b[0;34m(\u001b[0m\u001b[0mDevice\u001b[0m\u001b[0;34m.\u001b[0m\u001b[0mArduino\u001b[0m\u001b[0;34m,\u001b[0m \u001b[0;36m192\u001b[0m\u001b[0;34m,\u001b[0m \u001b[0;36m6\u001b[0m\u001b[0;34m)\u001b[0m\u001b[0;34m\u001b[0m\u001b[0m\n\u001b[0;32m-> 1036\u001b[0;31m             \u001b[0mtime\u001b[0m\u001b[0;34m.\u001b[0m\u001b[0msleep\u001b[0m\u001b[0;34m(\u001b[0m\u001b[0mself\u001b[0m\u001b[0;34m.\u001b[0m\u001b[0mMIN_I2C_DELAY\u001b[0m\u001b[0;34m)\u001b[0m\u001b[0;34m\u001b[0m\u001b[0m\n\u001b[0m\u001b[1;32m   1037\u001b[0m         \u001b[0;32mexcept\u001b[0m \u001b[0mIOError\u001b[0m\u001b[0;34m:\u001b[0m\u001b[0;34m\u001b[0m\u001b[0m\n\u001b[1;32m   1038\u001b[0m             \u001b[0;32mreturn\u001b[0m \u001b[0mself\u001b[0m\u001b[0;34m.\u001b[0m\u001b[0mget_all_IR_data\u001b[0m\u001b[0;34m(\u001b[0m\u001b[0;34m)\u001b[0m\u001b[0;34m\u001b[0m\u001b[0m\n",
      "\u001b[0;31mKeyboardInterrupt\u001b[0m: "
     ]
    }
   ],
   "source": [
    "from zumi.zumi import Zumi\n",
    "from zumi.util.screen import Screen\n",
    "import matplotlib.pyplot as plt\n",
    "import time\n",
    "\n",
    "#the amount of bricks you wish to cross over\n",
    "number_of_bricks = 4\n",
    "motor_speed = 40\n",
    "ir_threshold = 140\n",
    "\n",
    "# each white brick is 2cmx5cm \n",
    "# we are traveling toward the \n",
    "# brick from the 2cm length\n",
    "# from end of one white brick\n",
    "# to the end of another white brick\n",
    "# is roughly 4 cm\n",
    "\n",
    "cm_per_brick = 4\n",
    "samples_taken = 0\n",
    "\n",
    "zumi = Zumi()\n",
    "zumi.reset_gyro()\n",
    "zumi.mpu.calibrate_MPU()\n",
    "init_time = time.time()\n",
    "\n",
    "#create list for the readings to be graphed\n",
    "time_list = []\n",
    "left_list = []\n",
    "right_list = []\n",
    "r_ir_list = []\n",
    "l_ir_list = []\n",
    "BRIR_list = []\n",
    "BLIR_list = []\n",
    "\n",
    "#create variables for calculating derivative\n",
    "BLI_past = 0\n",
    "BRI_past = 0\n",
    "\n",
    "DBLI = 0\n",
    "DBRI = 0\n",
    "\n",
    "LBRICKS = 0\n",
    "RBRICKS = 0\n",
    "\n",
    "time_passed = 0\n",
    "time_first_brick = 0\n",
    "\n",
    "while(number_of_bricks<5):\n",
    "\n",
    "    zumi.go_straight(40,0)\n",
    "\n",
    "    ir_readings = zumi.get_all_IR_data()\n",
    "    bottom_right_ir = ir_readings[1]\n",
    "    bottom_left_ir = ir_readings[3]\n",
    "\n",
    "    \n",
    "    if bottom_right_ir > 110:\n",
    "        BRI = 1  \n",
    "    else:\n",
    "        BRI = 0\n",
    "        \n",
    "    BRIR_list.append(BRI)\n",
    "    \n",
    "    if bottom_left_ir > 110:\n",
    "        BLI = 1   \n",
    "    else:\n",
    "        BLI = 0\n",
    "    \n",
    "    BLIR_list.append(BLI)\n",
    "    \n",
    "    #change in right ir    \n",
    "    DBRI = BLI - BLI_past\n",
    "    \n",
    "    #change in left ir\n",
    "    DBLI = BRI - BRI_past\n",
    "    \n",
    "    #if DBLI == 1:#rising edge start of brick\n",
    "    if DBLI == -1:#falling edge or end of brick\n",
    "        LBRICKS = LBRICKS + 1\n",
    "    #if DBRI == 1 :#rising edge or start of brick\n",
    "    if DBRI == -1:#falling edge or end of brick\n",
    "        RBRICKS = RBRICKS + 1\n",
    "\n",
    "    #update past Binary Left IR (BLI)\n",
    "    BLI_past = BLI\n",
    "    #update past Binary Right IR (BRI)\n",
    "    BRI_past = BRI\n",
    "    \n",
    "    time_passed = time.time()-init_time\n",
    "    \n",
    "    if DBLI == -1 and LBRICKS ==1:\n",
    "        time_first_brick = time_passed\n",
    "        \n",
    "    #add data to lists\n",
    "    time_list.append(time_passed)\n",
    "    right_list.append(RBRICKS)\n",
    "    left_list.append(LBRICKS)\n",
    "    r_ir_list.append(bottom_right_ir)\n",
    "    l_ir_list.append(bottom_left_ir)\n",
    "    \n",
    "zumi.hard_brake()\n",
    "speed_cm_s = (LBRICKS-1)/(time_passed-time_first_brick)*cm_per_brick\n",
    "print(speed_cm_s, \" cm/seconds ,\",speed_cm_s/2.54, \" inches/second\")\n",
    "print(\"traveled \",LBRICKS*cm_per_brick, \" cm \",LBRICKS*cm_per_brick/2.54, \" cm \")\n",
    "print(samples_taken,\" samples ,\", time_passed,\" time passed\")\n",
    "\n",
    "\n",
    "\n",
    "\n",
    "plt.plot(time_list,BRIR_list,'ro',time_list,BLIR_list,'bo')\n",
    "plt.ylabel('bl')\n",
    "plt.xlabel('time')\n",
    "plt.show()\n",
    "\n",
    "\n",
    "\n",
    "plt.plot(time_list,left_list,'ro',time_list,right_list,'bo')\n",
    "plt.ylabel('white bricks')\n",
    "plt.xlabel('time')\n",
    "plt.show()\n",
    "\n",
    "plt.plot(time_list,l_ir_list,'go',time_list,r_ir_list,'ro')\n",
    "plt.ylabel('ir values')\n",
    "plt.xlabel('time')\n",
    "plt.show()"
   ]
  },
  {
   "cell_type": "code",
   "execution_count": 9,
   "metadata": {},
   "outputs": [],
   "source": [
    "zumi.stop()"
   ]
  },
  {
   "cell_type": "code",
   "execution_count": 3,
   "metadata": {},
   "outputs": [
    {
     "data": {
      "image/png": "[encoded data removed]",
      "text/plain": [
       "<Figure size 432x288 with 1 Axes>"
      ]
     },
     "metadata": {
      "needs_background": "light"
     },
     "output_type": "display_data"
    },
    {
     "data": {
      "image/png": "[encoded data removed]",
      "text/plain": [
       "<Figure size 432x288 with 1 Axes>"
      ]
     },
     "metadata": {
      "needs_background": "light"
     },
     "output_type": "display_data"
    },
    {
     "data": {
      "image/png": "[encoded data removed]",
      "text/plain": [
       "<Figure size 432x288 with 1 Axes>"
      ]
     },
     "metadata": {
      "needs_background": "light"
     },
     "output_type": "display_data"
    }
   ],
   "source": [
    "plt.plot(time_list,BRIR_list,'ro',time_list,BLIR_list,'bo')\n",
    "plt.ylabel('bl')\n",
    "plt.xlabel('time')\n",
    "plt.show()\n",
    "\n",
    "plt.plot(time_list,left_list,'ro',time_list,right_list,'bo')\n",
    "plt.ylabel('white bricks')\n",
    "plt.xlabel('time')\n",
    "plt.show()\n",
    "\n",
    "plt.plot(time_list,l_ir_list,'go',time_list,r_ir_list,'ro')\n",
    "plt.ylabel('ir values')\n",
    "plt.xlabel('time')\n",
    "plt.show()"
   ]
  },
  {
   "cell_type": "code",
   "execution_count": null,
   "metadata": {},
   "outputs": [],
   "source": []
  }
 ],
 "metadata": {
  "kernelspec": {
   "display_name": "Python 3",
   "language": "python",
   "name": "python3"
  },
  "language_info": {
   "codemirror_mode": {
    "name": "ipython",
    "version": 3
   },
   "file_extension": ".py",
   "mimetype": "text/x-python",
   "name": "python",
   "nbconvert_exporter": "python",
   "pygments_lexer": "ipython3",
   "version": "3.5.3"
  }
 },
 "nbformat": 4,
 "nbformat_minor": 2
}
