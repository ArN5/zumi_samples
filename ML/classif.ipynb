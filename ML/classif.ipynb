{
 "cells": [
  {
   "cell_type": "code",
   "execution_count": null,
   "metadata": {},
   "outputs": [],
   "source": [
    "import numpy as np\n",
    "import os\n",
    "import sys\n",
    "from PIL import Image\n",
    "from keras.models import Sequential\n",
    "from keras.layers import Conv2D, MaxPooling2D, Activation, Flatten, Dense, Dropout, LeakyReLU\n",
    "from keras import backend as K\n",
    "import time\n",
    "\n",
    "\n",
    "#for arrow classification\n",
    "#not super robust trained on very few images\n",
    "weight_file = 'Arrows_weights.h5'\n",
    "\n",
    "def gen_class_model(file_name,labels=4):\n",
    "    model = Sequential()\n",
    "    #input a 64X64 img with 3 channels RGB use relu activation layer\n",
    "    model.add(Conv2D(32, kernel_size=(3, 3), activation='relu', input_shape=(64, 64, 3)))\n",
    "    model.add(Conv2D(64, (3, 3), activation='relu'))\n",
    "    model.add(Dropout(0.1))\n",
    "    model.add(MaxPooling2D(pool_size=(2, 2)))\n",
    "\n",
    "    model.add(Conv2D(64, (3, 3), activation='relu'))\n",
    "    model.add(MaxPooling2D(pool_size=(2, 2)))\n",
    "\n",
    "    model.add(Flatten())\n",
    "    model.add(Dense(128, activation='relu'))\n",
    "    model.add(Dropout(0.1))\n",
    "    model.add(Dense(labels, activation='softmax'))\n",
    "\n",
    "    model.load_weights(file_name)\n",
    "    # compile\n",
    "    model.compile(loss='categorical_crossentropy', optimizer='adam', metrics=['accuracy'])\n",
    "\n",
    "    return model\n",
    "\n",
    "model = gen_class_model('Arrows_weights.h5')"
   ]
  },
  {
   "cell_type": "code",
   "execution_count": null,
   "metadata": {},
   "outputs": [],
   "source": [
    "from zumi.util.camera import Camera\n",
    "import numpy as np\n",
    "from PIL import Image\n",
    "import IPython.display\n",
    "\n",
    "camera = Camera(64, 64)\n",
    "camera.start_camera()\n",
    "\n",
    "try: \n",
    "    while True:\n",
    "        #take a picture\n",
    "        frame = camera.capture()\n",
    "        \n",
    "        #convert image\n",
    "        img = Image.fromarray(frame)\n",
    "        \n",
    "        #turn image matrix into one column\n",
    "        x = np.expand_dims(img, axis=0)\n",
    "        \n",
    "        #make a prediction based on input image\n",
    "        preds = model.predict_classes(x)\n",
    "        \n",
    "        #return probabilities\n",
    "        prob = model.predict_proba(x)\n",
    "        \n",
    "        print(preds, \" prob\", prob)\n",
    "        \n",
    "        #display what zumi sees\n",
    "        IPython.display.display(img)\n",
    "        IPython.display.clear_output(wait=True) \n",
    "finally:\n",
    "    camera.close()\n",
    "    print(\"done\")"
   ]
  },
  {
   "cell_type": "code",
   "execution_count": null,
   "metadata": {},
   "outputs": [],
   "source": []
  }
 ],
 "metadata": {
  "kernelspec": {
   "display_name": "Python 3",
   "language": "python",
   "name": "python3"
  },
  "language_info": {
   "codemirror_mode": {
    "name": "ipython",
    "version": 3
   },
   "file_extension": ".py",
   "mimetype": "text/x-python",
   "name": "python",
   "nbconvert_exporter": "python",
   "pygments_lexer": "ipython3",
   "version": "3.5.3"
  }
 },
 "nbformat": 4,
 "nbformat_minor": 2
}
