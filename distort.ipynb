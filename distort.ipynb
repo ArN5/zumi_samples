{
 "cells": [
  {
   "cell_type": "code",
   "execution_count": 1,
   "metadata": {},
   "outputs": [
    {
     "name": "stdout",
     "output_type": "stream",
     "text": [
      "Closing PiCamera\n"
     ]
    },
    {
     "ename": "KeyboardInterrupt",
     "evalue": "",
     "output_type": "error",
     "traceback": [
      "\u001b[0;31m---------------------------------------------------------------------------\u001b[0m",
      "\u001b[0;31mKeyboardInterrupt\u001b[0m                         Traceback (most recent call last)",
      "\u001b[0;32m<ipython-input-1-10b86c3f2838>\u001b[0m in \u001b[0;36m<module>\u001b[0;34m\u001b[0m\n\u001b[1;32m     58\u001b[0m \u001b[0;34m\u001b[0m\u001b[0m\n\u001b[1;32m     59\u001b[0m         \u001b[0;31m# Find the chess board corners\u001b[0m\u001b[0;34m\u001b[0m\u001b[0;34m\u001b[0m\u001b[0m\n\u001b[0;32m---> 60\u001b[0;31m         \u001b[0mret\u001b[0m\u001b[0;34m,\u001b[0m \u001b[0mcorners\u001b[0m \u001b[0;34m=\u001b[0m \u001b[0mcv2\u001b[0m\u001b[0;34m.\u001b[0m\u001b[0mfindChessboardCorners\u001b[0m\u001b[0;34m(\u001b[0m\u001b[0mgray\u001b[0m\u001b[0;34m,\u001b[0m \u001b[0;34m(\u001b[0m\u001b[0mrows\u001b[0m\u001b[0;34m,\u001b[0m \u001b[0mcols\u001b[0m\u001b[0;34m)\u001b[0m\u001b[0;34m,\u001b[0m \u001b[0;32mNone\u001b[0m\u001b[0;34m)\u001b[0m\u001b[0;34m\u001b[0m\u001b[0m\n\u001b[0m\u001b[1;32m     61\u001b[0m \u001b[0;34m\u001b[0m\u001b[0m\n\u001b[1;32m     62\u001b[0m         \u001b[0;31m# Make sure the chess board pattern was found in the image\u001b[0m\u001b[0;34m\u001b[0m\u001b[0;34m\u001b[0m\u001b[0m\n",
      "\u001b[0;31mKeyboardInterrupt\u001b[0m: "
     ]
    }
   ],
   "source": [
    "from zumi.util.camera import Camera\n",
    "from zumi.util.screen import Screen\n",
    "from zumi.zumi import Zumi\n",
    "import numpy as np\n",
    "import cv2\n",
    "import IPython.display\n",
    "import PIL.Image\n",
    "import time\n",
    "import math\n",
    "\n",
    "\n",
    "screen = Screen()\n",
    "zumi = Zumi()\n",
    "\n",
    "#width = 1280\n",
    "#height = 960\n",
    "\n",
    "#width = 640\n",
    "#height = 480\n",
    "\n",
    "#width = 320\n",
    "#height = 240\n",
    "\n",
    "#width = 160 \n",
    "#height = 120\n",
    "\n",
    "width = 80\n",
    "height = 60\n",
    "\n",
    "black_white_threshold = 100\n",
    "\n",
    "# Define the chess board rows and columns\n",
    "rows = 3\n",
    "cols = 3\n",
    "\n",
    "# Set the termination criteria for the corner sub-pixel algorithm\n",
    "criteria = (cv2.TERM_CRITERIA_MAX_ITER + cv2.TERM_CRITERIA_EPS, 30, 0.001)\n",
    "\n",
    "# Prepare the object points: (0,0,0), (1,0,0), (2,0,0), ..., (6,5,0). They are the same for all images\n",
    "objectPoints = np.zeros((rows * cols, 3), np.float32)\n",
    "objectPoints[:, :2] = np.mgrid[0:rows, 0:cols].T.reshape(-1, 2)\n",
    "\n",
    "# Create the arrays to store the object points and the image points\n",
    "objectPointsArray = []\n",
    "imgPointsArray = []\n",
    "\n",
    "camera = Camera(width,height)\n",
    "camera.start_camera()\n",
    "\n",
    "try: \n",
    "    while True:\n",
    "        image = camera.capture() # Take a picture \n",
    "        #focus only on the bottom half and extra of the image\n",
    "        #image = image[int(height/1.5):int(height/1.5)+height, 0:width]\n",
    "\n",
    "        gray = cv2.cvtColor(image, cv2.COLOR_BGR2GRAY) # Convert it to gray\n",
    "        ret, black_white = cv2.threshold(gray,black_white_threshold,255,cv2.THRESH_BINARY) \n",
    "        \n",
    "        # Find the chess board corners\n",
    "        ret, corners = cv2.findChessboardCorners(gray, (rows, cols), None)\n",
    "\n",
    "        # Make sure the chess board pattern was found in the image\n",
    "        if ret:\n",
    "            # Refine the corner position\n",
    "            corners = cv2.cornerSubPix(gray, corners, (11, 11), (-1, -1), criteria)\n",
    "        \n",
    "            # Add the object points and the image points to the arrays\n",
    "            objectPointsArray.append(objectPoints)\n",
    "            imgPointsArray.append(corners)\n",
    "\n",
    "            # Draw the corners on the image\n",
    "            cv2.drawChessboardCorners(black_white, (rows, cols), corners, ret)        \n",
    "        \n",
    "        \n",
    "        #ret, corners = cv2.findChessboardCorners(gray, (9,6), None)\n",
    "        #print(corners)\n",
    "        #edges = cv2.Canny(black_white, 100, 200)\n",
    "        #edges = cv2.dilate(edges, None)\n",
    "\n",
    "        #find_contours(black_white)\n",
    "        #IPython.display.display(PIL.Image.fromarray(image))\n",
    "        IPython.display.display(PIL.Image.fromarray(black_white))\n",
    "        IPython.display.clear_output(wait=True)\n",
    "        \n",
    "       \n",
    "finally:\n",
    "    camera.close()"
   ]
  },
  {
   "cell_type": "code",
   "execution_count": null,
   "metadata": {},
   "outputs": [],
   "source": []
  }
 ],
 "metadata": {
  "kernelspec": {
   "display_name": "Python 3",
   "language": "python",
   "name": "python3"
  },
  "language_info": {
   "codemirror_mode": {
    "name": "ipython",
    "version": 3
   },
   "file_extension": ".py",
   "mimetype": "text/x-python",
   "name": "python",
   "nbconvert_exporter": "python",
   "pygments_lexer": "ipython3",
   "version": "3.5.3"
  }
 },
 "nbformat": 4,
 "nbformat_minor": 2
}
