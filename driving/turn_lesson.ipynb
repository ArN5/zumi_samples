{
 "cells": [
  {
   "cell_type": "code",
   "execution_count": 4,
   "metadata": {},
   "outputs": [
    {
     "name": "stdout",
     "output_type": "stream",
     "text": [
      " Starting Zumi \n",
      "Pi Zero I2C is available\n",
      "Gyro offset file already exists.\n",
      "Verified Pi Zero is the same\n",
      "Gyroscope previously calibrated\n",
      "Zumi board detected\n",
      "Compass detected\n",
      "OLED Screen detected\n",
      "Gyroscope & Accelerometer detected\n"
     ]
    }
   ],
   "source": [
    "from zumi.zumi import Zumi\n",
    "import time\n",
    "\n",
    "zumi = Zumi()\n",
    "\n",
    "#this is how you can use turn() function\n",
    "heading = 0 #this is the angle relative to your start location \n",
    "duration = 4 #this is duration in seconds you want to maintain the angle\n",
    "\n",
    "zumi.turn(heading,duration)\n",
    "#try pushing Zumi from facing 0 degrees\n",
    "\n",
    "print(\"done trying to face 0 degrees\")"
   ]
  },
  {
   "cell_type": "code",
   "execution_count": 7,
   "metadata": {},
   "outputs": [
    {
     "name": "stdout",
     "output_type": "stream",
     "text": [
      "done trying to face 90 degrees\n"
     ]
    }
   ],
   "source": [
    "#this will turn +90 degrees to the left\n",
    "zumi.turn(90)\n",
    "#will try to face the original starting angle\n",
    "zumi.turn(0)\n",
    "print(\"done\")"
   ]
  },
  {
   "cell_type": "code",
   "execution_count": 9,
   "metadata": {},
   "outputs": [],
   "source": [
    "#now if i set the heading to 90 \n",
    "zumi.turn(90)\n",
    "#and I tell it do that again it should not move since its already facing 90 degrees\n",
    "zumi.turn(90)\n",
    "\n",
    "#this is NOT THE SAME as \n",
    "zumi.turn_left(90)\n",
    "#this adds 90 degrees to WHATEVER angle im facing\n",
    "#this is based on the relative angle you are facing \n",
    "#as opposed to the absolute reference angle"
   ]
  },
  {
   "cell_type": "code",
   "execution_count": 13,
   "metadata": {},
   "outputs": [],
   "source": [
    "#so why use turn() instead of turn_left() or turn_right()\n",
    "#well turn can make movements more precise since they use the absolute angle\n",
    "#the turn_left uses the relative angle and attempts to go to it. This results in error accumulating\n",
    "#let me demonstrate."
   ]
  },
  {
   "cell_type": "code",
   "execution_count": 14,
   "metadata": {},
   "outputs": [],
   "source": [
    "#this square should drift\n",
    "zumi.reset_gyro()\n",
    "\n",
    "for i in range(4):\n",
    "    zumi.forward(20)\n",
    "    zumi.turn_left(90)"
   ]
  },
  {
   "cell_type": "code",
   "execution_count": 15,
   "metadata": {},
   "outputs": [],
   "source": [
    "#this square should be slightly more accurate\n",
    "zumi.reset_gyro()\n",
    "\n",
    "for i in range(4):\n",
    "    zumi.forward(20,)\n",
    "    zumi.turn((i+1)*90)\n",
    "    "
   ]
  },
  {
   "cell_type": "code",
   "execution_count": 16,
   "metadata": {},
   "outputs": [],
   "source": [
    "#to give you an idea of what turn_left does\n",
    "#it grabs the angle the zumi currently faces and adds 90 degrees\n",
    "#if the previous movement was not accurate and landed with +3 degrees\n",
    "#then the next movement accumulates this error, so 90 +3 = 93 degrees \n",
    "\n",
    "def turn_left(desired_angle=90, duration=1):\n",
    "    # will turn left given an angle\n",
    "    # duration is amount of time you will allow zumi to try to turn\n",
    "    zumi.turn(zumi.read_z_angle() + abs(desired_angle),duration)"
   ]
  },
  {
   "cell_type": "code",
   "execution_count": null,
   "metadata": {},
   "outputs": [],
   "source": []
  }
 ],
 "metadata": {
  "kernelspec": {
   "display_name": "Python 3",
   "language": "python",
   "name": "python3"
  },
  "language_info": {
   "codemirror_mode": {
    "name": "ipython",
    "version": 3
   },
   "file_extension": ".py",
   "mimetype": "text/x-python",
   "name": "python",
   "nbconvert_exporter": "python",
   "pygments_lexer": "ipython3",
   "version": "3.5.3"
  }
 },
 "nbformat": 4,
 "nbformat_minor": 2
}
