{
 "cells": [
  {
   "cell_type": "code",
   "execution_count": 3,
   "metadata": {},
   "outputs": [
    {
     "name": "stdout",
     "output_type": "stream",
     "text": [
      " Starting Zumi \n",
      "Pi Zero I2C is available\n",
      "Verified Pi Zero is the same\n",
      "Gyroscope previously calibrated\n",
      "Zumi board detected\n",
      "Compass detected\n",
      "OLED Screen detected\n",
      "Gyroscope & Accelerometer detected\n",
      "----------\n",
      "\n",
      "degree per second  21.337977538770524\n",
      "Zumi drifts to the left\n",
      "left motor is slower than right motor\n"
     ]
    },
    {
     "data": {
      "image/png": "[encoded data removed]",
      "text/plain": [
       "<Figure size 432x288 with 1 Axes>"
      ]
     },
     "metadata": {
      "needs_background": "light"
     },
     "output_type": "display_data"
    }
   ],
   "source": [
    "from zumi.zumi import Zumi\n",
    "import matplotlib.pyplot as plt\n",
    "import numpy as np\n",
    "import time\n",
    "import math\n",
    "\n",
    "\n",
    "zumi = Zumi()\n",
    "\n",
    "time_out = 2\n",
    "speed = 40\n",
    "threshold = 3\n",
    "try:\n",
    "    init_time = time.time()\n",
    "    time_list = []\n",
    "    gyro_list = []\n",
    "    time_passed = 0\n",
    "    zumi.reset_PID()\n",
    "    zumi.reset_gyro()\n",
    "\n",
    "    while(True):\n",
    "        \n",
    "        time_passed = time.time()-init_time\n",
    "        current_angle = zumi.update_angles()[2]\n",
    "        time_list.append(time_passed)\n",
    "        gyro_list.append(current_angle) \n",
    "        zumi.control_motors(speed,speed)\n",
    "\n",
    "        accuracy = 0\n",
    "        #zumi.drive_at_angle(127, 40, 0, 5, 0.03, 15, accuracy)\n",
    "        \n",
    "\n",
    "        if time_passed >= time_out:\n",
    "            break\n",
    "finally:\n",
    "    zumi.hard_brake()\n",
    "    deg_sec = current_angle/time_passed\n",
    "    print(\"----------\")\n",
    "    print(\"\")\n",
    "    print(\"degree per second \",current_angle/time_passed)\n",
    "    if deg_sec > threshold:\n",
    "        print(\"Zumi drifts to the left\")\n",
    "        print(\"left motor is slower than right motor\")\n",
    "    if deg_sec < -threshold:\n",
    "        print(\"Zumi drifts to the right\")\n",
    "        print(\"right motor is slower than left motor\")\n",
    "    if deg_sec < threshold and deg_sec >-threshold:\n",
    "        print(\"Zumi motors speeds are similar\")\n",
    "        \n",
    "    plt.plot(time_list,gyro_list,'go')\n",
    "    plt.ylabel('gyro')\n",
    "    plt.xlabel('time')\n",
    "    plt.show()"
   ]
  },
  {
   "cell_type": "code",
   "execution_count": null,
   "metadata": {},
   "outputs": [],
   "source": []
  }
 ],
 "metadata": {
  "kernelspec": {
   "display_name": "Python 3",
   "language": "python",
   "name": "python3"
  },
  "language_info": {
   "codemirror_mode": {
    "name": "ipython",
    "version": 3
   },
   "file_extension": ".py",
   "mimetype": "text/x-python",
   "name": "python",
   "nbconvert_exporter": "python",
   "pygments_lexer": "ipython3",
   "version": "3.5.3"
  }
 },
 "nbformat": 4,
 "nbformat_minor": 2
}
