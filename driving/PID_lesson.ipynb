{
 "cells": [
  {
   "cell_type": "code",
   "execution_count": 1,
   "metadata": {},
   "outputs": [
    {
     "name": "stdout",
     "output_type": "stream",
     "text": [
      "Starting Zumi \n",
      "Pi Zero I2C is available\n",
      "Verified Pi Zero is the same\n",
      "Gyroscope previously calibrated\n",
      "Zumi board detected\n",
      "Compass detected\n",
      "OLED Screen detected\n",
      "Gyroscope & Accelerometer detected\n",
      "zumi drive p gain  2.9\n",
      "zumi drive i gain  0.01\n",
      "zumi drive d gain  0.05\n"
     ]
    }
   ],
   "source": [
    "from zumi.zumi import Zumi\n",
    "import time\n",
    "#this lesson will only work in zumi \n",
    "#python library version 1.3 and above\n",
    "\n",
    "zumi = Zumi()\n",
    "\n",
    "#these are the gains of the PID which are used to tune\n",
    "#zumi's corrective driving abilities.\n",
    "#in essence they determine how much should \n",
    "#zumi motors respond to changes to the gyro.\n",
    "print(\"zumi drive p gain \", zumi.D_P)\n",
    "print(\"zumi drive i gain \",zumi.D_I)\n",
    "print(\"zumi drive d gain \",zumi.D_D)"
   ]
  },
  {
   "cell_type": "code",
   "execution_count": 6,
   "metadata": {},
   "outputs": [
    {
     "name": "stdout",
     "output_type": "stream",
     "text": [
      "done\n"
     ]
    }
   ],
   "source": [
    "#so lets make zumi face an angle of 10 degrees \n",
    "#from its starting angle and\n",
    "#stay at that angle for 5 seconds\n",
    "zumi.turn_left(10,5)\n",
    "#watch what happens when you rotate Zumi\n",
    "\n",
    "print(\"done\")\n",
    "\n",
    "#what did you see?\n",
    "\n",
    "#You should see Zumi respond to \n",
    "#the changes in angle the sensor detected\n",
    "#by adjusting the motors the way it can \n",
    "#do this is with a control loop \n",
    "#specifically a PID control loop"
   ]
  },
  {
   "cell_type": "code",
   "execution_count": 7,
   "metadata": {},
   "outputs": [],
   "source": [
    "#So here is what we will do in order to prove \n",
    "#that you need this numbers lets make them disappear\n",
    "\n",
    "#lets set them all to zero!\n",
    "\n",
    "zumi.D_P = 0 #the proportional error gain\n",
    "zumi.D_D = 0 # the derivative error gain\n",
    "zumi.D_I = 0 #the integral error gain\n",
    "\n",
    "#zumi will probably drive to the left or right wherever the stronger motor is\n",
    "zumi.forward(40,4)\n",
    "\n",
    "#what has happened is that the control \n",
    "#loop has been technically shutoff\n",
    "#any change in the angle results \n",
    "#in zero change to the motors"
   ]
  },
  {
   "cell_type": "code",
   "execution_count": 12,
   "metadata": {},
   "outputs": [],
   "source": [
    "#so lets see what happens \n",
    "#with only one of these values\n",
    "\n",
    "#lets try only the P gain\n",
    "\n",
    "zumi.D_P = 10 #the proportional error gain\n",
    "zumi.D_D = 0 # the derivative error gain\n",
    "zumi.D_I = 0 #the integral error gain\n",
    "\n",
    "#zumi may drive somewhat straight\n",
    "zumi.forward(40,2)\n",
    "\n",
    "#but run it again and watch what happens when you bump zumi\n",
    "#it may jump left to right a lot trying to center itself. "
   ]
  },
  {
   "cell_type": "code",
   "execution_count": 21,
   "metadata": {},
   "outputs": [],
   "source": [
    "#lets try only the D gain\n",
    "\n",
    "zumi.D_P = 0 #the proportional error gain\n",
    "zumi.D_D = 1 # the derivative error gain\n",
    "zumi.D_I = 0 #the integral error gain\n",
    "\n",
    "#zumi will probably drive maybe straight but \n",
    "#if you slightly  bump it, it will begin to \n",
    "#move left and right very rapidly\n",
    "zumi.forward(40,4)\n",
    "\n",
    "#zumi basically resist change, even \n",
    "#if that change is from Zumi itself.\n",
    "#thats why as it makes a change to correct itself\n",
    "#it notices the gyro changes and tries to counter \n",
    "#that movement"
   ]
  },
  {
   "cell_type": "code",
   "execution_count": 24,
   "metadata": {},
   "outputs": [],
   "source": [
    "#lets try only the I gain\n",
    "\n",
    "#Since drive at angle uses PID there is\n",
    "#a variable that measures the accumulated error\n",
    "#we must reset it otherwise we get random jerky motions\n",
    "zumi.reset_gyro()\n",
    "zumi.reset_PID()\n",
    "\n",
    "#lets try only the D gain\n",
    "\n",
    "zumi.D_P = 0 #the proportional error gain\n",
    "zumi.D_D = 0 # the derivative error gain\n",
    "zumi.D_I = 2 #the integral error gain\n",
    "\n",
    "#you may see Zumi basically seem like it \n",
    "#is correcting but slowly\n",
    "#it may also just completely correct \n",
    "#and overshoot and lose control.\n",
    "zumi.forward(40,4)\n",
    "\n"
   ]
  },
  {
   "cell_type": "code",
   "execution_count": 27,
   "metadata": {},
   "outputs": [
    {
     "name": "stdout",
     "output_type": "stream",
     "text": [
      "0\n"
     ]
    }
   ],
   "source": [
    "#the reason we use\n",
    "#zumi.reset_gyro()\n",
    "#zumi.reset_PID()\n",
    "#is because the error is being accumulated\n",
    "print(zumi.error_sum)"
   ]
  },
  {
   "cell_type": "code",
   "execution_count": 28,
   "metadata": {},
   "outputs": [
    {
     "name": "stdout",
     "output_type": "stream",
     "text": [
      "0\n"
     ]
    }
   ],
   "source": [
    "#now when we reset this value \n",
    "zumi.reset_gyro()\n",
    "zumi.reset_PID()\n",
    "print(zumi.error_sum)\n",
    "#should be zero now\n",
    "#you should use these each time we move to a new direction\n",
    "#we only want to record the error for whatever current movement we are doing"
   ]
  },
  {
   "cell_type": "code",
   "execution_count": 29,
   "metadata": {},
   "outputs": [],
   "source": [
    "#lets do a combination\n",
    "\n",
    "#Since drive at angle uses PID there is\n",
    "#a variable that measures the accumulated error\n",
    "#we must reset it otherwise we get random jerky motions\n",
    "zumi.reset_gyro()\n",
    "zumi.reset_PID()\n",
    "\n",
    "\n",
    "zumi.D_P = 3 #the proportional error gain\n",
    "zumi.D_D = 0.5 # the derivative error gain\n",
    "zumi.D_I = 0.5 #the integral error gain\n",
    "\n",
    "zumi.forward(40,4)"
   ]
  }
 ],
 "metadata": {
  "kernelspec": {
   "display_name": "Python 3",
   "language": "python",
   "name": "python3"
  },
  "language_info": {
   "codemirror_mode": {
    "name": "ipython",
    "version": 3
   },
   "file_extension": ".py",
   "mimetype": "text/x-python",
   "name": "python",
   "nbconvert_exporter": "python",
   "pygments_lexer": "ipython3",
   "version": "3.5.3"
  }
 },
 "nbformat": 4,
 "nbformat_minor": 2
}
