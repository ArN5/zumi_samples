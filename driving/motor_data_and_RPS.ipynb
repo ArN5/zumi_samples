{
 "cells": [
  {
   "cell_type": "code",
   "execution_count": 1,
   "metadata": {},
   "outputs": [
    {
     "name": "stdout",
     "output_type": "stream",
     "text": [
      "Starting Zumi \n",
      "Pi Zero I2C is available\n",
      "Verified Pi Zero is the same\n",
      "Gyroscope previously calibrated\n",
      "Zumi board detected\n",
      "Compass detected\n",
      "OLED Screen detected\n",
      "Gyroscope & Accelerometer detected\n"
     ]
    }
   ],
   "source": [
    "#This program uses the gyro and some known measurements on Zumi\n",
    "#such as the wheel diameter and length between wheel to wheel\n",
    "#to determine the Rotation per second of each motor at a set speed\n",
    "#do note that varying battery/power levels will result in\n",
    "#different Rotation per second\n",
    "\n",
    "from zumi.zumi import Zumi\n",
    "import matplotlib.pyplot as plt\n",
    "import numpy as np\n",
    "import time\n",
    "import math\n",
    "\n",
    "zumi = Zumi()\n",
    "\n",
    "def calc_motor_data(motor,time_out=0.5,set_speed=40,graphs=False,\n",
    "                    wheel_2_wheel_dist = 6.3,wheel_rad = 1.5):\n",
    "    zumi.reset_gyro()\n",
    "\n",
    "    time_list = []\n",
    "    gyro_list = []\n",
    "    batt_list = []\n",
    "\n",
    "    #reset variables\n",
    "    ang_speed_list = []\n",
    "    init_time = time.time()\n",
    "    time_passed = 0\n",
    "    \n",
    "    try:\n",
    "        #turn left motor ---------------------\n",
    "        while(True):\n",
    "            time_passed = time.time()-init_time\n",
    "            if motor == \"LEFT\":\n",
    "                zumi.control_motors(0,set_speed)\n",
    "            elif motor ==\"RIGHT\":\n",
    "                zumi.control_motors(set_speed,0)\n",
    "            else:\n",
    "                print(\"please select a motor\")\n",
    "                break\n",
    "            \n",
    "            current_angle = zumi.update_angles()[2]\n",
    "            ang_speed_list.append(zumi.mpu_list[5])\n",
    "            time_list.append(time.time())\n",
    "            gyro_list.append(current_angle) \n",
    "            batt_list.append(zumi.get_battery_voltage())\n",
    "\n",
    "            if time_passed >= time_out:\n",
    "                break  \n",
    "            if abs(current_angle)>359:\n",
    "                break\n",
    "    finally:\n",
    "        zumi.stop()\n",
    "\n",
    "        wheel_circumference = 2*math.pi*wheel_rad\n",
    "        \n",
    "        arc_length = abs(2*math.pi*current_angle/360*wheel_2_wheel_dist)\n",
    "        num_turns = arc_length/wheel_circumference\n",
    "        rps = num_turns/time_passed\n",
    "        avg_ang_speed = sum(ang_speed_list)/len(ang_speed_list)\n",
    "        wheel_speed = rps*wheel_circumference\n",
    "        try:\n",
    "            if graphs == True:\n",
    "                plt.plot(time_list,gyro_list,'go')\n",
    "                plt.ylabel('gyro')\n",
    "                plt.xlabel('time')\n",
    "                plt.show()\n",
    "\n",
    "                plt.plot(time_list,batt_list,'go')\n",
    "                plt.ylabel('battery')\n",
    "                plt.xlabel('time')\n",
    "                plt.show()\n",
    "        except:\n",
    "            pass\n",
    "        \n",
    "    return [rps,wheel_speed,arc_length,num_turns,avg_ang_speed]"
   ]
  },
  {
   "cell_type": "code",
   "execution_count": 2,
   "metadata": {},
   "outputs": [
    {
     "name": "stdout",
     "output_type": "stream",
     "text": [
      "LEFT MOTOR\n",
      "motor  1.82 rotations per second\n",
      "motor speed  17.17 cm/s\n"
     ]
    }
   ],
   "source": [
    "data = calc_motor_data(\"LEFT\",set_speed=40)\n",
    "print(\"LEFT MOTOR\")\n",
    "print(\"motor \",int(data[0]*100)/100, \"rotations per second\")\n",
    "print(\"motor speed \",int(data[1]*100)/100, \"cm/s\")"
   ]
  },
  {
   "cell_type": "code",
   "execution_count": null,
   "metadata": {},
   "outputs": [],
   "source": [
    "print(calc_motor_data(\"LEFT\",set_speed=40))\n",
    "zumi.stop()\n",
    "time.sleep(1)\n",
    "\n",
    "# print(calc_motor_data(\"LEFT\",set_speed=-40))\n",
    "# zumi.stop()\n",
    "# time.sleep(1)\n",
    "\n",
    "# print(calc_motor_data(\"RIGHT\",set_speed=40))\n",
    "# zumi.stop()\n",
    "# time.sleep(1)\n",
    "\n",
    "# print(calc_motor_data(\"RIGHT\",set_speed=-40))\n",
    "# zumi.stop()\n",
    "# time.sleep(1)"
   ]
  },
  {
   "cell_type": "code",
   "execution_count": 18,
   "metadata": {},
   "outputs": [
    {
     "data": {
      "image/png": "[encoded data removed]",
      "text/plain": [
       "<Figure size 432x288 with 1 Axes>"
      ]
     },
     "metadata": {
      "needs_background": "light"
     },
     "output_type": "display_data"
    }
   ],
   "source": [
    "rps_list = []\n",
    "speed_list = []\n",
    "\n",
    "for i in range(20):\n",
    "    speed_now = 5*i\n",
    "    rps = calc_motor_data(\"LEFT\",set_speed=speed_now)[0]\n",
    "    speed_list.append(speed_now)\n",
    "    rps_list.append(rps)\n",
    "    zumi.stop()\n",
    "    time.sleep(0.7)\n",
    "        \n",
    "plt.plot(speed_list,rps_list,'go')\n",
    "plt.ylabel('RPS')\n",
    "plt.xlabel('speed set')\n",
    "plt.show()\n",
    "left_rps_list = rps_list"
   ]
  },
  {
   "cell_type": "code",
   "execution_count": 19,
   "metadata": {},
   "outputs": [
    {
     "data": {
      "image/png": "[encoded data removed]",
      "text/plain": [
       "<Figure size 432x288 with 1 Axes>"
      ]
     },
     "metadata": {
      "needs_background": "light"
     },
     "output_type": "display_data"
    }
   ],
   "source": [
    "rps_list = []\n",
    "speed_list = []\n",
    "\n",
    "for i in range(20):\n",
    "    speed_now = 5*i\n",
    "    rps = calc_motor_data(\"RIGHT\",set_speed=speed_now)[0]\n",
    "    speed_list.append(speed_now)\n",
    "    rps_list.append(rps)\n",
    "    zumi.stop()\n",
    "    time.sleep(0.7)\n",
    "        \n",
    "plt.plot(speed_list,rps_list,'ro')\n",
    "plt.ylabel('RPS')\n",
    "plt.xlabel('speed set')\n",
    "plt.show()\n",
    "right_rps_list = rps_list"
   ]
  },
  {
   "cell_type": "code",
   "execution_count": 8,
   "metadata": {},
   "outputs": [
    {
     "name": "stdout",
     "output_type": "stream",
     "text": [
      "[0.3644688691325602, 1.1133462484651029, 1.2961062208365186, 1.3928061446055042, 1.5283919488305608, 1.6245997079739427, 1.7050469794482581, 1.7969962768138799, 1.8371179461124427, 1.9274151666418367, 2.009898627336181, 2.0379839436594223, 2.08131677717101, 2.1474271149668773, 2.151265612155609, 2.2348529294851134, 2.2473686699072473, 2.257350621183413, 2.32636561951719, 2.342168425463928]\n"
     ]
    }
   ],
   "source": [
    "print(left_rps_list)"
   ]
  },
  {
   "cell_type": "code",
   "execution_count": 9,
   "metadata": {},
   "outputs": [
    {
     "name": "stdout",
     "output_type": "stream",
     "text": [
      "[0.3655048737928535, 0.709685340278386, 0.8285248643443919, 0.953030232358656, 1.057244057320576, 1.1510028782577955, 1.2370696728209187, 1.2972955726140878, 1.3842570387803725, 1.4365855756430075, 1.4732365371600462, 1.54213841830638, 1.6081577897312735, 1.6555994884830685, 1.680275500604315, 1.75141717630721, 1.7606962914221662, 1.747754684050249, 1.8281037090024042, 1.5850694187123866]\n"
     ]
    }
   ],
   "source": [
    "print(right_rps_list)"
   ]
  },
  {
   "cell_type": "code",
   "execution_count": 17,
   "metadata": {},
   "outputs": [],
   "source": [
    "for i in range(100):\n",
    "    zumi.control_motors(20,35)\n",
    "zumi.stop()"
   ]
  },
  {
   "cell_type": "code",
   "execution_count": null,
   "metadata": {},
   "outputs": [],
   "source": []
  }
 ],
 "metadata": {
  "kernelspec": {
   "display_name": "Python 3",
   "language": "python",
   "name": "python3"
  },
  "language_info": {
   "codemirror_mode": {
    "name": "ipython",
    "version": 3
   },
   "file_extension": ".py",
   "mimetype": "text/x-python",
   "name": "python",
   "nbconvert_exporter": "python",
   "pygments_lexer": "ipython3",
   "version": "3.5.3"
  }
 },
 "nbformat": 4,
 "nbformat_minor": 2
}
