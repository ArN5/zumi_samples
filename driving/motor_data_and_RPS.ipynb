{
 "cells": [
  {
   "cell_type": "code",
   "execution_count": 1,
   "metadata": {},
   "outputs": [
    {
     "name": "stdout",
     "output_type": "stream",
     "text": [
      " Starting Zumi \n",
      "Pi Zero I2C is available\n",
      "Gyro offset file already exists.\n",
      "Verified Pi Zero is the same\n",
      "Gyroscope previously calibrated\n"
     ]
    }
   ],
   "source": [
    "#This program uses the gyro and some known measurements on Zumi\n",
    "#such as the wheel diameter and length between wheel to wheel\n",
    "#to determine the Rotation per second of each motor at a set speed\n",
    "#do note that varying battery/power levels will result in\n",
    "#different Rotation per second\n",
    "\n",
    "from zumi.zumi import Zumi\n",
    "import matplotlib.pyplot as plt\n",
    "import numpy as np\n",
    "import time\n",
    "import math\n",
    "\n",
    "zumi = Zumi()\n",
    "\n",
    "def calc_motor_data(motor,time_out=0.5,set_speed=40,graphs=False,\n",
    "                    wheel_2_wheel_dist = 6.3,wheel_rad = 1.5):\n",
    "    zumi.reset_gyro()\n",
    "\n",
    "    time_list = []\n",
    "    gyro_list = []\n",
    "    batt_list = []\n",
    "\n",
    "    #reset variables\n",
    "    ang_speed_list = []\n",
    "    init_time = time.time()\n",
    "    time_passed = 0\n",
    "    \n",
    "    try:\n",
    "        #turn left motor ---------------------\n",
    "        while(True):\n",
    "            time_passed = time.time()-init_time\n",
    "            if motor == \"LEFT\":\n",
    "                zumi.control_motors(0,set_speed)\n",
    "            elif motor ==\"RIGHT\":\n",
    "                zumi.control_motors(set_speed,0)\n",
    "            else:\n",
    "                print(\"please select a motor\")\n",
    "                break\n",
    "            \n",
    "            current_angle = zumi.update_angles()[2]\n",
    "            ang_speed_list.append(zumi.mpu_list[5])\n",
    "            time_list.append(time.time())\n",
    "            gyro_list.append(current_angle) \n",
    "            batt_list.append(zumi.get_battery_voltage())\n",
    "\n",
    "            if time_passed >= time_out:\n",
    "                break  \n",
    "            if abs(current_angle)>359:\n",
    "                break\n",
    "    finally:\n",
    "        zumi.stop()\n",
    "\n",
    "        wheel_circumference = 2*math.pi*wheel_rad\n",
    "        \n",
    "        arc_length = abs(2*math.pi*current_angle/360*wheel_2_wheel_dist)\n",
    "        num_turns = arc_length/wheel_circumference\n",
    "        rps = num_turns/time_passed\n",
    "        avg_ang_speed = sum(ang_speed_list)/len(ang_speed_list)\n",
    "        wheel_speed = rps*wheel_circumference\n",
    "        try:\n",
    "            if graphs == True:\n",
    "                plt.plot(time_list,gyro_list,'go')\n",
    "                plt.ylabel('gyro')\n",
    "                plt.xlabel('time')\n",
    "                plt.show()\n",
    "\n",
    "                plt.plot(time_list,batt_list,'go')\n",
    "                plt.ylabel('battery')\n",
    "                plt.xlabel('time')\n",
    "                plt.show()\n",
    "        except:\n",
    "            pass\n",
    "        \n",
    "    return [rps,wheel_speed,arc_length,num_turns,avg_ang_speed]"
   ]
  },
  {
   "cell_type": "code",
   "execution_count": 2,
   "metadata": {},
   "outputs": [
    {
     "name": "stdout",
     "output_type": "stream",
     "text": [
      "LEFT MOTOR\n",
      "motor  0.96 rotations per second\n",
      "motor speed  9.04 cm/s\n"
     ]
    }
   ],
   "source": [
    "data = calc_motor_data(\"LEFT\",set_speed=40)\n",
    "print(\"LEFT MOTOR\")\n",
    "print(\"motor \",int(data[0]*100)/100, \"rotations per second\")\n",
    "print(\"motor speed \",int(data[1]*100)/100, \"cm/s\")"
   ]
  },
  {
   "cell_type": "code",
   "execution_count": 3,
   "metadata": {},
   "outputs": [
    {
     "name": "stdout",
     "output_type": "stream",
     "text": [
      "[0.9553928897689715, 9.004365851370371, 4.534378606940765, 0.4811125127631768, -78.27690259699665]\n"
     ]
    }
   ],
   "source": [
    "print(calc_motor_data(\"LEFT\",set_speed=40))\n",
    "zumi.stop()\n",
    "time.sleep(1)\n",
    "\n",
    "# print(calc_motor_data(\"LEFT\",set_speed=-40))\n",
    "# zumi.stop()\n",
    "# time.sleep(1)\n",
    "\n",
    "# print(calc_motor_data(\"RIGHT\",set_speed=40))\n",
    "# zumi.stop()\n",
    "# time.sleep(1)\n",
    "\n",
    "# print(calc_motor_data(\"RIGHT\",set_speed=-40))\n",
    "# zumi.stop()\n",
    "# time.sleep(1)"
   ]
  },
  {
   "cell_type": "code",
   "execution_count": 8,
   "metadata": {},
   "outputs": [
    {
     "data": {
      "image/png": "[encoded data removed]",
      "text/plain": [
       "<Figure size 432x288 with 1 Axes>"
      ]
     },
     "metadata": {
      "needs_background": "light"
     },
     "output_type": "display_data"
    }
   ],
   "source": [
    "rps_list = []\n",
    "speed_list = []\n",
    "\n",
    "for i in range(20):\n",
    "    speed_now = 5*i\n",
    "    rps = calc_motor_data(\"LEFT\",set_speed=speed_now)[0]\n",
    "    speed_list.append(speed_now)\n",
    "    rps_list.append(rps)\n",
    "    zumi.stop()\n",
    "    time.sleep(0.7)\n",
    "        \n",
    "plt.plot(speed_list,rps_list,'go')\n",
    "plt.ylabel('RPS')\n",
    "plt.xlabel('speed set')\n",
    "plt.show()\n",
    "left_rps_list = rps_list"
   ]
  },
  {
   "cell_type": "code",
   "execution_count": 9,
   "metadata": {},
   "outputs": [
    {
     "data": {
      "image/png": "[encoded data removed]",
      "text/plain": [
       "<Figure size 432x288 with 1 Axes>"
      ]
     },
     "metadata": {
      "needs_background": "light"
     },
     "output_type": "display_data"
    }
   ],
   "source": [
    "rps_list = []\n",
    "speed_list = []\n",
    "\n",
    "for i in range(20):\n",
    "    speed_now = 5*i\n",
    "    rps = calc_motor_data(\"RIGHT\",set_speed=speed_now)[0]\n",
    "    speed_list.append(speed_now)\n",
    "    rps_list.append(rps)\n",
    "    zumi.stop()\n",
    "    time.sleep(0.7)\n",
    "        \n",
    "plt.plot(speed_list,rps_list,'ro')\n",
    "plt.ylabel('RPS')\n",
    "plt.xlabel('speed set')\n",
    "plt.show()\n",
    "right_rps_list = rps_list"
   ]
  },
  {
   "cell_type": "code",
   "execution_count": 6,
   "metadata": {},
   "outputs": [
    {
     "name": "stdout",
     "output_type": "stream",
     "text": [
      "[0.0007063756810980087, 0.31864864079469857, 0.4963227694093952, 0.5706281040240658, 0.6653673663990957, 0.7877654944814636, 0.8519813810558846, 0.8744717012806541, 0.9927661038717672, 1.1298007272133987, 1.180215366734245, 1.1684105164800083, 1.1531989271956835, 1.3767510876134674, 1.5272190445299074, 1.4505705184178228, 1.3982856352128517, 1.3139532177120756, 1.6015677839658733, 1.694817012228366]\n"
     ]
    }
   ],
   "source": [
    "print(left_rps_list)"
   ]
  },
  {
   "cell_type": "code",
   "execution_count": 7,
   "metadata": {},
   "outputs": [
    {
     "name": "stdout",
     "output_type": "stream",
     "text": [
      "[0.0002960837515314085, 0.5112146701908985, 0.6325226215322513, 0.7523834148750959, 0.8716979189153241, 0.9712813246919344, 0.9577150065899225, 1.1491552267955936, 1.18636059407009, 1.320996098727287, 1.4044285029860617, 1.4893157655729263, 1.4611249437121658, 1.5622969309101082, 1.588375291631027, 1.6379206433296343, 1.6363099525554152, 1.6968156099590075, 1.6286805474593815, 1.7013106006397778]\n"
     ]
    }
   ],
   "source": [
    "print(right_rps_list)"
   ]
  },
  {
   "cell_type": "code",
   "execution_count": 17,
   "metadata": {},
   "outputs": [],
   "source": [
    "for i in range(100):\n",
    "    zumi.control_motors(20,35)\n",
    "zumi.stop()"
   ]
  },
  {
   "cell_type": "code",
   "execution_count": null,
   "metadata": {},
   "outputs": [],
   "source": []
  }
 ],
 "metadata": {
  "kernelspec": {
   "display_name": "Python 3",
   "language": "python",
   "name": "python3"
  },
  "language_info": {
   "codemirror_mode": {
    "name": "ipython",
    "version": 3
   },
   "file_extension": ".py",
   "mimetype": "text/x-python",
   "name": "python",
   "nbconvert_exporter": "python",
   "pygments_lexer": "ipython3",
   "version": "3.5.3"
  }
 },
 "nbformat": 4,
 "nbformat_minor": 2
}
