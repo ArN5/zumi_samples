{
 "cells": [
  {
   "cell_type": "markdown",
   "metadata": {},
   "source": [
    "# Zumi Quick Guide\n",
    "Motor commands"
   ]
  },
  {
   "cell_type": "code",
   "execution_count": null,
   "metadata": {},
   "outputs": [],
   "source": [
    "from zumi.zumi import Zumi\n",
    "from time import sleep\n",
    "from zumi.util.screen import Screen\n",
    "zumi = Zumi()\n",
    "screen = Screen()\n",
    "\n",
    "#draw some happy eyes on zumi\n",
    "screen.hello()\n"
   ]
  },
  {
   "cell_type": "markdown",
   "metadata": {},
   "source": [
    "## Forward"
   ]
  },
  {
   "cell_type": "code",
   "execution_count": null,
   "metadata": {},
   "outputs": [],
   "source": [
    "zumi.forward()\n",
    "#defaults at \n",
    "#speed =30 , \n",
    "#duration = 1.0 seconds,\n",
    "#angle = Wherever Zumi is facing\n",
    "#will always stop at the end"
   ]
  },
  {
   "cell_type": "code",
   "execution_count": null,
   "metadata": {},
   "outputs": [],
   "source": [
    "zumi.forward(50,1.1)\n",
    "#defaults at \n",
    "#speed =50 , Speed can only reach max 80\n",
    "#duration = 1.1 seconds, try to use durations above 1 second\n",
    "#angle = Wherever Zumi is facing"
   ]
  },
  {
   "cell_type": "markdown",
   "metadata": {},
   "source": [
    "## Reverse"
   ]
  },
  {
   "cell_type": "code",
   "execution_count": null,
   "metadata": {},
   "outputs": [],
   "source": [
    "zumi.reverse()\n",
    "#reverse has same parameters as forward"
   ]
  },
  {
   "cell_type": "code",
   "execution_count": null,
   "metadata": {},
   "outputs": [],
   "source": [
    "zumi.reverse(50,1.1)"
   ]
  },
  {
   "cell_type": "markdown",
   "metadata": {},
   "source": [
    "## Angle"
   ]
  },
  {
   "cell_type": "code",
   "execution_count": null,
   "metadata": {},
   "outputs": [],
   "source": [
    "#if you want to know what \n",
    "#angle you are facing make sure to do this\n",
    "for i in range(100):\n",
    "    print(zumi.read_z_angle())\n",
    "    sleep(0.1)\n",
    "#In degrees"
   ]
  },
  {
   "cell_type": "code",
   "execution_count": null,
   "metadata": {},
   "outputs": [],
   "source": [
    "#You can also make zumi drive\n",
    "#at specified angles\n",
    "\n",
    "current_angle = zumi.read_z_angle()\n",
    "print(current_angle)\n",
    "zumi.forward(30,1.5,current_angle+90)\n",
    "#speed = 30 , \n",
    "#duration = 1.5 seconds,\n",
    "#angle = 90 degrees from \n",
    "#initial angle from Zumi\n",
    "#object creation \"zumi = Zumi()\"\n",
    "#if angle acts weirds you may need to re run \n",
    "#the first notebook cell"
   ]
  },
  {
   "cell_type": "markdown",
   "metadata": {},
   "source": [
    "## Go straight"
   ]
  },
  {
   "cell_type": "code",
   "execution_count": null,
   "metadata": {},
   "outputs": [],
   "source": [
    "angle = zumi.read_z_angle()\n",
    "\n",
    "for i in range(20):\n",
    "    #go straight is like aiming and shooting Zumi\n",
    "    zumi.go_straight(20,angle)\n",
    "    #you always needs a delay when using go straight\n",
    "    sleep(0.05)\n",
    "#Stop Zumi\n",
    "zumi.hard_brake()"
   ]
  },
  {
   "cell_type": "code",
   "execution_count": null,
   "metadata": {},
   "outputs": [],
   "source": [
    "angle = zumi.read_z_angle()\n",
    "#make sure NOT to use go_straight as such\n",
    "zumi.go_straight(20,angle)\n",
    "sleep(1)\n",
    "zumi.hard_brake()\n",
    "#this will make zumi drive incorrectly\n",
    "#because one motor will be more powerful\n",
    "#than the other motor\n",
    "#go_straight must be used inside a loop\n",
    "#to constantly update its \"aim\""
   ]
  },
  {
   "cell_type": "markdown",
   "metadata": {},
   "source": [
    "## Go reverse"
   ]
  },
  {
   "cell_type": "code",
   "execution_count": null,
   "metadata": {},
   "outputs": [],
   "source": [
    "#you can also drive reverse\n",
    "angle = zumi.read_z_angle()\n",
    "\n",
    "for i in range(20):\n",
    "    #go straight is like aiming and shooting Zumi\n",
    "    zumi.go_reverse(20,angle)\n",
    "    #you always needs a delay when using go straight\n",
    "    sleep(0.05)\n",
    "#Stop Zumi\n",
    "zumi.hard_brake()"
   ]
  },
  {
   "cell_type": "markdown",
   "metadata": {},
   "source": [
    "## Turning"
   ]
  },
  {
   "cell_type": "code",
   "execution_count": null,
   "metadata": {},
   "outputs": [],
   "source": [
    "#but it may be easier to use the turn functions instead\n",
    "zumi.turn_left(20)\n",
    "#this turns left relative to the angle zumi is facing\n",
    "zumi.turn_right(50)\n",
    "#this turns right relative to the angle zumi is facing"
   ]
  },
  {
   "cell_type": "markdown",
   "metadata": {},
   "source": [
    "## U turn"
   ]
  },
  {
   "cell_type": "code",
   "execution_count": null,
   "metadata": {},
   "outputs": [],
   "source": [
    "zumi.right_u_turn()"
   ]
  },
  {
   "cell_type": "code",
   "execution_count": null,
   "metadata": {},
   "outputs": [],
   "source": [
    "zumi.left_u_turn()"
   ]
  },
  {
   "cell_type": "markdown",
   "metadata": {},
   "source": [
    "## Shapes"
   ]
  },
  {
   "cell_type": "code",
   "execution_count": null,
   "metadata": {},
   "outputs": [],
   "source": [
    "#You can also have Zumi perform Shapes\n",
    "zumi.square()"
   ]
  },
  {
   "cell_type": "code",
   "execution_count": null,
   "metadata": {},
   "outputs": [],
   "source": [
    "zumi.left_circle()"
   ]
  },
  {
   "cell_type": "code",
   "execution_count": null,
   "metadata": {},
   "outputs": [],
   "source": [
    "zumi.triangle()"
   ]
  },
  {
   "cell_type": "code",
   "execution_count": null,
   "metadata": {},
   "outputs": [],
   "source": [
    "zumi.figure_8()"
   ]
  },
  {
   "cell_type": "code",
   "execution_count": null,
   "metadata": {},
   "outputs": [],
   "source": [
    "zumi.rectangle()"
   ]
  }
 ],
 "metadata": {
  "kernelspec": {
   "display_name": "Python 3",
   "language": "python",
   "name": "python3"
  },
  "language_info": {
   "codemirror_mode": {
    "name": "ipython",
    "version": 3
   },
   "file_extension": ".py",
   "mimetype": "text/x-python",
   "name": "python",
   "nbconvert_exporter": "python",
   "pygments_lexer": "ipython3",
   "version": "3.5.3"
  }
 },
 "nbformat": 4,
 "nbformat_minor": 2
}
