{
 "cells": [
  {
   "cell_type": "code",
   "execution_count": 3,
   "metadata": {},
   "outputs": [
    {
     "name": "stdout",
     "output_type": "stream",
     "text": [
      "3.506208911614317\n",
      "Closing PiCamera\n"
     ]
    }
   ],
   "source": [
    "#this is just a simple program \n",
    "#that drives forward till it sees the stop sign\n",
    "#and turns around and drives away\n",
    "from zumi.util.camera import Camera\n",
    "import cv2\n",
    "import IPython.display\n",
    "import PIL.Image\n",
    "from time import sleep\n",
    "\n",
    "stop_sign_path = \"stop.xml\"\n",
    "#credit to https://github.com/cfizette/road-sign-cascades\n",
    "cascade = cv2.CascadeClassifier(stop_sign_path)\n",
    "#YOU NEED ^^^ THIS FILE ^^^ DOWNLOAD IT\n",
    "\n",
    "from zumi.util.camera import Camera\n",
    "from zumi.zumi import Zumi\n",
    "import time\n",
    "\n",
    "zumi = Zumi()\n",
    "zumi.reset_gyro()\n",
    "#now lets try driving\n",
    "width = 80  #width pixel of image\n",
    "height = 60 #height pixels of image \n",
    "\n",
    "try:\n",
    "    camera = Camera(width,height)\n",
    "    camera.start_camera()\n",
    "    for i in range(100):\n",
    "        #assume starting at a far away distance\n",
    "        distance = 10\n",
    "        \n",
    "        frame = camera.capture()\n",
    "        gray = cv2.cvtColor(frame, cv2.COLOR_BGR2GRAY)\n",
    "        signs = cascade.detectMultiScale(gray, scaleFactor=1.05, minNeighbors=8, minSize=(10,10), flags=cv2.CASCADE_SCALE_IMAGE)\n",
    "        \n",
    "        for (x,y,w,h) in signs:\n",
    "            area = w*h\n",
    "            distance = width*height/area\n",
    "            #print(distance)\n",
    "            cv2.rectangle(frame, (x,y), (x+w, y+h), (0,0,255), 2)\n",
    "            #draw the x coordinate on the frame\n",
    "            cv2.putText(frame, \"x:\" + format(x), (x, y),\n",
    "                        cv2.FONT_HERSHEY_SIMPLEX, 0.3, (100,255,155), 1, cv2.LINE_AA)\n",
    "            #draw the y coordinate in the frame\n",
    "            cv2.putText(frame, \"y:\" + format(y), (x, y-10),\n",
    "                        cv2.FONT_HERSHEY_SIMPLEX, 0.3, (100,255,155), 1, cv2.LINE_AA) \n",
    "            #only do one\n",
    "            break\n",
    "        if distance >= 4:    \n",
    "            zumi.go_straight(40,0)\n",
    "        if distance < 4:\n",
    "            zumi.stop()\n",
    "            break\n",
    "        \n",
    "        IPython.display.display(PIL.Image.fromarray(frame))\n",
    "        IPython.display.clear_output(wait=True)\n",
    "    zumi.stop()\n",
    "    time.sleep(1)\n",
    "    zumi.turn_left(180)\n",
    "    zumi.forward()\n",
    "        \n",
    "finally:\n",
    "    zumi.stop()\n",
    "    camera.close()"
   ]
  },
  {
   "cell_type": "code",
   "execution_count": null,
   "metadata": {},
   "outputs": [],
   "source": []
  }
 ],
 "metadata": {
  "kernelspec": {
   "display_name": "Python 3",
   "language": "python",
   "name": "python3"
  },
  "language_info": {
   "codemirror_mode": {
    "name": "ipython",
    "version": 3
   },
   "file_extension": ".py",
   "mimetype": "text/x-python",
   "name": "python",
   "nbconvert_exporter": "python",
   "pygments_lexer": "ipython3",
   "version": "3.5.3"
  }
 },
 "nbformat": 4,
 "nbformat_minor": 2
}
