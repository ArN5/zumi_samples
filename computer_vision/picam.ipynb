{
 "cells": [
  {
   "cell_type": "code",
   "execution_count": null,
   "metadata": {},
   "outputs": [],
   "source": [
    "import picamera\n",
    "from time import sleep\n",
    "import IPython.display\n",
    "\n",
    "#sample on how to use the pi camera\n",
    "#without the Zumi camera module\n",
    "\n",
    "camera = picamera.PiCamera()\n",
    "#camera.capture('image.jpg')\n",
    "\n",
    "# camera.start_preview()\n",
    "camera.vflip = True\n",
    "#camera.hflip = True\n",
    "# camera.brightness = 60\n",
    "# camera.stop_preview()\n",
    "\n",
    "\n",
    "\"\"\"\n",
    "        * ``'h264'`` - Write an H.264 video stream\n",
    "        * ``'mjpeg'`` - Write an M-JPEG video stream\n",
    "        * ``'yuv'`` - Write the raw video data to a file in YUV420 format\n",
    "        * ``'rgb'`` - Write the raw video data to a file in 24-bit RGB format\n",
    "        * ``'rgba'`` - Write the raw video data to a file in 32-bit RGBA format\n",
    "        * ``'bgr'`` - Write the raw video data to a file in 24-bit BGR format\n",
    "        * ``'bgra'`` - Write the raw video data to a file in 32-bit BGRA format\n",
    "\"\"\"\n",
    "camera.start_recording(\"video.h264\")\n",
    "#you can find the video file in the folder this program exist\n",
    "sleep(5)\n",
    "camera.stop_recording()\n",
    "camera.close()"
   ]
  },
  {
   "cell_type": "code",
   "execution_count": null,
   "metadata": {},
   "outputs": [],
   "source": [
    "import IPython.display\n",
    "import picamera\n",
    "from time import sleep\n",
    "\n",
    "camera = picamera.PiCamera()\n",
    "camera.vflip = True\n",
    "camera.capture('image.jpg')\n",
    "\n",
    "camera.close()"
   ]
  },
  {
   "cell_type": "code",
   "execution_count": null,
   "metadata": {},
   "outputs": [],
   "source": [
    "#just in case if the camera is still on\n",
    "camera.close()"
   ]
  },
  {
   "cell_type": "code",
   "execution_count": null,
   "metadata": {},
   "outputs": [],
   "source": [
    "#display the image you took\n",
    "IPython.display.Image(\"image.jpg\")"
   ]
  },
  {
   "cell_type": "code",
   "execution_count": null,
   "metadata": {},
   "outputs": [],
   "source": []
  }
 ],
 "metadata": {
  "kernelspec": {
   "display_name": "Python 3",
   "language": "python",
   "name": "python3"
  },
  "language_info": {
   "codemirror_mode": {
    "name": "ipython",
    "version": 3
   },
   "file_extension": ".py",
   "mimetype": "text/x-python",
   "name": "python",
   "nbconvert_exporter": "python",
   "pygments_lexer": "ipython3",
   "version": "3.5.3"
  }
 },
 "nbformat": 4,
 "nbformat_minor": 2
}
