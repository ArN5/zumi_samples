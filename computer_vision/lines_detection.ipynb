{
 "cells": [
  {
   "cell_type": "code",
   "execution_count": 1,
   "metadata": {},
   "outputs": [
    {
     "name": "stdout",
     "output_type": "stream",
     "text": [
      "Starting Zumi \n",
      "Pi Zero I2C is available\n",
      "Verified Pi Zero is the same\n",
      "Gyroscope previously calibrated\n",
      "Zumi board detected\n",
      "Compass detected\n",
      "OLED Screen detected\n",
      "Gyroscope & Accelerometer detected\n"
     ]
    }
   ],
   "source": [
    "from zumi.util.camera import Camera\n",
    "from zumi.util.screen import Screen\n",
    "from zumi.zumi import Zumi\n",
    "import cv2\n",
    "import IPython.display\n",
    "import PIL.Image\n",
    "import time\n",
    "import math\n",
    "import numpy as np\n",
    "from scipy.stats import mode\n",
    "\n",
    "screen = Screen()\n",
    "zumi = Zumi()"
   ]
  },
  {
   "cell_type": "code",
   "execution_count": 2,
   "metadata": {},
   "outputs": [
    {
     "name": "stdout",
     "output_type": "stream",
     "text": [
      "Closing PiCamera\n"
     ]
    },
    {
     "ename": "KeyboardInterrupt",
     "evalue": "",
     "output_type": "error",
     "traceback": [
      "\u001b[0;31m---------------------------------------------------------------------------\u001b[0m",
      "\u001b[0;31mKeyboardInterrupt\u001b[0m                         Traceback (most recent call last)",
      "\u001b[0;32m<ipython-input-2-e3e035f9bc3d>\u001b[0m in \u001b[0;36m<module>\u001b[0;34m\u001b[0m\n\u001b[1;32m     76\u001b[0m         \u001b[0medges\u001b[0m \u001b[0;34m=\u001b[0m \u001b[0mcv2\u001b[0m\u001b[0;34m.\u001b[0m\u001b[0mCanny\u001b[0m\u001b[0;34m(\u001b[0m\u001b[0mgray\u001b[0m\u001b[0;34m,\u001b[0m \u001b[0;36m100\u001b[0m\u001b[0;34m,\u001b[0m \u001b[0;36m200\u001b[0m\u001b[0;34m)\u001b[0m\u001b[0;34m\u001b[0m\u001b[0m\n\u001b[1;32m     77\u001b[0m         \u001b[0medges\u001b[0m \u001b[0;34m=\u001b[0m \u001b[0mcv2\u001b[0m\u001b[0;34m.\u001b[0m\u001b[0mdilate\u001b[0m\u001b[0;34m(\u001b[0m\u001b[0medges\u001b[0m\u001b[0;34m,\u001b[0m \u001b[0;32mNone\u001b[0m\u001b[0;34m)\u001b[0m\u001b[0;34m\u001b[0m\u001b[0m\n\u001b[0;32m---> 78\u001b[0;31m         \u001b[0mlines\u001b[0m \u001b[0;34m=\u001b[0m \u001b[0mcv2\u001b[0m\u001b[0;34m.\u001b[0m\u001b[0mHoughLinesP\u001b[0m\u001b[0;34m(\u001b[0m\u001b[0medges\u001b[0m\u001b[0;34m,\u001b[0m\u001b[0;36m1\u001b[0m\u001b[0;34m,\u001b[0m\u001b[0mnp\u001b[0m\u001b[0;34m.\u001b[0m\u001b[0mpi\u001b[0m\u001b[0;34m/\u001b[0m\u001b[0;36m180\u001b[0m\u001b[0;34m,\u001b[0m\u001b[0;36m100\u001b[0m\u001b[0;34m,\u001b[0m\u001b[0mminLineLength\u001b[0m\u001b[0;34m,\u001b[0m\u001b[0mmaxLineGap\u001b[0m\u001b[0;34m)\u001b[0m\u001b[0;34m\u001b[0m\u001b[0m\n\u001b[0m\u001b[1;32m     79\u001b[0m         \u001b[0;31m#make a black blank small image so you can draw white lines\u001b[0m\u001b[0;34m\u001b[0m\u001b[0;34m\u001b[0m\u001b[0m\n\u001b[1;32m     80\u001b[0m         \u001b[0mret\u001b[0m\u001b[0;34m,\u001b[0m \u001b[0mblank_image\u001b[0m \u001b[0;34m=\u001b[0m \u001b[0mcv2\u001b[0m\u001b[0;34m.\u001b[0m\u001b[0mthreshold\u001b[0m\u001b[0;34m(\u001b[0m\u001b[0mblack_white\u001b[0m\u001b[0;34m,\u001b[0m\u001b[0;36m255\u001b[0m\u001b[0;34m,\u001b[0m\u001b[0;36m255\u001b[0m\u001b[0;34m,\u001b[0m\u001b[0mcv2\u001b[0m\u001b[0;34m.\u001b[0m\u001b[0mTHRESH_BINARY\u001b[0m\u001b[0;34m)\u001b[0m\u001b[0;34m\u001b[0m\u001b[0m\n",
      "\u001b[0;31mKeyboardInterrupt\u001b[0m: "
     ]
    }
   ],
   "source": [
    "from zumi.util.camera import Camera\n",
    "from zumi.util.screen import Screen\n",
    "from zumi.zumi import Zumi\n",
    "import cv2\n",
    "import IPython.display\n",
    "import PIL.Image\n",
    "import time\n",
    "import math\n",
    "import numpy as np\n",
    "from scipy.stats import mode\n",
    "\n",
    "screen = Screen()\n",
    "zumi = Zumi()\n",
    "\n",
    "#width = 1280\n",
    "#height = 960\n",
    "\n",
    "#width = 640\n",
    "#height = 480\n",
    "\n",
    "#width = 320\n",
    "#height = 240\n",
    "\n",
    "width = 160 \n",
    "height = 120\n",
    "\n",
    "#width = 80\n",
    "#height = 60\n",
    "\n",
    "camera = Camera(width,height)\n",
    "camera.start_camera()\n",
    "\n",
    "black_white_threshold = 100\n",
    "minLineLength = 20\n",
    "maxLineGap = 15\n",
    "\n",
    "#given a list of lines\n",
    "def find_avg_line_angle(lines,image):\n",
    "    angle_thresh = 30\n",
    "    avg_angle = None\n",
    "    if lines is not None:\n",
    "        lst = []\n",
    "        cnt_x_points = []\n",
    "        cnt_y_points = []\n",
    "        for i in range(len(lines)):\n",
    "            for x1,y1,x2,y2 in lines[i-1]: \n",
    "                radians = math.atan2((x2-x1),(y2-y1))\n",
    "                degrees = math.degrees(radians)\n",
    "                \n",
    "                #filter the angles between 70 and 110 degrees\n",
    "                if degrees > 90-angle_thresh and degrees < 90+angle_thresh: \n",
    "                    lst.append(degrees)\n",
    "                    cv2.line(image,(x1,y1),(x2,y2),(255,255,255),1)\n",
    "                    center_x_point = (x2-x1)/2\n",
    "                    center_y_point = (y2-y1)/2\n",
    "                    cnt_x_points.append(center_x_point)\n",
    "                    cnt_y_points.append(center_y_point)                   \n",
    "        if(len(lst)):\n",
    "            avg_angle = sum(lst) / len(lst)    \n",
    "        return avg_angle\n",
    "\n",
    "\n",
    "try: \n",
    "    while True:\n",
    "\n",
    "        image = camera.capture() # Take a picture \n",
    "        #focus only on the bottom half and extra of the image\n",
    "        #image = image[int(height/1.5):int(height/1.5)+height, 0:width]\n",
    "\n",
    "        gray = cv2.cvtColor(image, cv2.COLOR_BGR2GRAY) # Convert it to gray\n",
    "        #gray = cv2.bilateralFilter(gray,9,75,75)\n",
    "        #ret, black_white = cv2.threshold(gray,black_white_threshold,255,cv2.THRESH_BINARY+cv2.THRESH_OTSU) \n",
    "        black_white = cv2.adaptiveThreshold(gray,255,cv2.ADAPTIVE_THRESH_GAUSSIAN_C,\n",
    "                                            cv2.THRESH_BINARY_INV,7,4)\n",
    "        \n",
    "        edges = cv2.Canny(gray, 100, 200)\n",
    "        edges = cv2.dilate(edges, None)\n",
    "        lines = cv2.HoughLinesP(edges,1,np.pi/180,100,minLineLength,maxLineGap)\n",
    "        #make a black blank small image so you can draw white lines\n",
    "        ret, blank_image = cv2.threshold(black_white,255,255,cv2.THRESH_BINARY)\n",
    "        \n",
    "        avg_angle = find_avg_line_angle(lines,blank_image)\n",
    "            \n",
    "        #print(mode(lst)[0])\n",
    "        cv2.putText(blank_image, \"ang:\" + format(avg_angle), (int(width/2), height-10), \n",
    "                    cv2.FONT_HERSHEY_SIMPLEX, 0.3, (255,255,255), 1, cv2.LINE_AA)  \n",
    "\n",
    "        #edges = cv2.dilate(edges, None)\n",
    "        #find_contours(black_white)\n",
    "        #IPython.display.display(PIL.Image.fromarray(gray))\n",
    "        IPython.display.display(PIL.Image.fromarray(black_white))\n",
    "        IPython.display.display(PIL.Image.fromarray(edges))\n",
    "        IPython.display.display(PIL.Image.fromarray(blank_image))\n",
    "        IPython.display.clear_output(wait=True)\n",
    "        \n",
    "finally:\n",
    "    camera.close()\n",
    "    zumi.stop()"
   ]
  },
  {
   "cell_type": "code",
   "execution_count": null,
   "metadata": {},
   "outputs": [],
   "source": []
  },
  {
   "cell_type": "code",
   "execution_count": null,
   "metadata": {},
   "outputs": [],
   "source": []
  }
 ],
 "metadata": {
  "kernelspec": {
   "display_name": "Python 3",
   "language": "python",
   "name": "python3"
  },
  "language_info": {
   "codemirror_mode": {
    "name": "ipython",
    "version": 3
   },
   "file_extension": ".py",
   "mimetype": "text/x-python",
   "name": "python",
   "nbconvert_exporter": "python",
   "pygments_lexer": "ipython3",
   "version": "3.5.3"
  }
 },
 "nbformat": 4,
 "nbformat_minor": 2
}
