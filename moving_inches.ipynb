{
 "cells": [
  {
   "cell_type": "code",
   "execution_count": 1,
   "metadata": {},
   "outputs": [
    {
     "name": "stdout",
     "output_type": "stream",
     "text": [
      " Starting Zumi \n",
      "Pi Zero I2C is available\n",
      "Verified Pi Zero is the same\n",
      "Gyroscope previously calibrated\n",
      "Zumi board detected\n",
      "Compass detected\n",
      "OLED Screen detected\n",
      "Gyroscope & Accelerometer detected\n",
      "Creating new offset file...\n",
      ".\n",
      ".\n"
     ]
    }
   ],
   "source": [
    "from zumi.zumi import Zumi\n",
    "import time\n",
    "\n",
    "zumi = Zumi()\n",
    "#motors commands and sensor commands\n",
    "\n",
    "zumi.mpu.calibrate_MPU()"
   ]
  },
  {
   "cell_type": "code",
   "execution_count": 2,
   "metadata": {},
   "outputs": [],
   "source": [
    "def move_in_inches(distance):\n",
    "    #adjust these values in order to make \n",
    "    #Zumi drive a specified distance\n",
    "    predicted_inches_per_seconds = 8\n",
    "    slope_intercept = 1.1\n",
    "    time = (distance+slope_intercept)/predicted_inches_per_seconds\n",
    "    zumi.forward(40,time)\n",
    "    \n",
    "move_in_inches(20)"
   ]
  }
 ],
 "metadata": {
  "kernelspec": {
   "display_name": "Python 3",
   "language": "python",
   "name": "python3"
  },
  "language_info": {
   "codemirror_mode": {
    "name": "ipython",
    "version": 3
   },
   "file_extension": ".py",
   "mimetype": "text/x-python",
   "name": "python",
   "nbconvert_exporter": "python",
   "pygments_lexer": "ipython3",
   "version": "3.5.3"
  }
 },
 "nbformat": 4,
 "nbformat_minor": 2
}
