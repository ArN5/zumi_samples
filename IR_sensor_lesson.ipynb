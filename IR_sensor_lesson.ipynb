{
 "cells": [
  {
   "cell_type": "code",
   "execution_count": 4,
   "metadata": {},
   "outputs": [
    {
     "name": "stdout",
     "output_type": "stream",
     "text": [
      " Starting Zumi \n",
      "Pi Zero I2C is available\n",
      "Verified Pi Zero is the same\n",
      "Gyroscope previously calibrated\n",
      "Zumi board detected\n",
      "Compass detected\n",
      "OLED Screen detected\n",
      "Gyroscope & Accelerometer detected\n"
     ]
    }
   ],
   "source": [
    "from zumi.zumi import Zumi\n",
    "import time\n",
    "from zumi.util.screen import Screen\n",
    "import IPython.display\n",
    "\n",
    "zumi = Zumi()"
   ]
  },
  {
   "cell_type": "code",
   "execution_count": 5,
   "metadata": {},
   "outputs": [
    {
     "name": "stdout",
     "output_type": "stream",
     "text": [
      "[242, 11, 207, 12, 140, 246]\n"
     ]
    }
   ],
   "source": [
    "for i in range(0,100):\n",
    "    ir_readings = zumi.get_all_IR_data()\n",
    "    print(ir_readings)\n",
    "    \n",
    "    # get_all_IR_data() returns a list of 6 elements\n",
    "    # this list contains the readings\n",
    "    # of the 6 IR sensors\n",
    "    # ir_readings[0] = front right\n",
    "    # ir_readings[1] = bottom right\n",
    "    # ir_readings[2] = back right\n",
    "    # ir_readings[3] = bottom left\n",
    "    # ir_readings[4] = back left\n",
    "    # ir_readings[5] = front left\n",
    "\n",
    "    # Make sure to pause\n",
    "    time.sleep(0.1)\n",
    "    IPython.display.clear_output(wait=True) \n",
    "    #set the sleep to 0.1 seconds you can make faster readings\n",
    "    #0.05 seconds is shortest delay you can use for reading the IR\n",
    "    #this is because on the Zumi board the arduino \n",
    "    #updates the sensor every 0.05s"
   ]
  },
  {
   "cell_type": "code",
   "execution_count": 14,
   "metadata": {},
   "outputs": [],
   "source": [
    "#you can also combine the buzzer and the IR sensor \n",
    "#to make music / proximity sensor\n",
    "#place you hand in front of zumi's right IR sensor\n",
    "for i in range(0,100):\n",
    "    # note can be a number between 0-60\n",
    "    ir_readings = zumi.get_all_IR_data()\n",
    "    zumi.play_note(int(ir_readings[0]/4),20)\n",
    "    # ir_readings[0] = front right\n",
    "    # Make sure to pause\n",
    "    time.sleep(0.05)"
   ]
  },
  {
   "cell_type": "code",
   "execution_count": 22,
   "metadata": {},
   "outputs": [
    {
     "name": "stdout",
     "output_type": "stream",
     "text": [
      "left: max  248  min  19\n",
      "right: max  244  min  14\n"
     ]
    }
   ],
   "source": [
    "#use this program in order to find the \n",
    "#max and min values of your \n",
    "#front left and right IR sensors\n",
    "\n",
    "left_list = []\n",
    "right_list = []\n",
    "\n",
    "for i in range(0,200):\n",
    "    # note can be a number between 0-60\n",
    "    ir_readings = zumi.get_all_IR_data()\n",
    "\n",
    "    left_list.append(ir_readings[5])\n",
    "    right_list.append(ir_readings[0])\n",
    "    print(\"right= \" ,ir_readings[0], \" left= \", ir_readings[5])\n",
    "    IPython.display.clear_output(wait=True)\n",
    "    \n",
    "print(\"left: max \", max(left_list), \" min \",min(left_list))\n",
    "print(\"right: max \", max(right_list), \" min \",min(right_list))"
   ]
  },
  {
   "cell_type": "code",
   "execution_count": 24,
   "metadata": {},
   "outputs": [
    {
     "name": "stdout",
     "output_type": "stream",
     "text": [
      "done\n"
     ]
    }
   ],
   "source": [
    "#you can also avoid crashing into walls\n",
    "\n",
    "#this is the angle zumi will try to \n",
    "#drive forward unless something is ahead\n",
    "#make sure not to pick up zumi as it will mess up the heading\n",
    "heading = 0\n",
    "\n",
    "time_start = time.time()\n",
    "time_elapsed = 0\n",
    "\n",
    "#the sensitivity of the ir sensors\n",
    "min_ir_threshold = 200\n",
    "\n",
    "#make sure to reset the gyro \n",
    "#since we are using go_straight()\n",
    "zumi.reset_gyro()\n",
    "\n",
    "try:\n",
    "    # repeat for 10 seconds\n",
    "    while time_elapsed < 10:\n",
    "\n",
    "        time_elapsed = time.time()-time_start\n",
    "        ir_readings = zumi.get_all_IR_data()\n",
    "        front_right_ir = ir_readings[0]\n",
    "        front_left_ir = ir_readings[5]\n",
    "\n",
    "        if front_left_ir < min_ir_threshold or front_right_ir < min_ir_threshold:\n",
    "            print(\"something ahead\")\n",
    "            zumi.stop()\n",
    "        else:\n",
    "            print(\"nothing ahead\")\n",
    "            zumi.go_straight(30, heading, 60)\n",
    "\n",
    "        IPython.display.clear_output(wait=True) \n",
    "finally:\n",
    "    zumi.stop()\n",
    "    print(\"done\")\n"
   ]
  },
  {
   "cell_type": "code",
   "execution_count": 28,
   "metadata": {},
   "outputs": [
    {
     "name": "stdout",
     "output_type": "stream",
     "text": [
      "done\n"
     ]
    }
   ],
   "source": [
    "\n",
    "#you can also avoid crashing into walls\n",
    "\n",
    "#this is the angle zumi will try to drive to\n",
    "#it will constantly change depending on what zumi see's\n",
    "heading = 0\n",
    "\n",
    "time_start = time.time()\n",
    "time_elapsed = 0\n",
    "\n",
    "#the sensitivity of the ir sensors\n",
    "min_ir_threshold = 180\n",
    "\n",
    "#make sure to reset the gyro \n",
    "#since we are using go_straight()\n",
    "zumi.reset_gyro()\n",
    "\n",
    "#how much you want zumi to turn each \n",
    "#time it detects something\n",
    "turn_degrees = 5\n",
    "\n",
    "try:\n",
    "    # repeat for 10 seconds\n",
    "    while time_elapsed < 10:\n",
    "\n",
    "        time_elapsed = time.time()-time_start\n",
    "        ir_readings = zumi.get_all_IR_data()\n",
    "        front_right_ir = ir_readings[0]\n",
    "        front_left_ir = ir_readings[5]\n",
    "\n",
    "        if front_left_ir < min_ir_threshold and front_right_ir < min_ir_threshold:\n",
    "            print(\"something ahead\")\n",
    "            zumi.stop(0)\n",
    "            time.sleep(0.5)\n",
    "            zumi.reverse(40, 0.5, heading)\n",
    "            zumi.stop(0)\n",
    "            time.sleep(0.5)\n",
    "            for i in range (0,180):\n",
    "                zumi.go_straight(0, heading-i, 100)\n",
    "            heading = heading - 180\n",
    "            zumi.turn(heading)\n",
    "        elif front_right_ir < min_ir_threshold:\n",
    "            print(\"something on right\")\n",
    "            heading = heading + turn_degrees\n",
    "\n",
    "        elif front_left_ir < min_ir_threshold:\n",
    "            print(\"something on left\")\n",
    "            heading = heading - turn_degrees\n",
    "\n",
    "        zumi.go_straight(30, heading, 60)\n",
    "        IPython.display.clear_output(wait=True)\n",
    "        \n",
    "finally:\n",
    "    zumi.stop(0)\n",
    "    print(\"done\")\n"
   ]
  },
  {
   "cell_type": "code",
   "execution_count": null,
   "metadata": {},
   "outputs": [],
   "source": []
  }
 ],
 "metadata": {
  "kernelspec": {
   "display_name": "Python 3",
   "language": "python",
   "name": "python3"
  },
  "language_info": {
   "codemirror_mode": {
    "name": "ipython",
    "version": 3
   },
   "file_extension": ".py",
   "mimetype": "text/x-python",
   "name": "python",
   "nbconvert_exporter": "python",
   "pygments_lexer": "ipython3",
   "version": "3.5.3"
  }
 },
 "nbformat": 4,
 "nbformat_minor": 2
}
