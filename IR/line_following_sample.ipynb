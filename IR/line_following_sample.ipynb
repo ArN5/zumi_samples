{
 "cells": [
  {
   "cell_type": "code",
   "execution_count": 1,
   "metadata": {},
   "outputs": [
    {
     "name": "stdout",
     "output_type": "stream",
     "text": [
      "Starting Zumi \n",
      "Pi Zero I2C is available\n",
      "Verified Pi Zero is the same\n",
      "Gyroscope previously calibrated\n",
      "Zumi board detected\n",
      "Compass detected\n",
      "OLED Screen detected\n",
      "Gyroscope & Accelerometer detected\n"
     ]
    }
   ],
   "source": [
    "from zumi.zumi import Zumi\n",
    "import time\n",
    "zumi = Zumi()"
   ]
  },
  {
   "cell_type": "code",
   "execution_count": 9,
   "metadata": {},
   "outputs": [],
   "source": [
    "time_out = 3\n",
    "#Will follow a black line for 3 seconds\n",
    "#will stop if the black line ends\n",
    "zumi.line_follower(time_out)"
   ]
  },
  {
   "cell_type": "code",
   "execution_count": 11,
   "metadata": {},
   "outputs": [],
   "source": [
    "time_out = 3\n",
    "speed = 40\n",
    "zumi.line_follower(time_out,speed)\n",
    "\n",
    "#def line_follower(self, time_out, speed=10, left_thresh=100, right_thresh=100, diff_threshold=100):\n",
    "# this method will try to follow a black line on a white floor.\n",
    "# if both ir sensors detect white, Zumi will stop.\n",
    "# timeout is the amount of time you want to do line following\n",
    "# speed is base speed the motors will go forward at.\n",
    "# try to use a small speed like 20 ~ 50. \n",
    "# left thresh is the left bottom ir threshold the sensor adjust if necessary\n",
    "# right thresh is the right bottom ir threshold the sensor adjust if necessary\n",
    "# both threholds go from 0-255.\n",
    "# diff_threshold is the difference between the left and right ir sensors"
   ]
  },
  {
   "cell_type": "code",
   "execution_count": null,
   "metadata": {},
   "outputs": [],
   "source": []
  }
 ],
 "metadata": {
  "kernelspec": {
   "display_name": "Python 3",
   "language": "python",
   "name": "python3"
  },
  "language_info": {
   "codemirror_mode": {
    "name": "ipython",
    "version": 3
   },
   "file_extension": ".py",
   "mimetype": "text/x-python",
   "name": "python",
   "nbconvert_exporter": "python",
   "pygments_lexer": "ipython3",
   "version": "3.5.3"
  }
 },
 "nbformat": 4,
 "nbformat_minor": 2
}
