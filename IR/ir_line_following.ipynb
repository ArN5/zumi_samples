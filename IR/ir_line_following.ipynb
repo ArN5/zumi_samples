{
 "cells": [
  {
   "cell_type": "code",
   "execution_count": 9,
   "metadata": {},
   "outputs": [
    {
     "name": "stdout",
     "output_type": "stream",
     "text": [
      "Starting Zumi \n",
      "Pi Zero I2C is available\n",
      "Verified Pi Zero is the same\n",
      "Gyroscope previously calibrated\n",
      "Zumi board detected\n",
      "Compass detected\n",
      "OLED Screen detected\n",
      "Gyroscope & Accelerometer detected\n",
      "starting\n",
      "done\n"
     ]
    }
   ],
   "source": [
    "#this program will try to follow a \n",
    "#black line (some black electrical tape)\n",
    "#on a white foam board.\n",
    "#you can try with different materials.\n",
    "\n",
    "from zumi.zumi import Zumi\n",
    "import time\n",
    "\n",
    "zumi = Zumi()\n",
    "\n",
    "#time program will last\n",
    "time_out =10\n",
    "time_passed = 0\n",
    "init_time = time.time()\n",
    "#threshold for right and left bottom ir sensors\n",
    "th1 = 100\n",
    "th2 = 100\n",
    "#remember the ir sensor is saved as a \n",
    "#byte which is 8 bits 2^8-1 = 255\n",
    "#so choose a threshold that is between 0 - 255\n",
    "#also both IR sensor will vary from each other \n",
    "#so the threshold may be different\n",
    "\n",
    "#this is the basic line following program\n",
    "try:\n",
    "    print(\"starting\")\n",
    "    while(time_passed <= time_out):\n",
    "        #grab ir values\n",
    "        ir_readings = zumi.get_all_IR_data()\n",
    "        \n",
    "        #make the ir values binary/true or false\n",
    "        if ir_readings[1] > th1:\n",
    "            bottom_right_ir = True\n",
    "        else:\n",
    "            bottom_right_ir = False\n",
    "\n",
    "        if ir_readings[3] > th1:\n",
    "            bottom_left_ir = True\n",
    "        else:\n",
    "            bottom_left_ir = False\n",
    "            \n",
    "        #now you have 4 states for the 2 IR sensors\n",
    "        if bottom_right_ir and bottom_left_ir:\n",
    "            zumi.control_motors(10,10)\n",
    "            #both detecting black line\n",
    "        elif bottom_right_ir and not bottom_left_ir:\n",
    "            zumi.control_motors(10,50)\n",
    "            #right side detecting black line\n",
    "        elif not bottom_right_ir and bottom_left_ir:\n",
    "            zumi.control_motors(50,10)\n",
    "            #left side detecting black line \n",
    "        elif not bottom_right_ir and not bottom_left_ir:\n",
    "            zumi.stop()\n",
    "            #no black line detected at all. \n",
    "            \n",
    "        #update the time passed\n",
    "        time_passed = time.time()-init_time\n",
    "\n",
    "finally:\n",
    "    zumi.stop()\n",
    "    print(\"done\")\n"
   ]
  },
  {
   "cell_type": "code",
   "execution_count": 1,
   "metadata": {},
   "outputs": [
    {
     "name": "stdout",
     "output_type": "stream",
     "text": [
      "Starting Zumi \n",
      "Pi Zero I2C is available\n",
      "Verified Pi Zero is the same\n",
      "Gyroscope previously calibrated\n",
      "Zumi board detected\n",
      "Compass detected\n",
      "OLED Screen detected\n",
      "Gyroscope & Accelerometer detected\n"
     ]
    }
   ],
   "source": [
    "from zumi.zumi import Zumi\n",
    "import time\n",
    "zumi = Zumi()\n",
    "\n",
    "def line_follower(time_out,speed = 5,left_thresh=100,right_thresh=100, gain = 0.1):\n",
    "    #this method will try to follow a black line on a white floor.\n",
    "    #if both ir sensors detect white the Zumi will stop.\n",
    "    #timeout is the amount of time you want to do line following\n",
    "    #speed is base speed the motors will go forward at.\n",
    "    #left thresh is the left bottom ir threshold the sensor\n",
    "    #goes from 0-255 so its like a cuttoff point\n",
    "    #same for right thresh but for right bottom ir sensor\n",
    "    #gain is how sensitive your line following code will \n",
    "    #be to difference between the left and right ir sensors\n",
    "    #if your Zumi shakes a lot left to right then try to make the gain smaller\n",
    "    #if your zumi cant make sharp turns increase the gain by +0.1\n",
    "    time_passed = 0\n",
    "    init_time = time.time()\n",
    "    try:\n",
    "        while(time_passed <= time_out):\n",
    "            ir_readings = zumi.get_all_IR_data()\n",
    "            left_bottom_ir = ir_readings[3]\n",
    "            right_bottom_ir = ir_readings[1]\n",
    "            \n",
    "            #this is the difference between the left and right ir sensor\n",
    "            #when the left value is bigger than the right then the diff will be positive\n",
    "            #if the right value if bigger than the left then the diff will be negative\n",
    "            diff = int((left_bottom_ir - right_bottom_ir)*gain)\n",
    "\n",
    "            if left_bottom_ir < left_thresh and right_bottom_ir < right_thresh:\n",
    "                #if both ir sensors detect white then we stop\n",
    "                zumi.stop()\n",
    "            elif diff > 1:\n",
    "                zumi.control_motors(speed+diff,speed)\n",
    "            elif diff < 1:\n",
    "                zumi.control_motors(speed,speed+abs(diff))\n",
    "            else:\n",
    "                #if the difference is close to 0 lets just drive forward\n",
    "                zumi.control_motors(10+diff,10-diff)\n",
    "            #update the time passed\n",
    "            time_passed = time.time()-init_time\n",
    "    finally:\n",
    "        #always have a stop at the end of code with control motors\n",
    "        zumi.stop()\n",
    "\n",
    "#run the function for 60 seconds\n",
    "line_follower(10)"
   ]
  },
  {
   "cell_type": "code",
   "execution_count": 12,
   "metadata": {},
   "outputs": [
    {
     "name": "stdout",
     "output_type": "stream",
     "text": [
      "Starting Zumi \n",
      "Pi Zero I2C is available\n",
      "Verified Pi Zero is the same\n",
      "Gyroscope previously calibrated\n",
      "Zumi board detected\n",
      "Compass detected\n",
      "OLED Screen detected\n",
      "Gyroscope & Accelerometer detected\n"
     ]
    },
    {
     "data": {
      "image/png": "[encoded data removed]",
      "text/plain": [
       "<Figure size 432x288 with 1 Axes>"
      ]
     },
     "metadata": {
      "needs_background": "light"
     },
     "output_type": "display_data"
    },
    {
     "data": {
      "image/png": "[encoded data removed]",
      "text/plain": [
       "<Figure size 432x288 with 1 Axes>"
      ]
     },
     "metadata": {
      "needs_background": "light"
     },
     "output_type": "display_data"
    },
    {
     "data": {
      "image/png": "[encoded data removed]",
      "text/plain": [
       "<Figure size 432x288 with 1 Axes>"
      ]
     },
     "metadata": {
      "needs_background": "light"
     },
     "output_type": "display_data"
    }
   ],
   "source": [
    "from zumi.zumi import Zumi\n",
    "import matplotlib\n",
    "import matplotlib.pyplot as plt\n",
    "import time\n",
    "zumi = Zumi()\n",
    "\n",
    "def line_follower(time_out,speed = 5,left_thresh=100,right_thresh=100, gain = 0.1):\n",
    "    time_list = []\n",
    "    r_bott_list = []\n",
    "    l_bott_list = []\n",
    "    ir_diff_list = []\n",
    "    bin_ir = []\n",
    "    #this method will try to follow a black line on a white floor.\n",
    "    #if both ir sensors detect white the Zumi will stop.\n",
    "    #timeout is the amount of time you want to do line following\n",
    "    #speed is base speed the motors will go forward at.\n",
    "    #left thresh is the left bottom ir threshold the sensor\n",
    "    #goes from 0-255 so its like a cuttoff point\n",
    "    #same for right thresh but for right bottom ir sensor\n",
    "    #gain is how sensitive your line following code will \n",
    "    #be to difference between the left and right ir sensors\n",
    "    #if your Zumi shakes a lot left to right then try to make the gain smaller\n",
    "    #if your zumi cant make sharp turns increase the gain by +0.1\n",
    "    time_passed = 0\n",
    "    init_time = time.time()\n",
    "    try:\n",
    "        while(time_passed <= time_out):\n",
    "            ir_readings = zumi.get_all_IR_data()\n",
    "            left_bottom_ir = ir_readings[3]\n",
    "            right_bottom_ir = ir_readings[1]\n",
    "            bottom_right_ir = ir_readings[1]\n",
    "            bottom_left_ir = ir_readings[3]\n",
    "            r_bott_list.append(bottom_right_ir)\n",
    "            l_bott_list.append(bottom_left_ir)\n",
    "            \n",
    "            #this is the difference between the left and right ir sensor\n",
    "            #when the left value is bigger than the right then the diff will be positive\n",
    "            #if the right value if bigger than the left then the diff will be negative\n",
    "            diff = int((left_bottom_ir - right_bottom_ir)*gain)\n",
    "            ir_diff_list.append(left_bottom_ir - right_bottom_ir)\n",
    "            bin_ir.append(diff)\n",
    "            if left_bottom_ir < left_thresh and right_bottom_ir < right_thresh:\n",
    "                #if both ir sensors detect white then we stop\n",
    "                zumi.stop()\n",
    "            elif diff > 1:\n",
    "                zumi.control_motors(speed+diff,speed)\n",
    "            elif diff < 1:\n",
    "                zumi.control_motors(speed,speed+abs(diff))\n",
    "            else:\n",
    "                #if the difference is close to 0 lets just drive forward\n",
    "                zumi.control_motors(10+diff,10-diff)\n",
    "            #update the time passed\n",
    "            time_passed = time.time()-init_time\n",
    "            time_list.append(time_passed)\n",
    "    finally:\n",
    "        #always have a stop at the end of code with control motors\n",
    "        zumi.stop()\n",
    "        plt.plot(time_list,l_bott_list,'ro',time_list,r_bott_list,'bo')\n",
    "        plt.ylabel('bottom ir')\n",
    "        plt.xlabel('time')\n",
    "        plt.show()\n",
    "        plt.plot(time_list,ir_diff_list,'ro')\n",
    "        plt.ylabel('diff ir')\n",
    "        plt.xlabel('time')\n",
    "        plt.show()\n",
    "\n",
    "        plt.plot(time_list,bin_ir,'ro')\n",
    "        plt.ylabel('diff ir')\n",
    "        plt.xlabel('time')\n",
    "        plt.show()\n",
    "\n",
    "#run the function for 60 seconds\n",
    "line_follower(5)"
   ]
  },
  {
   "cell_type": "code",
   "execution_count": null,
   "metadata": {},
   "outputs": [],
   "source": []
  }
 ],
 "metadata": {
  "kernelspec": {
   "display_name": "Python 3",
   "language": "python",
   "name": "python3"
  },
  "language_info": {
   "codemirror_mode": {
    "name": "ipython",
    "version": 3
   },
   "file_extension": ".py",
   "mimetype": "text/x-python",
   "name": "python",
   "nbconvert_exporter": "python",
   "pygments_lexer": "ipython3",
   "version": "3.5.3"
  }
 },
 "nbformat": 4,
 "nbformat_minor": 2
}
