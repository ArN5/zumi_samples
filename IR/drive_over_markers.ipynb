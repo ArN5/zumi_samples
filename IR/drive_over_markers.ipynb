{
 "cells": [
  {
   "cell_type": "code",
   "execution_count": 1,
   "metadata": {},
   "outputs": [
    {
     "name": "stdout",
     "output_type": "stream",
     "text": [
      "Starting Zumi \n",
      "Pi Zero I2C is available\n",
      "Verified Pi Zero is the same\n",
      "Gyroscope previously calibrated\n",
      "Zumi board detected\n",
      "OLED Screen detected\n",
      "Gyroscope & Accelerometer detected\n"
     ]
    }
   ],
   "source": [
    "#this code will only work for zumidashboard version 2.50\n",
    "#which includes the latest library zumi 1.61\n",
    "from zumi.zumi import Zumi\n",
    "\n",
    "zumi = Zumi()\n",
    "\n",
    "#now you can drive over a select amount of road markers\n",
    "#must start off in a black area.\n",
    "zumi.drive_over_markers(5)\n",
    "\n",
    "#This function has 4 parameters\n",
    "#road_markers   = 5\n",
    "#speed          = 40\n",
    "#ir_threshold   = 100\n",
    "#time_out       = 3\n",
    "# Use this method in order to drive over a certain amount of road markers.\n",
    "# The speed can be varied up to the max speed of 80 and a min of 0\n",
    "# The IR threshold will determine the min value which the IR sensor detect\n",
    "# time_out will set the number of seconds before the loop ends.\n",
    "# the road marker are white strips that are perpendicular to Zumi's driving path\n",
    "# the markers must be above a black road in order to work. "
   ]
  },
  {
   "cell_type": "code",
   "execution_count": 5,
   "metadata": {},
   "outputs": [],
   "source": [
    "#avoid making the speed very high\n",
    "zumi.drive_over_markers(3,80)\n",
    "#most likely will overshoot since it has a lot of speed"
   ]
  },
  {
   "cell_type": "code",
   "execution_count": null,
   "metadata": {},
   "outputs": [],
   "source": [
    "#here we set the speed at 10\n",
    "zumi.drive_over_markers(3,10)\n",
    "# the slower the more accurate since it has time to read the IR sensors"
   ]
  },
  {
   "cell_type": "code",
   "execution_count": null,
   "metadata": {},
   "outputs": [],
   "source": [
    "zumi.drive_over_markers(10,80)\n",
    "#if you need to driver over many markers then you should change the timeout\n",
    "#the timeout is the amount of time zumi will be allowed to count markers until it stops\n",
    "#if its counting 10 markers but maybe it takes about 5.3 seconds but the timeout is 3 \n",
    "#zumi wont finish at the right spot"
   ]
  },
  {
   "cell_type": "code",
   "execution_count": null,
   "metadata": {},
   "outputs": [],
   "source": [
    "#so here we will do a timeout of 6 seconds\n",
    "zumi.drive_over_markers(road_markers=10,speed=30,time_out=6)"
   ]
  },
  {
   "cell_type": "code",
   "execution_count": 9,
   "metadata": {},
   "outputs": [],
   "source": [
    "#if zumi cant detect the black line you can adjust the IR threshold\n",
    "zumi.drive_over_markers(road_markers=3,speed=10,ir_threshold=120,time_out=3)"
   ]
  }
 ],
 "metadata": {
  "kernelspec": {
   "display_name": "Python 3",
   "language": "python",
   "name": "python3"
  },
  "language_info": {
   "codemirror_mode": {
    "name": "ipython",
    "version": 3
   },
   "file_extension": ".py",
   "mimetype": "text/x-python",
   "name": "python",
   "nbconvert_exporter": "python",
   "pygments_lexer": "ipython3",
   "version": "3.5.3"
  }
 },
 "nbformat": 4,
 "nbformat_minor": 2
}
